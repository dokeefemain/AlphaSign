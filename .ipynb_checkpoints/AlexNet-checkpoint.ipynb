{
 "cells": [
  {
   "cell_type": "markdown",
   "metadata": {
    "pycharm": {
     "name": "#%% md\n"
    }
   },
   "source": [
    "# AlexNet Implementation"
   ]
  },
  {
   "cell_type": "code",
   "execution_count": 1,
   "metadata": {
    "pycharm": {
     "name": "#%%\n"
    }
   },
   "outputs": [],
   "source": [
    "import pandas as pd\n",
    "import numpy as np\n",
    "from PIL import Image\n",
    "import cv2\n",
    "import tensorflow as tf"
   ]
  },
  {
   "cell_type": "code",
   "execution_count": 2,
   "metadata": {
    "pycharm": {
     "name": "#%%\n"
    },
    "scrolled": true
   },
   "outputs": [
    {
     "data": {
      "text/html": [
       "<div>\n",
       "<style scoped>\n",
       "    .dataframe tbody tr th:only-of-type {\n",
       "        vertical-align: middle;\n",
       "    }\n",
       "\n",
       "    .dataframe tbody tr th {\n",
       "        vertical-align: top;\n",
       "    }\n",
       "\n",
       "    .dataframe thead th {\n",
       "        text-align: right;\n",
       "    }\n",
       "</style>\n",
       "<table border=\"1\" class=\"dataframe\">\n",
       "  <thead>\n",
       "    <tr style=\"text-align: right;\">\n",
       "      <th></th>\n",
       "      <th>Filename</th>\n",
       "      <th>Annotation tag</th>\n",
       "      <th>Upper left corner X</th>\n",
       "      <th>Upper left corner Y</th>\n",
       "      <th>Lower right corner X</th>\n",
       "      <th>Lower right corner Y</th>\n",
       "      <th>Occluded,On another road</th>\n",
       "      <th>Origin file</th>\n",
       "      <th>Origin frame number</th>\n",
       "      <th>Origin track</th>\n",
       "      <th>Origin track frame number</th>\n",
       "    </tr>\n",
       "  </thead>\n",
       "  <tbody>\n",
       "    <tr>\n",
       "      <th>0</th>\n",
       "      <td>aiua120214-0/frameAnnotations-DataLog02142012_...</td>\n",
       "      <td>stop</td>\n",
       "      <td>862</td>\n",
       "      <td>104</td>\n",
       "      <td>916</td>\n",
       "      <td>158</td>\n",
       "      <td>0,0</td>\n",
       "      <td>aiua120214-0/DataLog02142012_external_camera.avi</td>\n",
       "      <td>2667</td>\n",
       "      <td>stop_1330545910.avi</td>\n",
       "      <td>2</td>\n",
       "    </tr>\n",
       "    <tr>\n",
       "      <th>1</th>\n",
       "      <td>aiua120214-0/frameAnnotations-DataLog02142012_...</td>\n",
       "      <td>speedLimitUrdbl</td>\n",
       "      <td>425</td>\n",
       "      <td>197</td>\n",
       "      <td>438</td>\n",
       "      <td>213</td>\n",
       "      <td>0,0</td>\n",
       "      <td>aiua120214-0/DataLog02142012_external_camera.avi</td>\n",
       "      <td>2667</td>\n",
       "      <td>stop_1330545910.avi</td>\n",
       "      <td>2</td>\n",
       "    </tr>\n",
       "    <tr>\n",
       "      <th>2</th>\n",
       "      <td>aiua120214-0/frameAnnotations-DataLog02142012_...</td>\n",
       "      <td>stop</td>\n",
       "      <td>922</td>\n",
       "      <td>88</td>\n",
       "      <td>982</td>\n",
       "      <td>148</td>\n",
       "      <td>1,0</td>\n",
       "      <td>aiua120214-0/DataLog02142012_external_camera.avi</td>\n",
       "      <td>2672</td>\n",
       "      <td>stop_1330545910.avi</td>\n",
       "      <td>7</td>\n",
       "    </tr>\n",
       "    <tr>\n",
       "      <th>3</th>\n",
       "      <td>aiua120214-0/frameAnnotations-DataLog02142012_...</td>\n",
       "      <td>speedLimit25</td>\n",
       "      <td>447</td>\n",
       "      <td>193</td>\n",
       "      <td>461</td>\n",
       "      <td>210</td>\n",
       "      <td>0,0</td>\n",
       "      <td>aiua120214-0/DataLog02142012_external_camera.avi</td>\n",
       "      <td>2672</td>\n",
       "      <td>stop_1330545910.avi</td>\n",
       "      <td>7</td>\n",
       "    </tr>\n",
       "    <tr>\n",
       "      <th>4</th>\n",
       "      <td>aiua120214-0/frameAnnotations-DataLog02142012_...</td>\n",
       "      <td>speedLimit25</td>\n",
       "      <td>469</td>\n",
       "      <td>189</td>\n",
       "      <td>483</td>\n",
       "      <td>207</td>\n",
       "      <td>0,0</td>\n",
       "      <td>aiua120214-0/DataLog02142012_external_camera.avi</td>\n",
       "      <td>2677</td>\n",
       "      <td>stop_1330545910.avi</td>\n",
       "      <td>12</td>\n",
       "    </tr>\n",
       "    <tr>\n",
       "      <th>...</th>\n",
       "      <td>...</td>\n",
       "      <td>...</td>\n",
       "      <td>...</td>\n",
       "      <td>...</td>\n",
       "      <td>...</td>\n",
       "      <td>...</td>\n",
       "      <td>...</td>\n",
       "      <td>...</td>\n",
       "      <td>...</td>\n",
       "      <td>...</td>\n",
       "      <td>...</td>\n",
       "    </tr>\n",
       "    <tr>\n",
       "      <th>7850</th>\n",
       "      <td>vid9/frameAnnotations-MVI_0121.MOV_annotations...</td>\n",
       "      <td>speedLimit35</td>\n",
       "      <td>41</td>\n",
       "      <td>209</td>\n",
       "      <td>65</td>\n",
       "      <td>239</td>\n",
       "      <td>0,0</td>\n",
       "      <td>vid9/MVI_0121.MOV</td>\n",
       "      <td>8813</td>\n",
       "      <td>speedLimit_1324866802.avi</td>\n",
       "      <td>22</td>\n",
       "    </tr>\n",
       "    <tr>\n",
       "      <th>7851</th>\n",
       "      <td>vid9/frameAnnotations-MVI_0121.MOV_annotations...</td>\n",
       "      <td>speedLimit35</td>\n",
       "      <td>526</td>\n",
       "      <td>213</td>\n",
       "      <td>543</td>\n",
       "      <td>233</td>\n",
       "      <td>0,0</td>\n",
       "      <td>vid9/MVI_0121.MOV</td>\n",
       "      <td>8875</td>\n",
       "      <td>speedLimit_1324866807.avi</td>\n",
       "      <td>2</td>\n",
       "    </tr>\n",
       "    <tr>\n",
       "      <th>7852</th>\n",
       "      <td>vid9/frameAnnotations-MVI_0121.MOV_annotations...</td>\n",
       "      <td>speedLimit35</td>\n",
       "      <td>546</td>\n",
       "      <td>208</td>\n",
       "      <td>564</td>\n",
       "      <td>230</td>\n",
       "      <td>0,0</td>\n",
       "      <td>vid9/MVI_0121.MOV</td>\n",
       "      <td>8880</td>\n",
       "      <td>speedLimit_1324866807.avi</td>\n",
       "      <td>7</td>\n",
       "    </tr>\n",
       "    <tr>\n",
       "      <th>7853</th>\n",
       "      <td>vid9/frameAnnotations-MVI_0121.MOV_annotations...</td>\n",
       "      <td>speedLimit35</td>\n",
       "      <td>573</td>\n",
       "      <td>204</td>\n",
       "      <td>592</td>\n",
       "      <td>228</td>\n",
       "      <td>0,0</td>\n",
       "      <td>vid9/MVI_0121.MOV</td>\n",
       "      <td>8885</td>\n",
       "      <td>speedLimit_1324866807.avi</td>\n",
       "      <td>12</td>\n",
       "    </tr>\n",
       "    <tr>\n",
       "      <th>7854</th>\n",
       "      <td>vid9/frameAnnotations-MVI_0121.MOV_annotations...</td>\n",
       "      <td>speedLimit35</td>\n",
       "      <td>604</td>\n",
       "      <td>196</td>\n",
       "      <td>628</td>\n",
       "      <td>223</td>\n",
       "      <td>0,0</td>\n",
       "      <td>vid9/MVI_0121.MOV</td>\n",
       "      <td>8890</td>\n",
       "      <td>speedLimit_1324866807.avi</td>\n",
       "      <td>17</td>\n",
       "    </tr>\n",
       "  </tbody>\n",
       "</table>\n",
       "<p>7855 rows × 11 columns</p>\n",
       "</div>"
      ],
      "text/plain": [
       "                                               Filename   Annotation tag  \\\n",
       "0     aiua120214-0/frameAnnotations-DataLog02142012_...             stop   \n",
       "1     aiua120214-0/frameAnnotations-DataLog02142012_...  speedLimitUrdbl   \n",
       "2     aiua120214-0/frameAnnotations-DataLog02142012_...             stop   \n",
       "3     aiua120214-0/frameAnnotations-DataLog02142012_...     speedLimit25   \n",
       "4     aiua120214-0/frameAnnotations-DataLog02142012_...     speedLimit25   \n",
       "...                                                 ...              ...   \n",
       "7850  vid9/frameAnnotations-MVI_0121.MOV_annotations...     speedLimit35   \n",
       "7851  vid9/frameAnnotations-MVI_0121.MOV_annotations...     speedLimit35   \n",
       "7852  vid9/frameAnnotations-MVI_0121.MOV_annotations...     speedLimit35   \n",
       "7853  vid9/frameAnnotations-MVI_0121.MOV_annotations...     speedLimit35   \n",
       "7854  vid9/frameAnnotations-MVI_0121.MOV_annotations...     speedLimit35   \n",
       "\n",
       "      Upper left corner X  Upper left corner Y  Lower right corner X  \\\n",
       "0                     862                  104                   916   \n",
       "1                     425                  197                   438   \n",
       "2                     922                   88                   982   \n",
       "3                     447                  193                   461   \n",
       "4                     469                  189                   483   \n",
       "...                   ...                  ...                   ...   \n",
       "7850                   41                  209                    65   \n",
       "7851                  526                  213                   543   \n",
       "7852                  546                  208                   564   \n",
       "7853                  573                  204                   592   \n",
       "7854                  604                  196                   628   \n",
       "\n",
       "      Lower right corner Y Occluded,On another road  \\\n",
       "0                      158                      0,0   \n",
       "1                      213                      0,0   \n",
       "2                      148                      1,0   \n",
       "3                      210                      0,0   \n",
       "4                      207                      0,0   \n",
       "...                    ...                      ...   \n",
       "7850                   239                      0,0   \n",
       "7851                   233                      0,0   \n",
       "7852                   230                      0,0   \n",
       "7853                   228                      0,0   \n",
       "7854                   223                      0,0   \n",
       "\n",
       "                                           Origin file  Origin frame number  \\\n",
       "0     aiua120214-0/DataLog02142012_external_camera.avi                 2667   \n",
       "1     aiua120214-0/DataLog02142012_external_camera.avi                 2667   \n",
       "2     aiua120214-0/DataLog02142012_external_camera.avi                 2672   \n",
       "3     aiua120214-0/DataLog02142012_external_camera.avi                 2672   \n",
       "4     aiua120214-0/DataLog02142012_external_camera.avi                 2677   \n",
       "...                                                ...                  ...   \n",
       "7850                                 vid9/MVI_0121.MOV                 8813   \n",
       "7851                                 vid9/MVI_0121.MOV                 8875   \n",
       "7852                                 vid9/MVI_0121.MOV                 8880   \n",
       "7853                                 vid9/MVI_0121.MOV                 8885   \n",
       "7854                                 vid9/MVI_0121.MOV                 8890   \n",
       "\n",
       "                   Origin track  Origin track frame number  \n",
       "0           stop_1330545910.avi                          2  \n",
       "1           stop_1330545910.avi                          2  \n",
       "2           stop_1330545910.avi                          7  \n",
       "3           stop_1330545910.avi                          7  \n",
       "4           stop_1330545910.avi                         12  \n",
       "...                         ...                        ...  \n",
       "7850  speedLimit_1324866802.avi                         22  \n",
       "7851  speedLimit_1324866807.avi                          2  \n",
       "7852  speedLimit_1324866807.avi                          7  \n",
       "7853  speedLimit_1324866807.avi                         12  \n",
       "7854  speedLimit_1324866807.avi                         17  \n",
       "\n",
       "[7855 rows x 11 columns]"
      ]
     },
     "execution_count": 2,
     "metadata": {},
     "output_type": "execute_result"
    }
   ],
   "source": [
    "all_ann = pd.read_csv(\"lib/datasets/LISA/allAnnotations.csv\", delimiter=';')\n",
    "all_ann"
   ]
  },
  {
   "cell_type": "code",
   "execution_count": 6,
   "metadata": {
    "pycharm": {
     "name": "#%%\n"
    }
   },
   "outputs": [],
   "source": [
    "#max image size\n",
    "# gt 260 400\n",
    "height = 227\n",
    "width = 227\n",
    "data = []\n",
    "labels = []\n",
    "path = \"lib/datasets/LISA/\"\n",
    "test = 0\n",
    "import random\n",
    "sub_sample = random.sample(list(range(len(all_ann[\"Filename\"]))), k=len(all_ann[\"Filename\"])-2000) # The data set is too big for my PC\n",
    "for i in sub_sample:\n",
    "    file = all_ann[\"Filename\"][i]\n",
    "    sign = all_ann[\"Annotation tag\"][i]\n",
    "    image = Image.open(path+file)\n",
    "    image = image.resize((width,height))\n",
    "    image = np.asarray(image)\n",
    "    data.append(image)\n",
    "    labels.append(sign)"
   ]
  },
  {
   "cell_type": "code",
   "execution_count": 8,
   "metadata": {},
   "outputs": [],
   "source": [
    "# 1k random samples of images with no signs\n",
    "with open(\"lib/datasets/LISA/negatives/negatives.dat\") as f:\n",
    "    negatives = [line.rstrip('\\n') for line in f]\n",
    "path_n = \"lib/datasets/LISA/negatives/\"\n",
    "import random\n",
    "sub_sample = random.sample(list(range(len(negatives))), k=1000)\n",
    "for i in sub_sample:\n",
    "    file = negatives[i]\n",
    "    sign = \"None\"\n",
    "    image = Image.open(path_n+file)\n",
    "    image = image.resize((width,height))\n",
    "    image = np.asarray(image)\n",
    "    data.append(image)\n",
    "    labels.append(sign)"
   ]
  },
  {
   "cell_type": "code",
   "execution_count": 9,
   "metadata": {
    "pycharm": {
     "name": "#%%\n"
    }
   },
   "outputs": [],
   "source": [
    "signs = np.array(data)\n",
    "labels = np.array(labels)\n",
    "\n",
    "# Randomize order\n",
    "s = np.arange(signs.shape[0])\n",
    "np.random.seed(43)\n",
    "np.random.shuffle(s)\n",
    "signs = signs[s]\n",
    "labels = labels[s]"
   ]
  },
  {
   "cell_type": "code",
   "execution_count": 10,
   "metadata": {
    "pycharm": {
     "name": "#%%\n"
    }
   },
   "outputs": [],
   "source": [
    "from sklearn.model_selection import train_test_split\n",
    "from imblearn.over_sampling import  RandomOverSampler\n",
    "X_train, X_test, y_train, y_test = train_test_split(signs, labels, test_size=0.2, random_state=1)\n",
    "del signs\n",
    "X_train, X_val, y_train, y_val = train_test_split(X_train, y_train, test_size=0.25, random_state=1)"
   ]
  },
  {
   "cell_type": "code",
   "execution_count": 11,
   "metadata": {
    "pycharm": {
     "name": "#%%\n"
    }
   },
   "outputs": [],
   "source": [
    "# Preprocess\n",
    "X_train = X_train.astype('float64')\n",
    "X_val = X_val.astype('float64')\n",
    "X_test = X_test.astype('float64')\n",
    "\n",
    "# Normalize\n",
    "mean_image = np.mean(X_train, axis = 0)\n",
    "X_train -= mean_image\n",
    "X_val -= mean_image\n",
    "X_test -= mean_image"
   ]
  },
  {
   "cell_type": "code",
   "execution_count": 12,
   "metadata": {
    "pycharm": {
     "name": "#%%\n"
    }
   },
   "outputs": [],
   "source": [
    "def one_hot(lab, vals):\n",
    "    hot = []\n",
    "    for i in range(len(vals)):\n",
    "        hot.append(lab.tolist().index(vals[i]))\n",
    "    return hot"
   ]
  },
  {
   "cell_type": "code",
   "execution_count": 13,
   "metadata": {
    "pycharm": {
     "name": "#%%\n"
    }
   },
   "outputs": [],
   "source": [
    "# Encode\n",
    "lab = np.unique(labels)\n",
    "from tensorflow.keras.utils import to_categorical\n",
    "y_train_e = np.array(one_hot(lab,y_train))\n",
    "y_val_e = np.array(one_hot(lab,y_val))"
   ]
  },
  {
   "cell_type": "code",
   "execution_count": 14,
   "metadata": {
    "pycharm": {
     "name": "#%%\n"
    }
   },
   "outputs": [],
   "source": [
    "tmp = pd.DataFrame()\n",
    "tmp[\"Label\"] = lab\n",
    "tmp[\"Encoding\"] =list(range(len(lab)))\n",
    "tmp.to_csv(\"App/lib/datasets/key1.csv\",index=False)"
   ]
  },
  {
   "cell_type": "markdown",
   "metadata": {},
   "source": [
    "### AlexNet"
   ]
  },
  {
   "cell_type": "code",
   "execution_count": 15,
   "metadata": {
    "pycharm": {
     "name": "#%%\n"
    }
   },
   "outputs": [],
   "source": [
    "from keras.models import Sequential\n",
    "from keras.layers import Conv2D, MaxPool2D, Dense, Flatten, Dropout, ZeroPadding2D, BatchNormalization"
   ]
  },
  {
   "cell_type": "code",
   "execution_count": 16,
   "metadata": {
    "pycharm": {
     "name": "#%%\n"
    }
   },
   "outputs": [
    {
     "name": "stdout",
     "output_type": "stream",
     "text": [
      "Epoch 1/40\n",
      "129/129 [==============================] - 23s 112ms/step - loss: 2.8138 - accuracy: 0.2842 - val_loss: 2.4604 - val_accuracy: 0.3187\n",
      "Epoch 2/40\n",
      "129/129 [==============================] - 11s 88ms/step - loss: 2.4553 - accuracy: 0.3324 - val_loss: 2.2247 - val_accuracy: 0.4150\n",
      "Epoch 3/40\n",
      "129/129 [==============================] - 11s 87ms/step - loss: 2.2795 - accuracy: 0.3742 - val_loss: 2.0970 - val_accuracy: 0.4209\n",
      "Epoch 4/40\n",
      "129/129 [==============================] - 11s 86ms/step - loss: 2.1406 - accuracy: 0.4209 - val_loss: 1.9459 - val_accuracy: 0.4471\n",
      "Epoch 5/40\n",
      "129/129 [==============================] - 11s 87ms/step - loss: 1.9848 - accuracy: 0.4503 - val_loss: 1.8017 - val_accuracy: 0.5215\n",
      "Epoch 6/40\n",
      "129/129 [==============================] - 12s 90ms/step - loss: 1.8387 - accuracy: 0.4858 - val_loss: 1.6729 - val_accuracy: 0.5500\n",
      "Epoch 7/40\n",
      "129/129 [==============================] - 11s 89ms/step - loss: 1.6916 - accuracy: 0.5271 - val_loss: 1.5309 - val_accuracy: 0.5784\n",
      "Epoch 8/40\n",
      "129/129 [==============================] - 12s 89ms/step - loss: 1.5944 - accuracy: 0.5551 - val_loss: 1.4858 - val_accuracy: 0.5974\n",
      "Epoch 9/40\n",
      "129/129 [==============================] - 11s 87ms/step - loss: 1.4552 - accuracy: 0.5945 - val_loss: 1.3279 - val_accuracy: 0.6346\n",
      "Epoch 10/40\n",
      "129/129 [==============================] - 11s 87ms/step - loss: 1.3417 - accuracy: 0.6270 - val_loss: 1.3041 - val_accuracy: 0.6397\n",
      "Epoch 11/40\n",
      "129/129 [==============================] - 11s 87ms/step - loss: 1.2074 - accuracy: 0.6603 - val_loss: 1.2060 - val_accuracy: 0.6477\n",
      "Epoch 12/40\n",
      "129/129 [==============================] - 11s 87ms/step - loss: 1.1055 - accuracy: 0.6910 - val_loss: 1.1086 - val_accuracy: 0.6791\n",
      "Epoch 13/40\n",
      "129/129 [==============================] - 11s 87ms/step - loss: 1.0226 - accuracy: 0.7019 - val_loss: 1.0218 - val_accuracy: 0.7309\n",
      "Epoch 14/40\n",
      "129/129 [==============================] - 11s 87ms/step - loss: 0.9543 - accuracy: 0.7284 - val_loss: 0.9618 - val_accuracy: 0.7411\n",
      "Epoch 15/40\n",
      "129/129 [==============================] - 11s 88ms/step - loss: 0.8536 - accuracy: 0.7552 - val_loss: 0.9110 - val_accuracy: 0.7374\n",
      "Epoch 16/40\n",
      "129/129 [==============================] - 11s 87ms/step - loss: 0.7926 - accuracy: 0.7659 - val_loss: 0.8371 - val_accuracy: 0.7571\n",
      "Epoch 17/40\n",
      "129/129 [==============================] - 11s 88ms/step - loss: 0.7331 - accuracy: 0.7963 - val_loss: 0.8096 - val_accuracy: 0.7578\n",
      "Epoch 18/40\n",
      "129/129 [==============================] - 11s 87ms/step - loss: 0.6834 - accuracy: 0.8065 - val_loss: 0.7841 - val_accuracy: 0.7702\n",
      "Epoch 19/40\n",
      "129/129 [==============================] - 12s 89ms/step - loss: 0.6229 - accuracy: 0.8276 - val_loss: 0.7430 - val_accuracy: 0.7783\n",
      "Epoch 20/40\n",
      "129/129 [==============================] - 11s 89ms/step - loss: 0.5918 - accuracy: 0.8320 - val_loss: 0.6936 - val_accuracy: 0.8016\n",
      "Epoch 21/40\n",
      "129/129 [==============================] - 11s 89ms/step - loss: 0.5455 - accuracy: 0.8415 - val_loss: 0.6960 - val_accuracy: 0.8001\n",
      "Epoch 22/40\n",
      "129/129 [==============================] - 11s 87ms/step - loss: 0.5241 - accuracy: 0.8466 - val_loss: 0.6601 - val_accuracy: 0.8038\n",
      "Epoch 23/40\n",
      "129/129 [==============================] - 11s 87ms/step - loss: 0.4803 - accuracy: 0.8590 - val_loss: 0.6224 - val_accuracy: 0.8162\n",
      "Epoch 24/40\n",
      "129/129 [==============================] - 11s 87ms/step - loss: 0.4413 - accuracy: 0.8741 - val_loss: 0.6080 - val_accuracy: 0.8162\n",
      "Epoch 25/40\n",
      "129/129 [==============================] - 11s 87ms/step - loss: 0.4109 - accuracy: 0.8857 - val_loss: 0.5729 - val_accuracy: 0.8213\n",
      "Epoch 26/40\n",
      "129/129 [==============================] - 12s 91ms/step - loss: 0.3922 - accuracy: 0.8857 - val_loss: 0.5931 - val_accuracy: 0.8169\n",
      "Epoch 27/40\n",
      "129/129 [==============================] - 11s 87ms/step - loss: 0.3647 - accuracy: 0.8952 - val_loss: 0.5616 - val_accuracy: 0.8425\n",
      "Epoch 28/40\n",
      "129/129 [==============================] - 11s 87ms/step - loss: 0.3404 - accuracy: 0.9010 - val_loss: 0.5655 - val_accuracy: 0.8359\n",
      "Epoch 29/40\n",
      "129/129 [==============================] - 11s 87ms/step - loss: 0.3322 - accuracy: 0.8984 - val_loss: 0.5528 - val_accuracy: 0.8337\n",
      "Epoch 30/40\n",
      "129/129 [==============================] - 11s 88ms/step - loss: 0.3269 - accuracy: 0.8991 - val_loss: 0.5309 - val_accuracy: 0.8359\n",
      "Epoch 31/40\n",
      "129/129 [==============================] - 11s 87ms/step - loss: 0.3223 - accuracy: 0.9023 - val_loss: 0.5119 - val_accuracy: 0.8519\n",
      "Epoch 32/40\n",
      "129/129 [==============================] - 11s 88ms/step - loss: 0.2991 - accuracy: 0.9122 - val_loss: 0.5172 - val_accuracy: 0.8352\n",
      "Epoch 33/40\n",
      "129/129 [==============================] - 11s 87ms/step - loss: 0.2745 - accuracy: 0.9229 - val_loss: 0.5058 - val_accuracy: 0.8461\n",
      "Epoch 34/40\n",
      "129/129 [==============================] - 11s 87ms/step - loss: 0.2785 - accuracy: 0.9176 - val_loss: 0.5165 - val_accuracy: 0.8446\n",
      "Epoch 35/40\n",
      "129/129 [==============================] - 11s 87ms/step - loss: 0.2596 - accuracy: 0.9222 - val_loss: 0.5001 - val_accuracy: 0.8527\n",
      "Epoch 36/40\n",
      "129/129 [==============================] - 11s 88ms/step - loss: 0.2516 - accuracy: 0.9249 - val_loss: 0.4823 - val_accuracy: 0.8563\n",
      "Epoch 37/40\n",
      "129/129 [==============================] - 11s 87ms/step - loss: 0.2449 - accuracy: 0.9275 - val_loss: 0.5066 - val_accuracy: 0.8490\n",
      "Epoch 38/40\n",
      "129/129 [==============================] - 11s 87ms/step - loss: 0.2516 - accuracy: 0.9203 - val_loss: 0.4927 - val_accuracy: 0.8432\n",
      "Epoch 39/40\n",
      "129/129 [==============================] - 11s 87ms/step - loss: 0.2301 - accuracy: 0.9266 - val_loss: 0.4863 - val_accuracy: 0.8483\n",
      "Epoch 40/40\n",
      "129/129 [==============================] - 11s 87ms/step - loss: 0.2169 - accuracy: 0.9363 - val_loss: 0.5169 - val_accuracy: 0.8483\n"
     ]
    }
   ],
   "source": [
    "model=Sequential()\n",
    "\n",
    "model.add(Conv2D(96,(11,11),strides=4,activation='relu',input_shape=X_train.shape[1:],padding='valid'))\n",
    "model.add(MaxPool2D((3,3),strides=2))\n",
    "model.add(BatchNormalization())\n",
    "\n",
    "model.add(ZeroPadding2D(padding=2))\n",
    "model.add(Conv2D(256,(5,5),activation='relu',padding='same'))\n",
    "model.add(MaxPool2D((3,3), strides=2))\n",
    "model.add(BatchNormalization())\n",
    "\n",
    "model.add(ZeroPadding2D(padding=1))\n",
    "model.add(Conv2D(384,(3,3),activation='relu',padding='same'))\n",
    "\n",
    "model.add(ZeroPadding2D(padding=1))\n",
    "model.add(Conv2D(384,(3,3),activation='relu',padding='same'))\n",
    "\n",
    "model.add(ZeroPadding2D(padding=1))\n",
    "model.add(Conv2D(256,(3,3),activation='relu',padding='same'))\n",
    "\n",
    "model.add(Flatten())\n",
    "model.add(Dense(4096,activation=\"relu\"))\n",
    "model.add(Dropout(rate=0.5))\n",
    "model.add(Dense(4096,activation=\"relu\"))\n",
    "model.add(Dropout(rate=0.5))\n",
    "model.add(Dense(len(lab),activation=\"softmax\"))\n",
    "\n",
    "model.compile(loss='sparse_categorical_crossentropy',optimizer=tf.optimizers.SGD(learning_rate=0.001),metrics=['accuracy'])\n",
    "epochs = 40\n",
    "history = model.fit(X_train, y_train_e, batch_size=32, epochs=epochs,\n",
    "validation_data=(X_val, y_val_e))"
   ]
  },
  {
   "cell_type": "code",
   "execution_count": 17,
   "metadata": {
    "pycharm": {
     "name": "#%%\n"
    }
   },
   "outputs": [
    {
     "name": "stdout",
     "output_type": "stream",
     "text": [
      "INFO:tensorflow:Assets written to: App/lib/models/AlexNet_Negatives\\assets\n"
     ]
    }
   ],
   "source": [
    "model.save(\"App/lib/models/AlexNet_Negatives\")"
   ]
  },
  {
   "cell_type": "code",
   "execution_count": 22,
   "metadata": {},
   "outputs": [
    {
     "name": "stdout",
     "output_type": "stream",
     "text": [
      "Accuracy: 0.8716265499635303\n"
     ]
    }
   ],
   "source": [
    "y_test_e = one_hot(lab,y_test)\n",
    "y_pred = np.argmax(model.predict(X_test),axis=1)\n",
    "from sklearn import metrics\n",
    "print(\"Accuracy:\",metrics.accuracy_score(y_test_e, y_pred))"
   ]
  }
 ],
 "metadata": {
  "kernelspec": {
   "display_name": "Python 3 (ipykernel)",
   "language": "python",
   "name": "python3"
  },
  "language_info": {
   "codemirror_mode": {
    "name": "ipython",
    "version": 3
   },
   "file_extension": ".py",
   "mimetype": "text/x-python",
   "name": "python",
   "nbconvert_exporter": "python",
   "pygments_lexer": "ipython3",
   "version": "3.7.11"
  }
 },
 "nbformat": 4,
 "nbformat_minor": 1
}
