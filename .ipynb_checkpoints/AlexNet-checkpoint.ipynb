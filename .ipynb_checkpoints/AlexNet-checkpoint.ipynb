{
 "cells": [
  {
   "cell_type": "markdown",
   "metadata": {
    "pycharm": {
     "name": "#%% md\n"
    }
   },
   "source": [
    "# AlexNet Implementation"
   ]
  },
  {
   "cell_type": "code",
   "execution_count": 1,
   "metadata": {
    "pycharm": {
     "name": "#%%\n"
    }
   },
   "outputs": [],
   "source": [
    "import pandas as pd\n",
    "import numpy as np\n",
    "from PIL import Image\n",
    "import cv2\n",
    "import tensorflow as tf"
   ]
  },
  {
   "cell_type": "code",
   "execution_count": 2,
   "metadata": {
    "pycharm": {
     "name": "#%%\n"
    },
    "scrolled": true
   },
   "outputs": [
    {
     "data": {
      "text/html": [
       "<div>\n",
       "<style scoped>\n",
       "    .dataframe tbody tr th:only-of-type {\n",
       "        vertical-align: middle;\n",
       "    }\n",
       "\n",
       "    .dataframe tbody tr th {\n",
       "        vertical-align: top;\n",
       "    }\n",
       "\n",
       "    .dataframe thead th {\n",
       "        text-align: right;\n",
       "    }\n",
       "</style>\n",
       "<table border=\"1\" class=\"dataframe\">\n",
       "  <thead>\n",
       "    <tr style=\"text-align: right;\">\n",
       "      <th></th>\n",
       "      <th>Filename</th>\n",
       "      <th>Annotation tag</th>\n",
       "      <th>Upper left corner X</th>\n",
       "      <th>Upper left corner Y</th>\n",
       "      <th>Lower right corner X</th>\n",
       "      <th>Lower right corner Y</th>\n",
       "      <th>Occluded,On another road</th>\n",
       "      <th>Origin file</th>\n",
       "      <th>Origin frame number</th>\n",
       "      <th>Origin track</th>\n",
       "      <th>Origin track frame number</th>\n",
       "    </tr>\n",
       "  </thead>\n",
       "  <tbody>\n",
       "    <tr>\n",
       "      <th>0</th>\n",
       "      <td>aiua120214-0/frameAnnotations-DataLog02142012_...</td>\n",
       "      <td>stop</td>\n",
       "      <td>862</td>\n",
       "      <td>104</td>\n",
       "      <td>916</td>\n",
       "      <td>158</td>\n",
       "      <td>0,0</td>\n",
       "      <td>aiua120214-0/DataLog02142012_external_camera.avi</td>\n",
       "      <td>2667</td>\n",
       "      <td>stop_1330545910.avi</td>\n",
       "      <td>2</td>\n",
       "    </tr>\n",
       "    <tr>\n",
       "      <th>1</th>\n",
       "      <td>aiua120214-0/frameAnnotations-DataLog02142012_...</td>\n",
       "      <td>speedLimitUrdbl</td>\n",
       "      <td>425</td>\n",
       "      <td>197</td>\n",
       "      <td>438</td>\n",
       "      <td>213</td>\n",
       "      <td>0,0</td>\n",
       "      <td>aiua120214-0/DataLog02142012_external_camera.avi</td>\n",
       "      <td>2667</td>\n",
       "      <td>stop_1330545910.avi</td>\n",
       "      <td>2</td>\n",
       "    </tr>\n",
       "    <tr>\n",
       "      <th>2</th>\n",
       "      <td>aiua120214-0/frameAnnotations-DataLog02142012_...</td>\n",
       "      <td>stop</td>\n",
       "      <td>922</td>\n",
       "      <td>88</td>\n",
       "      <td>982</td>\n",
       "      <td>148</td>\n",
       "      <td>1,0</td>\n",
       "      <td>aiua120214-0/DataLog02142012_external_camera.avi</td>\n",
       "      <td>2672</td>\n",
       "      <td>stop_1330545910.avi</td>\n",
       "      <td>7</td>\n",
       "    </tr>\n",
       "    <tr>\n",
       "      <th>3</th>\n",
       "      <td>aiua120214-0/frameAnnotations-DataLog02142012_...</td>\n",
       "      <td>speedLimit25</td>\n",
       "      <td>447</td>\n",
       "      <td>193</td>\n",
       "      <td>461</td>\n",
       "      <td>210</td>\n",
       "      <td>0,0</td>\n",
       "      <td>aiua120214-0/DataLog02142012_external_camera.avi</td>\n",
       "      <td>2672</td>\n",
       "      <td>stop_1330545910.avi</td>\n",
       "      <td>7</td>\n",
       "    </tr>\n",
       "    <tr>\n",
       "      <th>4</th>\n",
       "      <td>aiua120214-0/frameAnnotations-DataLog02142012_...</td>\n",
       "      <td>speedLimit25</td>\n",
       "      <td>469</td>\n",
       "      <td>189</td>\n",
       "      <td>483</td>\n",
       "      <td>207</td>\n",
       "      <td>0,0</td>\n",
       "      <td>aiua120214-0/DataLog02142012_external_camera.avi</td>\n",
       "      <td>2677</td>\n",
       "      <td>stop_1330545910.avi</td>\n",
       "      <td>12</td>\n",
       "    </tr>\n",
       "    <tr>\n",
       "      <th>...</th>\n",
       "      <td>...</td>\n",
       "      <td>...</td>\n",
       "      <td>...</td>\n",
       "      <td>...</td>\n",
       "      <td>...</td>\n",
       "      <td>...</td>\n",
       "      <td>...</td>\n",
       "      <td>...</td>\n",
       "      <td>...</td>\n",
       "      <td>...</td>\n",
       "      <td>...</td>\n",
       "    </tr>\n",
       "    <tr>\n",
       "      <th>7850</th>\n",
       "      <td>vid9/frameAnnotations-MVI_0121.MOV_annotations...</td>\n",
       "      <td>speedLimit35</td>\n",
       "      <td>41</td>\n",
       "      <td>209</td>\n",
       "      <td>65</td>\n",
       "      <td>239</td>\n",
       "      <td>0,0</td>\n",
       "      <td>vid9/MVI_0121.MOV</td>\n",
       "      <td>8813</td>\n",
       "      <td>speedLimit_1324866802.avi</td>\n",
       "      <td>22</td>\n",
       "    </tr>\n",
       "    <tr>\n",
       "      <th>7851</th>\n",
       "      <td>vid9/frameAnnotations-MVI_0121.MOV_annotations...</td>\n",
       "      <td>speedLimit35</td>\n",
       "      <td>526</td>\n",
       "      <td>213</td>\n",
       "      <td>543</td>\n",
       "      <td>233</td>\n",
       "      <td>0,0</td>\n",
       "      <td>vid9/MVI_0121.MOV</td>\n",
       "      <td>8875</td>\n",
       "      <td>speedLimit_1324866807.avi</td>\n",
       "      <td>2</td>\n",
       "    </tr>\n",
       "    <tr>\n",
       "      <th>7852</th>\n",
       "      <td>vid9/frameAnnotations-MVI_0121.MOV_annotations...</td>\n",
       "      <td>speedLimit35</td>\n",
       "      <td>546</td>\n",
       "      <td>208</td>\n",
       "      <td>564</td>\n",
       "      <td>230</td>\n",
       "      <td>0,0</td>\n",
       "      <td>vid9/MVI_0121.MOV</td>\n",
       "      <td>8880</td>\n",
       "      <td>speedLimit_1324866807.avi</td>\n",
       "      <td>7</td>\n",
       "    </tr>\n",
       "    <tr>\n",
       "      <th>7853</th>\n",
       "      <td>vid9/frameAnnotations-MVI_0121.MOV_annotations...</td>\n",
       "      <td>speedLimit35</td>\n",
       "      <td>573</td>\n",
       "      <td>204</td>\n",
       "      <td>592</td>\n",
       "      <td>228</td>\n",
       "      <td>0,0</td>\n",
       "      <td>vid9/MVI_0121.MOV</td>\n",
       "      <td>8885</td>\n",
       "      <td>speedLimit_1324866807.avi</td>\n",
       "      <td>12</td>\n",
       "    </tr>\n",
       "    <tr>\n",
       "      <th>7854</th>\n",
       "      <td>vid9/frameAnnotations-MVI_0121.MOV_annotations...</td>\n",
       "      <td>speedLimit35</td>\n",
       "      <td>604</td>\n",
       "      <td>196</td>\n",
       "      <td>628</td>\n",
       "      <td>223</td>\n",
       "      <td>0,0</td>\n",
       "      <td>vid9/MVI_0121.MOV</td>\n",
       "      <td>8890</td>\n",
       "      <td>speedLimit_1324866807.avi</td>\n",
       "      <td>17</td>\n",
       "    </tr>\n",
       "  </tbody>\n",
       "</table>\n",
       "<p>7855 rows × 11 columns</p>\n",
       "</div>"
      ],
      "text/plain": [
       "                                               Filename   Annotation tag  \\\n",
       "0     aiua120214-0/frameAnnotations-DataLog02142012_...             stop   \n",
       "1     aiua120214-0/frameAnnotations-DataLog02142012_...  speedLimitUrdbl   \n",
       "2     aiua120214-0/frameAnnotations-DataLog02142012_...             stop   \n",
       "3     aiua120214-0/frameAnnotations-DataLog02142012_...     speedLimit25   \n",
       "4     aiua120214-0/frameAnnotations-DataLog02142012_...     speedLimit25   \n",
       "...                                                 ...              ...   \n",
       "7850  vid9/frameAnnotations-MVI_0121.MOV_annotations...     speedLimit35   \n",
       "7851  vid9/frameAnnotations-MVI_0121.MOV_annotations...     speedLimit35   \n",
       "7852  vid9/frameAnnotations-MVI_0121.MOV_annotations...     speedLimit35   \n",
       "7853  vid9/frameAnnotations-MVI_0121.MOV_annotations...     speedLimit35   \n",
       "7854  vid9/frameAnnotations-MVI_0121.MOV_annotations...     speedLimit35   \n",
       "\n",
       "      Upper left corner X  Upper left corner Y  Lower right corner X  \\\n",
       "0                     862                  104                   916   \n",
       "1                     425                  197                   438   \n",
       "2                     922                   88                   982   \n",
       "3                     447                  193                   461   \n",
       "4                     469                  189                   483   \n",
       "...                   ...                  ...                   ...   \n",
       "7850                   41                  209                    65   \n",
       "7851                  526                  213                   543   \n",
       "7852                  546                  208                   564   \n",
       "7853                  573                  204                   592   \n",
       "7854                  604                  196                   628   \n",
       "\n",
       "      Lower right corner Y Occluded,On another road  \\\n",
       "0                      158                      0,0   \n",
       "1                      213                      0,0   \n",
       "2                      148                      1,0   \n",
       "3                      210                      0,0   \n",
       "4                      207                      0,0   \n",
       "...                    ...                      ...   \n",
       "7850                   239                      0,0   \n",
       "7851                   233                      0,0   \n",
       "7852                   230                      0,0   \n",
       "7853                   228                      0,0   \n",
       "7854                   223                      0,0   \n",
       "\n",
       "                                           Origin file  Origin frame number  \\\n",
       "0     aiua120214-0/DataLog02142012_external_camera.avi                 2667   \n",
       "1     aiua120214-0/DataLog02142012_external_camera.avi                 2667   \n",
       "2     aiua120214-0/DataLog02142012_external_camera.avi                 2672   \n",
       "3     aiua120214-0/DataLog02142012_external_camera.avi                 2672   \n",
       "4     aiua120214-0/DataLog02142012_external_camera.avi                 2677   \n",
       "...                                                ...                  ...   \n",
       "7850                                 vid9/MVI_0121.MOV                 8813   \n",
       "7851                                 vid9/MVI_0121.MOV                 8875   \n",
       "7852                                 vid9/MVI_0121.MOV                 8880   \n",
       "7853                                 vid9/MVI_0121.MOV                 8885   \n",
       "7854                                 vid9/MVI_0121.MOV                 8890   \n",
       "\n",
       "                   Origin track  Origin track frame number  \n",
       "0           stop_1330545910.avi                          2  \n",
       "1           stop_1330545910.avi                          2  \n",
       "2           stop_1330545910.avi                          7  \n",
       "3           stop_1330545910.avi                          7  \n",
       "4           stop_1330545910.avi                         12  \n",
       "...                         ...                        ...  \n",
       "7850  speedLimit_1324866802.avi                         22  \n",
       "7851  speedLimit_1324866807.avi                          2  \n",
       "7852  speedLimit_1324866807.avi                          7  \n",
       "7853  speedLimit_1324866807.avi                         12  \n",
       "7854  speedLimit_1324866807.avi                         17  \n",
       "\n",
       "[7855 rows x 11 columns]"
      ]
     },
     "execution_count": 2,
     "metadata": {},
     "output_type": "execute_result"
    }
   ],
   "source": [
    "all_ann = pd.read_csv(\"lib/datasets/LISA/allAnnotations.csv\", delimiter=';')\n",
    "all_ann"
   ]
  },
  {
   "cell_type": "code",
   "execution_count": 6,
   "metadata": {
    "pycharm": {
     "name": "#%%\n"
    }
   },
   "outputs": [],
   "source": [
    "#max image size\n",
    "# gt 260 400\n",
    "height = 227\n",
    "width = 227\n",
    "data = []\n",
    "labels = []\n",
    "path = \"lib/datasets/LISA/\"\n",
    "test = 0\n",
    "import random\n",
    "sub_sample = random.sample(list(range(len(all_ann[\"Filename\"]))), k=len(all_ann[\"Filename\"])-2000) # The data set is too big for my PC\n",
    "for i in sub_sample:\n",
    "    file = all_ann[\"Filename\"][i]\n",
    "    sign = all_ann[\"Annotation tag\"][i]\n",
    "    image = Image.open(path+file)\n",
    "    image = image.resize((width,height))\n",
    "    image = np.asarray(image)\n",
    "    data.append(image)\n",
    "    labels.append(sign)"
   ]
  },
  {
   "cell_type": "code",
   "execution_count": 8,
   "metadata": {},
   "outputs": [],
   "source": [
    "# 1k random samples of images with no signs\n",
    "with open(\"lib/datasets/LISA/negatives/negatives.dat\") as f:\n",
    "    negatives = [line.rstrip('\\n') for line in f]\n",
    "path_n = \"lib/datasets/LISA/negatives/\"\n",
    "import random\n",
    "sub_sample = random.sample(list(range(len(negatives))), k=1000)\n",
    "for i in sub_sample:\n",
    "    file = negatives[i]\n",
    "    sign = \"None\"\n",
    "    image = Image.open(path_n+file)\n",
    "    image = image.resize((width,height))\n",
    "    image = np.asarray(image)\n",
    "    data.append(image)\n",
    "    labels.append(sign)"
   ]
  },
  {
   "cell_type": "code",
   "execution_count": 9,
   "metadata": {
    "pycharm": {
     "name": "#%%\n"
    }
   },
   "outputs": [],
   "source": [
    "signs = np.array(data)\n",
    "labels = np.array(labels)\n",
    "\n",
    "# Randomize order\n",
    "s = np.arange(signs.shape[0])\n",
    "np.random.seed(43)\n",
    "np.random.shuffle(s)\n",
    "signs = signs[s]\n",
    "labels = labels[s]"
   ]
  },
  {
   "cell_type": "code",
   "execution_count": 10,
   "metadata": {
    "pycharm": {
     "name": "#%%\n"
    }
   },
   "outputs": [],
   "source": [
    "from sklearn.model_selection import train_test_split\n",
    "from imblearn.over_sampling import  RandomOverSampler\n",
    "X_train, X_test, y_train, y_test = train_test_split(signs, labels, test_size=0.2, random_state=1)\n",
    "del signs\n",
    "X_train, X_val, y_train, y_val = train_test_split(X_train, y_train, test_size=0.25, random_state=1)"
   ]
  },
  {
   "cell_type": "code",
   "execution_count": 11,
   "metadata": {
    "pycharm": {
     "name": "#%%\n"
    }
   },
   "outputs": [],
   "source": [
    "# Preprocess\n",
    "X_train = X_train.astype('float64')\n",
    "X_val = X_val.astype('float64')\n",
    "X_test = X_test.astype('float64')\n",
    "\n",
    "# Normalize\n",
    "mean_image = np.mean(X_train, axis = 0)\n",
    "X_train -= mean_image\n",
    "X_val -= mean_image\n",
    "X_test -= mean_image"
   ]
  },
  {
   "cell_type": "code",
   "execution_count": 12,
   "metadata": {
    "pycharm": {
     "name": "#%%\n"
    }
   },
   "outputs": [],
   "source": [
    "def one_hot(lab, vals):\n",
    "    hot = []\n",
    "    for i in range(len(vals)):\n",
    "        hot.append(lab.tolist().index(vals[i]))\n",
    "    return hot"
   ]
  },
  {
   "cell_type": "code",
   "execution_count": 13,
   "metadata": {
    "pycharm": {
     "name": "#%%\n"
    }
   },
   "outputs": [],
   "source": [
    "# Encode\n",
    "lab = np.unique(labels)\n",
    "from tensorflow.keras.utils import to_categorical\n",
    "y_train_e = np.array(one_hot(lab,y_train))\n",
    "y_val_e = np.array(one_hot(lab,y_val))"
   ]
  },
  {
   "cell_type": "code",
   "execution_count": 14,
   "metadata": {
    "pycharm": {
     "name": "#%%\n"
    }
   },
   "outputs": [],
   "source": [
    "tmp = pd.DataFrame()\n",
    "tmp[\"Label\"] = lab\n",
    "tmp[\"Encoding\"] =list(range(len(lab)))\n",
    "tmp.to_csv(\"App/lib/datasets/key1.csv\",index=False)"
   ]
  },
  {
   "cell_type": "markdown",
   "metadata": {},
   "source": [
    "### AlexNet"
   ]
  },
  {
   "cell_type": "code",
   "execution_count": 15,
   "metadata": {
    "pycharm": {
     "name": "#%%\n"
    }
   },
   "outputs": [],
   "source": [
    "from keras.models import Sequential\n",
    "from keras.layers import Conv2D, MaxPool2D, Dense, Flatten, Dropout, ZeroPadding2D, BatchNormalization"
   ]
  },
  {
   "cell_type": "code",
   "execution_count": 1,
   "metadata": {
    "pycharm": {
     "name": "#%%\n"
    }
   },
   "outputs": [
    {
     "ename": "NameError",
     "evalue": "name 'tf' is not defined",
     "output_type": "error",
     "traceback": [
      "\u001b[1;31m---------------------------------------------------------------------------\u001b[0m",
      "\u001b[1;31mNameError\u001b[0m                                 Traceback (most recent call last)",
      "\u001b[1;32m~\\AppData\\Local\\Temp/ipykernel_8080/2543833342.py\u001b[0m in \u001b[0;36m<module>\u001b[1;34m\u001b[0m\n\u001b[1;32m----> 1\u001b[1;33m \u001b[0mtf\u001b[0m\u001b[1;33m.\u001b[0m\u001b[0mkeras\u001b[0m\u001b[1;33m.\u001b[0m\u001b[0mbackend\u001b[0m\u001b[1;33m.\u001b[0m\u001b[0mclear_session\u001b[0m\u001b[1;33m(\u001b[0m\u001b[1;33m)\u001b[0m\u001b[1;33m\u001b[0m\u001b[1;33m\u001b[0m\u001b[0m\n\u001b[0m\u001b[0;32m      2\u001b[0m \u001b[0mmodel\u001b[0m\u001b[1;33m=\u001b[0m\u001b[0mSequential\u001b[0m\u001b[1;33m(\u001b[0m\u001b[1;33m)\u001b[0m\u001b[1;33m\u001b[0m\u001b[1;33m\u001b[0m\u001b[0m\n\u001b[0;32m      3\u001b[0m \u001b[1;33m\u001b[0m\u001b[0m\n\u001b[0;32m      4\u001b[0m \u001b[0mmodel\u001b[0m\u001b[1;33m.\u001b[0m\u001b[0madd\u001b[0m\u001b[1;33m(\u001b[0m\u001b[0mConv2D\u001b[0m\u001b[1;33m(\u001b[0m\u001b[1;36m96\u001b[0m\u001b[1;33m,\u001b[0m\u001b[1;33m(\u001b[0m\u001b[1;36m11\u001b[0m\u001b[1;33m,\u001b[0m\u001b[1;36m11\u001b[0m\u001b[1;33m)\u001b[0m\u001b[1;33m,\u001b[0m\u001b[0mstrides\u001b[0m\u001b[1;33m=\u001b[0m\u001b[1;36m4\u001b[0m\u001b[1;33m,\u001b[0m\u001b[0mactivation\u001b[0m\u001b[1;33m=\u001b[0m\u001b[1;34m'relu'\u001b[0m\u001b[1;33m,\u001b[0m\u001b[0minput_shape\u001b[0m\u001b[1;33m=\u001b[0m\u001b[0mX_train\u001b[0m\u001b[1;33m.\u001b[0m\u001b[0mshape\u001b[0m\u001b[1;33m[\u001b[0m\u001b[1;36m1\u001b[0m\u001b[1;33m:\u001b[0m\u001b[1;33m]\u001b[0m\u001b[1;33m,\u001b[0m\u001b[0mpadding\u001b[0m\u001b[1;33m=\u001b[0m\u001b[1;34m'valid'\u001b[0m\u001b[1;33m)\u001b[0m\u001b[1;33m)\u001b[0m\u001b[1;33m\u001b[0m\u001b[1;33m\u001b[0m\u001b[0m\n\u001b[0;32m      5\u001b[0m \u001b[0mmodel\u001b[0m\u001b[1;33m.\u001b[0m\u001b[0madd\u001b[0m\u001b[1;33m(\u001b[0m\u001b[0mMaxPool2D\u001b[0m\u001b[1;33m(\u001b[0m\u001b[1;33m(\u001b[0m\u001b[1;36m3\u001b[0m\u001b[1;33m,\u001b[0m\u001b[1;36m3\u001b[0m\u001b[1;33m)\u001b[0m\u001b[1;33m,\u001b[0m\u001b[0mstrides\u001b[0m\u001b[1;33m=\u001b[0m\u001b[1;36m2\u001b[0m\u001b[1;33m)\u001b[0m\u001b[1;33m)\u001b[0m\u001b[1;33m\u001b[0m\u001b[1;33m\u001b[0m\u001b[0m\n",
      "\u001b[1;31mNameError\u001b[0m: name 'tf' is not defined"
     ]
    }
   ],
   "source": [
    "model=Sequential()\n",
    "\n",
    "model.add(Conv2D(96,(11,11),strides=4,activation='relu',input_shape=X_train.shape[1:],padding='valid'))\n",
    "model.add(MaxPool2D((3,3),strides=2))\n",
    "model.add(BatchNormalization())\n",
    "\n",
    "model.add(ZeroPadding2D(padding=2))\n",
    "model.add(Conv2D(256,(5,5),activation='relu',padding='same'))\n",
    "model.add(MaxPool2D((3,3), strides=2))\n",
    "model.add(BatchNormalization())\n",
    "\n",
    "model.add(ZeroPadding2D(padding=1))\n",
    "model.add(Conv2D(384,(3,3),activation='relu',padding='same'))\n",
    "\n",
    "model.add(ZeroPadding2D(padding=1))\n",
    "model.add(Conv2D(384,(3,3),activation='relu',padding='same'))\n",
    "\n",
    "model.add(ZeroPadding2D(padding=1))\n",
    "model.add(Conv2D(256,(3,3),activation='relu',padding='same'))\n",
    "\n",
    "model.add(Flatten())\n",
    "model.add(Dense(4096,activation=\"relu\"))\n",
    "model.add(Dropout(rate=0.5))\n",
    "model.add(Dense(4096,activation=\"relu\"))\n",
    "model.add(Dropout(rate=0.5))\n",
    "model.add(Dense(len(lab),activation=\"softmax\"))\n",
    "\n",
    "model.compile(loss='sparse_categorical_crossentropy',optimizer=tf.optimizers.SGD(learning_rate=0.001),metrics=['accuracy'])\n",
    "epochs = 74\n",
    "history = model.fit(X_train, y_train_e, batch_size=32, epochs=epochs,\n",
    "validation_data=(X_val, y_val_e))"
   ]
  },
  {
   "cell_type": "code",
   "execution_count": 17,
   "metadata": {
    "pycharm": {
     "name": "#%%\n"
    }
   },
   "outputs": [
    {
     "name": "stdout",
     "output_type": "stream",
     "text": [
      "INFO:tensorflow:Assets written to: App/lib/models/AlexNet_Negatives\\assets\n"
     ]
    }
   ],
   "source": [
    "model.save(\"App/lib/models/AlexNet_Negatives\")"
   ]
  },
  {
   "cell_type": "code",
   "execution_count": 22,
   "metadata": {},
   "outputs": [
    {
     "name": "stdout",
     "output_type": "stream",
     "text": [
      "Accuracy: 0.8716265499635303\n"
     ]
    }
   ],
   "source": [
    "y_test_e = one_hot(lab,y_test)\n",
    "y_pred = np.argmax(model.predict(X_test),axis=1)\n",
    "from sklearn import metrics\n",
    "print(\"Accuracy:\",metrics.accuracy_score(y_test_e, y_pred))"
   ]
  }
 ],
 "metadata": {
  "kernelspec": {
   "display_name": "Python 3 (ipykernel)",
   "language": "python",
   "name": "python3"
  },
  "language_info": {
   "codemirror_mode": {
    "name": "ipython",
    "version": 3
   },
   "file_extension": ".py",
   "mimetype": "text/x-python",
   "name": "python",
   "nbconvert_exporter": "python",
   "pygments_lexer": "ipython3",
   "version": "3.7.11"
  }
 },
 "nbformat": 4,
 "nbformat_minor": 1
}
