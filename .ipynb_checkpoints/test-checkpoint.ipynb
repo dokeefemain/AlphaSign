{
 "cells": [
  {
   "cell_type": "code",
   "execution_count": 1,
   "id": "33b03a3c",
   "metadata": {},
   "outputs": [],
   "source": [
    "from keras.layers import Input, Conv2D, Lambda, MaxPool2D, UpSampling2D, AveragePooling2D, ZeroPadding2D, GlobalAveragePooling2D\n",
    "from keras.layers import Activation, Flatten, Dense, Add, Multiply, BatchNormalization, Dropout, concatenate\n",
    "from keras.models import Model\n",
    "from keras import backend as K\n",
    "import pandas as pd\n",
    "import numpy as np\n",
    "from PIL import Image\n",
    "import cv2\n",
    "import tensorflow as tf"
   ]
  },
  {
   "cell_type": "code",
   "execution_count": 2,
   "id": "9258b188",
   "metadata": {},
   "outputs": [],
   "source": [
    "model = tf.keras.models.load_model(\"lib/models/AlexNet\")"
   ]
  },
  {
   "cell_type": "code",
   "execution_count": 3,
   "id": "f07d1a9f",
   "metadata": {},
   "outputs": [],
   "source": [
    "X_train = np.load(\"lib/datasets/X_train_bb.npy\")\n",
    "X_val = np.load(\"lib/datasets/X_val_bb.npy\")\n",
    "y_train = np.load(\"lib/datasets/y_train_e_bb.npy\")\n",
    "y_val = np.load(\"lib/datasets/y_val_e_bb.npy\")\n",
    "z_train = np.load(\"lib/datasets/z_train_bb.npy\")\n",
    "z_val = np.load(\"lib/datasets/z_val_bb.npy\")"
   ]
  },
  {
   "cell_type": "code",
   "execution_count": 4,
   "id": "08abce6a",
   "metadata": {},
   "outputs": [],
   "source": [
    "from lib.models import AlexNet"
   ]
  },
  {
   "cell_type": "code",
   "execution_count": null,
   "id": "1ba3099d",
   "metadata": {},
   "outputs": [],
   "source": [
    "model = AlexNet(X_train[1:].shape, 47).build_model()\n"
   ]
  }
 ],
 "metadata": {
  "kernelspec": {
   "display_name": "Python 3 (ipykernel)",
   "language": "python",
   "name": "python3"
  },
  "language_info": {
   "codemirror_mode": {
    "name": "ipython",
    "version": 3
   },
   "file_extension": ".py",
   "mimetype": "text/x-python",
   "name": "python",
   "nbconvert_exporter": "python",
   "pygments_lexer": "ipython3",
   "version": "3.7.11"
  }
 },
 "nbformat": 4,
 "nbformat_minor": 5
}
