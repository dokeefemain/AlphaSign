{
  "cells": [
    {
      "cell_type": "code",
      "execution_count": null,
      "metadata": {
        "colab": {
          "base_uri": "https://localhost:8080/"
        },
        "id": "IQzntgF6wcgj",
        "outputId": "43684b93-f9c8-4a9c-b801-afa78a19693c"
      },
      "outputs": [
        {
          "output_type": "stream",
          "name": "stdout",
          "text": [
            "Mounted at /content/drive\n"
          ]
        }
      ],
      "source": [
        "from google.colab import drive\n",
        "drive.mount(\"/content/drive\", force_remount=True)"
      ]
    },
    {
      "cell_type": "code",
      "source": [
        "# drive/My Drive/datasets/\n",
        "test = open(\"drive/My Drive/datasets/idk.txt\",\"w\")\n",
        "test.write(\"this is a test\")\n",
        "test.close()"
      ],
      "metadata": {
        "id": "iD4a5rzO8jLN"
      },
      "execution_count": null,
      "outputs": []
    },
    {
      "cell_type": "code",
      "execution_count": null,
      "metadata": {
        "colab": {
          "base_uri": "https://localhost:8080/"
        },
        "id": "4xtAuPPJw6_H",
        "outputId": "6e1f9ef1-c58d-42d5-adc5-8f46949b8481"
      },
      "outputs": [
        {
          "output_type": "stream",
          "name": "stdout",
          "text": [
            "Archive:  drive/MyDrive/MyDrive/irv22.zip/irv23.zip\n",
            "   creating: irv22/\n",
            "  inflating: irv22/X_train_irv22.npy  \n",
            "  inflating: irv22/X_val_irv22.npy   \n",
            "  inflating: irv22/y_train_e_irv22.npy  \n",
            "  inflating: irv22/y_val_e_irv22.npy  \n"
          ]
        }
      ],
      "source": [
        "!unzip drive/MyDrive/MyDrive/irv22.zip/irv23.zip\n"
      ]
    },
    {
      "cell_type": "code",
      "execution_count": null,
      "metadata": {
        "id": "cIgRBrbSxyy7"
      },
      "outputs": [],
      "source": [
        "import pandas as pd\n",
        "import numpy as np\n",
        "from PIL import Image\n",
        "import cv2\n",
        "import tensorflow as tf\n",
        "import matplotlib.pyplot as plt"
      ]
    },
    {
      "cell_type": "code",
      "execution_count": null,
      "metadata": {
        "id": "y5hmGnl-x38I",
        "colab": {
          "base_uri": "https://localhost:8080/"
        },
        "outputId": "87bcc791-e01b-4850-aeb6-4920173a303b"
      },
      "outputs": [
        {
          "output_type": "stream",
          "name": "stdout",
          "text": [
            "(3807, 299, 299, 3)\n"
          ]
        }
      ],
      "source": [
        "X_train = np.load(\"irv22/X_train_irv22.npy\")\n",
        "print(X_train.shape)\n",
        "X_val = np.load(\"irv22/X_val_irv22.npy\")\n",
        "y_train_e = np.load(\"irv22/y_train_e_irv22.npy\")\n",
        "y_val_e = np.load(\"irv22/y_val_e_irv22.npy\" )"
      ]
    },
    {
      "cell_type": "code",
      "execution_count": null,
      "metadata": {
        "id": "Q0ieT8cxyGH1"
      },
      "outputs": [],
      "source": [
        "from keras.layers import Input, Conv2D, Lambda, MaxPool2D, UpSampling2D, AveragePooling2D, ZeroPadding2D, GlobalAveragePooling2D\n",
        "from keras.layers import Activation, Flatten, Dense, Add, Multiply, BatchNormalization, Dropout, concatenate\n",
        "from keras.models import Model\n",
        "from keras import backend as K\n",
        "class IRV2():\n",
        "    def __init__(self, input_shape, n_classes, activation, scale1, scale2, scale3, p=1, t=2, r=1):\n",
        "        self.input_shape = input_shape\n",
        "        self.n_classes = n_classes\n",
        "        self.activation = activation\n",
        "        self.test_scales = [0.1, 0.15, 0.2, 0.25, 0.3]\n",
        "        self.scale1 = scale1\n",
        "        self.scale2 = scale2\n",
        "        self.scale3 = scale3\n",
        "\n",
        "    def build_model(self):\n",
        "        input_data = Input(shape=self.input_shape)\n",
        "        stem = self.stem(input_data)\n",
        "        ira = Activation(\"relu\")(stem)\n",
        "        for i in range(5):\n",
        "            ira = self.IRA(ira)\n",
        "\n",
        "        ra = self.RA(ira)\n",
        "\n",
        "        irb = Activation(\"relu\")(ra)\n",
        "        for i in range(10):\n",
        "            irb = self.IRB(irb)\n",
        "\n",
        "        rb = self.RB(irb)\n",
        "\n",
        "        irc = Activation(\"relu\")(rb)\n",
        "        for i in range(5):\n",
        "            irc = self.IRC(irc)\n",
        "\n",
        "        pool = GlobalAveragePooling2D()(irc)\n",
        "\n",
        "        drop = Dropout(0.2)(pool)\n",
        "        final = Dense(self.n_classes, activation= self.activation)(drop)\n",
        "        model = Model(inputs = input_data, outputs = final)\n",
        "\n",
        "        return model\n",
        "\n",
        "\n",
        "    def stem(self, input_data):\n",
        "        conv_1 = Conv2D(32, (3,3), strides=2, padding=\"valid\")(input_data)\n",
        "        conv_1 = BatchNormalization()(conv_1)\n",
        "        conv_1 = Activation('relu')(conv_1)\n",
        "\n",
        "        conv_2 = Conv2D(32, (3, 3), padding=\"valid\")(conv_1)\n",
        "        conv_2 = BatchNormalization()(conv_2)\n",
        "        conv_2 = Activation('relu')(conv_2)\n",
        "\n",
        "        conv_3 = Conv2D(64, (3, 3), padding=\"same\")(conv_2)\n",
        "        conv_3 = BatchNormalization()(conv_3)\n",
        "        conv_3 = Activation('relu')(conv_3)\n",
        "\n",
        "        pool_1 = MaxPool2D((3,3), strides=2, padding='valid')(conv_3)\n",
        "\n",
        "        conv_4 = Conv2D(96, (3, 3), strides = 2, padding=\"valid\")(conv_3)\n",
        "        conv_4 = BatchNormalization()(conv_4)\n",
        "        conv_4 = Activation('relu')(conv_4)\n",
        "\n",
        "        conc_1 = concatenate([pool_1, conv_4])\n",
        "\n",
        "        conv_5_1 = Conv2D(64, (1, 1), padding=\"same\")(conc_1)\n",
        "        conv_5_1 = BatchNormalization()(conv_5_1)\n",
        "        conv_5_1 = Activation('relu')(conv_5_1)\n",
        "\n",
        "        conv_6_1 = Conv2D(96, (3, 3), padding=\"valid\")(conv_5_1)\n",
        "        conv_6_1 = BatchNormalization()(conv_6_1)\n",
        "        conv_6_1 = Activation('relu')(conv_6_1)\n",
        "\n",
        "        conv_5_2 = Conv2D(64, (1, 1), padding=\"same\")(conc_1)\n",
        "        conv_5_2 = BatchNormalization()(conv_5_2)\n",
        "        conv_5_2 = Activation('relu')(conv_5_2)\n",
        "\n",
        "        conv_6_2 = Conv2D(64, (7, 1), padding=\"same\")(conv_5_2)\n",
        "        conv_6_2 = BatchNormalization()(conv_6_2)\n",
        "        conv_6_2 = Activation('relu')(conv_6_2)\n",
        "\n",
        "        conv_7_2 = Conv2D(64, (1, 7), padding=\"same\")(conv_6_2)\n",
        "        conv_7_2 = BatchNormalization()(conv_7_2)\n",
        "        conv_7_2 = Activation('relu')(conv_7_2)\n",
        "\n",
        "        conv_8_2 = Conv2D(96, (3, 3), padding=\"valid\")(conv_7_2)\n",
        "        conv_8_2 = BatchNormalization()(conv_8_2)\n",
        "        conv_8_2 = Activation('relu')(conv_8_2)\n",
        "\n",
        "        conc_2 = concatenate([conv_6_1, conv_8_2])\n",
        "\n",
        "        conv_1_3 = Conv2D(192, (3,3),strides=2, padding=\"valid\")(conc_2)\n",
        "        conv_1_3 = BatchNormalization()(conv_1_3)\n",
        "        conv_1_3 = Activation(\"relu\")(conv_1_3)\n",
        "\n",
        "        pool_1_4 = MaxPool2D(strides=2, padding = \"valid\")(conc_2)\n",
        "\n",
        "        conc_3 = concatenate([conv_1_3, pool_1_4])\n",
        "\n",
        "        return conc_3\n",
        "\n",
        "    #fig 16\n",
        "    def IRA(self, input_data):\n",
        "        # relu_1 = Activation(\"relu\")(input_data)\n",
        "        b_0 = Conv2D(32, (1,1), padding=\"same\")(input_data)\n",
        "        b_0 = BatchNormalization()(b_0)\n",
        "        b_0 = Activation(\"relu\")(b_0)\n",
        "\n",
        "        b_1 = Conv2D(32, (1, 1), padding=\"same\")(input_data)\n",
        "        b_1 = BatchNormalization()(b_1)\n",
        "        b_1 = Activation(\"relu\")(b_1)\n",
        "        b_1 = Conv2D(32, (3, 3), padding=\"same\")(b_1)\n",
        "        b_1 = BatchNormalization()(b_1)\n",
        "        b_1 = Activation(\"relu\")(b_1)\n",
        "\n",
        "        b_2 = Conv2D(32, (1, 1), padding=\"same\")(input_data)\n",
        "        b_2 = BatchNormalization()(b_2)\n",
        "        b_2 = Activation(\"relu\")(b_2)\n",
        "        b_2 = Conv2D(48, (3, 3), padding=\"same\")(b_2)\n",
        "        b_2 = BatchNormalization()(b_2)\n",
        "        b_2 = Activation(\"relu\")(b_2)\n",
        "        b_2 = Conv2D(64, (3, 3), padding=\"same\")(b_2)\n",
        "        b_2 = BatchNormalization()(b_2)\n",
        "        b_2 = Activation(\"relu\")(b_2)\n",
        "\n",
        "        conc_1 = concatenate([b_0, b_1, b_2])\n",
        "\n",
        "        conv = Conv2D(384, (1,1), padding=\"same\")(conc_1)\n",
        "\n",
        "        out = Lambda(lambda inputs, scale: inputs[0] + inputs[1] * scale,\n",
        "               output_shape=K.int_shape(conv)[1:],\n",
        "               arguments={'scale': self.scale1})([input_data, conv])\n",
        "        out = Activation(\"relu\")(out)\n",
        "\n",
        "        return out\n",
        "\n",
        "    # fig 7\n",
        "    # k l m n = 256 256 384 384\n",
        "    def RA(self, input_data):\n",
        "        b_0 = MaxPool2D((3,3), strides=2, padding=\"valid\")(input_data)\n",
        "\n",
        "        b_1 = Conv2D(384, (3,3), strides=2, padding=\"valid\")(input_data)\n",
        "        b_1 = BatchNormalization()(b_1)\n",
        "        b_1 = Activation(\"relu\")(b_1)\n",
        "\n",
        "        b_2 = Conv2D(256, (1,1), padding=\"same\")(input_data)\n",
        "        b_2 = BatchNormalization()(b_2)\n",
        "        b_2 = Activation(\"relu\")(b_2)\n",
        "        b_2 = Conv2D(256, (3,3), padding=\"same\")(b_2)\n",
        "        b_2 = BatchNormalization()(b_2)\n",
        "        b_2 = Activation(\"relu\")(b_2)\n",
        "        b_2 = Conv2D(384, (3,3), strides=2, padding=\"valid\")(b_2)\n",
        "        b_2 = BatchNormalization()(b_2)\n",
        "        b_2 = Activation(\"relu\")(b_2)\n",
        "\n",
        "        conc_1 = concatenate([b_0, b_1, b_2])\n",
        "\n",
        "        return conc_1\n",
        "\n",
        "    # fig 17\n",
        "    def IRB(self, input_data):\n",
        "        b_1 = Conv2D(192, (1,1), padding=\"same\")(input_data)\n",
        "        b_1 = BatchNormalization()(b_1)\n",
        "        b_1 = Activation(\"relu\")(b_1)\n",
        "\n",
        "        b_2 = Conv2D(128, (1,1), padding=\"same\")(input_data)\n",
        "        b_2 = BatchNormalization()(b_2)\n",
        "        b_2 = Activation(\"relu\")(b_2)\n",
        "        b_2 = Conv2D(160, (1,7), padding=\"same\")(b_2)\n",
        "        b_2 = BatchNormalization()(b_2)\n",
        "        b_2 = Activation(\"relu\")(b_2)\n",
        "        b_2 = Conv2D(192, (7,1), padding=\"same\")(b_2)\n",
        "        b_2 = BatchNormalization()(b_2)\n",
        "        b_2 = Activation(\"relu\")(b_2)\n",
        "\n",
        "        conc_1 = concatenate([b_1, b_2])\n",
        "\n",
        "        conv = Conv2D(1152, (1,1), padding=\"same\")(conc_1)\n",
        "\n",
        "        out = Lambda(lambda inputs, scale: inputs[0] + inputs[1] * scale,\n",
        "               output_shape=K.int_shape(conv)[1:],\n",
        "               arguments={'scale': self.scale2})([input_data, conv])\n",
        "        out = Activation(\"relu\")(out)\n",
        "        return out\n",
        "\n",
        "\n",
        "    def RB(self, input_data):\n",
        "        b_0 = MaxPool2D((3,3), strides=2, padding=\"valid\")(input_data)\n",
        "\n",
        "        b_1 = Conv2D(256, (1,1), padding=\"same\")(input_data)\n",
        "        b_1 = BatchNormalization()(b_1)\n",
        "        b_1 = Activation(\"relu\")(b_1)\n",
        "        b_1 = Conv2D(384, (3,3),strides=2, padding=\"valid\")(b_1)\n",
        "        b_1 = BatchNormalization()(b_1)\n",
        "        b_1 = Activation(\"relu\")(b_1)\n",
        "\n",
        "        b_2 = Conv2D(256, (1,1), padding=\"same\")(input_data)\n",
        "        b_2 = BatchNormalization()(b_2)\n",
        "        b_2 = Activation(\"relu\")(b_2)\n",
        "        b_2 = Conv2D(288, (3,3),strides=2, padding=\"valid\")(b_2)\n",
        "        b_2 = BatchNormalization()(b_2)\n",
        "        b_2 = Activation(\"relu\")(b_2)\n",
        "\n",
        "        b_3 = Conv2D(256, (1,1), padding=\"same\")(input_data)\n",
        "        b_3 = BatchNormalization()(b_3)\n",
        "        b_3 = Activation(\"relu\")(b_3)\n",
        "        b_3 = Conv2D(288, (3,3), padding=\"same\")(b_3)\n",
        "        b_3 = BatchNormalization()(b_3)\n",
        "        b_3 = Activation(\"relu\")(b_3)\n",
        "        b_3 = Conv2D(320, (3,3),strides=2, padding=\"valid\")(b_3)\n",
        "        b_3 = BatchNormalization()(b_3)\n",
        "        b_3 = Activation(\"relu\")(b_3)\n",
        "\n",
        "        conc = concatenate([b_0,b_1,b_2,b_3])\n",
        "        return conc\n",
        "\n",
        "    def IRC(self, input_data):\n",
        "        b_1 = Conv2D(192, (1,1), padding=\"same\")(input_data)\n",
        "        b_1 = BatchNormalization()(b_1)\n",
        "        b_1 = Activation(\"relu\")(b_1)\n",
        "\n",
        "        b_2 = Conv2D(192, (1,1), padding=\"same\")(input_data)\n",
        "        b_2 = BatchNormalization()(b_2)\n",
        "        b_2 = Activation(\"relu\")(b_2)\n",
        "        b_2 = Conv2D(224, (1,3), padding=\"same\")(b_2)\n",
        "        b_2 = BatchNormalization()(b_2)\n",
        "        b_2 = Activation(\"relu\")(b_2)\n",
        "        b_2 = Conv2D(256, (3,1), padding=\"same\")(b_2)\n",
        "        b_2 = BatchNormalization()(b_2)\n",
        "        b_2 = Activation(\"relu\")(b_2)\n",
        "\n",
        "        conc_1 = concatenate([b_1, b_2])\n",
        "\n",
        "        conv = Conv2D(2144, (1,1), padding=\"same\")(conc_1)\n",
        "        out = Lambda(lambda inputs, scale: inputs[0] + inputs[1] * scale,\n",
        "               output_shape=K.int_shape(conv)[1:],\n",
        "               arguments={'scale': self.scale3})([input_data, conv])\n",
        "        relu = Activation(\"relu\")(out)\n",
        "        return relu"
      ]
    },
    {
      "cell_type": "code",
      "execution_count": null,
      "metadata": {
        "colab": {
          "base_uri": "https://localhost:8080/"
        },
        "id": "XkUK5BfiAqPL",
        "outputId": "1d17570b-7942-4206-85fc-15c3a6c093ad"
      },
      "outputs": [
        {
          "output_type": "stream",
          "name": "stdout",
          "text": [
            "Epoch 1/50\n",
            "119/119 [==============================] - 146s 939ms/step - loss: 2.9512 - accuracy: 0.3202 - val_loss: 3.0532 - val_accuracy: 0.2569\n",
            "Epoch 2/50\n",
            "119/119 [==============================] - 103s 870ms/step - loss: 2.0997 - accuracy: 0.3961 - val_loss: 2.7914 - val_accuracy: 0.3270\n",
            "Epoch 3/50\n",
            "119/119 [==============================] - 105s 885ms/step - loss: 1.7695 - accuracy: 0.4870 - val_loss: 2.9577 - val_accuracy: 0.3759\n",
            "Epoch 4/50\n",
            "119/119 [==============================] - 106s 890ms/step - loss: 1.4621 - accuracy: 0.5737 - val_loss: 2.6836 - val_accuracy: 0.3696\n",
            "Epoch 5/50\n",
            "119/119 [==============================] - 106s 889ms/step - loss: 1.0962 - accuracy: 0.6835 - val_loss: 1.9533 - val_accuracy: 0.5051\n",
            "Epoch 6/50\n",
            "119/119 [==============================] - 106s 890ms/step - loss: 0.7851 - accuracy: 0.7757 - val_loss: 1.8672 - val_accuracy: 0.5768\n",
            "Epoch 7/50\n",
            "119/119 [==============================] - 106s 889ms/step - loss: 0.5725 - accuracy: 0.8293 - val_loss: 2.5705 - val_accuracy: 0.4594\n",
            "Epoch 8/50\n",
            "119/119 [==============================] - 106s 888ms/step - loss: 0.4007 - accuracy: 0.8878 - val_loss: 0.9867 - val_accuracy: 0.7541\n",
            "Epoch 9/50\n",
            "119/119 [==============================] - 106s 888ms/step - loss: 0.2924 - accuracy: 0.9144 - val_loss: 1.7079 - val_accuracy: 0.6525\n",
            "Epoch 10/50\n",
            "119/119 [==============================] - 106s 888ms/step - loss: 0.2399 - accuracy: 0.9283 - val_loss: 1.0783 - val_accuracy: 0.7557\n",
            "Epoch 11/50\n",
            "119/119 [==============================] - 106s 888ms/step - loss: 0.1347 - accuracy: 0.9632 - val_loss: 0.7178 - val_accuracy: 0.8258\n",
            "Epoch 12/50\n",
            "119/119 [==============================] - 106s 888ms/step - loss: 0.1173 - accuracy: 0.9648 - val_loss: 1.2824 - val_accuracy: 0.7321\n",
            "Epoch 13/50\n",
            "119/119 [==============================] - 105s 886ms/step - loss: 0.1376 - accuracy: 0.9559 - val_loss: 0.9545 - val_accuracy: 0.7801\n",
            "Epoch 14/50\n",
            "119/119 [==============================] - 106s 888ms/step - loss: 0.1002 - accuracy: 0.9727 - val_loss: 0.5389 - val_accuracy: 0.8897\n",
            "Epoch 15/50\n",
            "119/119 [==============================] - 105s 887ms/step - loss: 0.0878 - accuracy: 0.9727 - val_loss: 0.9744 - val_accuracy: 0.7801\n",
            "Epoch 16/50\n",
            "119/119 [==============================] - 106s 888ms/step - loss: 0.0883 - accuracy: 0.9761 - val_loss: 1.0473 - val_accuracy: 0.7494\n",
            "Epoch 17/50\n",
            "119/119 [==============================] - 105s 887ms/step - loss: 0.0966 - accuracy: 0.9732 - val_loss: 1.0573 - val_accuracy: 0.7699\n",
            "Epoch 18/50\n",
            "119/119 [==============================] - 106s 887ms/step - loss: 0.0694 - accuracy: 0.9798 - val_loss: 0.7013 - val_accuracy: 0.8314\n",
            "Epoch 19/50\n",
            "119/119 [==============================] - 105s 887ms/step - loss: 0.0722 - accuracy: 0.9769 - val_loss: 0.3832 - val_accuracy: 0.9196\n",
            "Epoch 20/50\n",
            "119/119 [==============================] - 105s 887ms/step - loss: 0.0471 - accuracy: 0.9869 - val_loss: 0.6363 - val_accuracy: 0.8652\n",
            "Epoch 21/50\n",
            "119/119 [==============================] - ETA: 0s - loss: 0.0643 - accuracy: 0.9800"
          ]
        }
      ],
      "source": [
        "#i, j, k = 0.2, 0.1, 0.25\n",
        "i, j, k = 0.3, 0.25, 0.2\n",
        "# tf.keras.backend.clear_session()\n",
        "# tf.keras.backend.set_learning_phase(True)\n",
        "model = IRV2(X_train.shape[1:], 48, activation= 'softmax', scale1=i, scale2=j, scale3=k).build_model()\n",
        "model.compile(loss='sparse_categorical_crossentropy',optimizer=\"adam\",\n",
        "                metrics=['accuracy'])\n",
        "epochs = 50\n",
        "history = model.fit(X_train, y_train_e, batch_size=32, epochs=epochs, validation_data=(X_val, y_val_e))\n",
        "model.save(\"IRV2_Final1\")\n",
        "tmp = pd.DataFrame.from_dict(history.history)\n",
        "tmp.to_csv(\"IRV2_history.csv\")\n",
        "!cp -R IRV2_Final1/ drive/MyDrive/IRV2_Final1\n",
        "!cp IRV2_history.csv drive/MyDrive/IRV2_history1.csv"
      ]
    },
    {
      "cell_type": "code",
      "source": [
        "history1.history"
      ],
      "metadata": {
        "colab": {
          "base_uri": "https://localhost:8080/"
        },
        "id": "1oFXS8PePbJ4",
        "outputId": "7ad63e6d-4260-4fbf-f9fe-367d0f49e59d"
      },
      "execution_count": null,
      "outputs": [
        {
          "output_type": "execute_result",
          "data": {
            "text/plain": [
              "{'accuracy': [0.9966844916343689,\n",
              "  0.9977046847343445,\n",
              "  0.9987248182296753,\n",
              "  0.9982147216796875,\n",
              "  0.9977046847343445],\n",
              " 'loss': [0.014184854924678802,\n",
              "  0.009055106900632381,\n",
              "  0.006048876326531172,\n",
              "  0.0038963521365076303,\n",
              "  0.004437550902366638],\n",
              " 'val_accuracy': [0.9571537971496582,\n",
              "  0.9655700325965881,\n",
              "  0.9686304330825806,\n",
              "  0.9701606631278992,\n",
              "  0.967100203037262],\n",
              " 'val_loss': [0.17321275174617767,\n",
              "  0.13784149289131165,\n",
              "  0.13420701026916504,\n",
              "  0.13053496181964874,\n",
              "  0.12961040437221527]}"
            ]
          },
          "metadata": {},
          "execution_count": 10
        }
      ]
    },
    {
      "cell_type": "code",
      "source": [
        "tmp = pd.DataFrame.from_dict(history.history)\n",
        "tmp.to_csv(\"IRV2_history.csv\")\n",
        "#!cp -R IRV2_Final1/ drive/MyDrive/IRV2_Final1\n",
        "!cp IRV2_history.csv drive/MyDrive/IRV2_h.csv\n",
        "tmp = pd.DataFrame.from_dict(history1.history)\n",
        "tmp.to_csv(\"IRV2_history1.csv\")\n",
        "#!cp -R IRV2_Final1/ drive/MyDrive/IRV2_Final1\n",
        "!cp IRV2_history.csv drive/MyDrive/IRV2_h1.csv"
      ],
      "metadata": {
        "id": "LqcsW6QrPjVk"
      },
      "execution_count": null,
      "outputs": []
    },
    {
      "cell_type": "code",
      "source": [
        "epochs = 5\n",
        "history1 = model.fit(X_train, y_train_e, batch_size=32, epochs=epochs, validation_data=(X_val, y_val_e))"
      ],
      "metadata": {
        "colab": {
          "base_uri": "https://localhost:8080/"
        },
        "id": "t3eE2olymoiB",
        "outputId": "9e4b40ea-8d70-4c7e-9f17-df7429067ddc"
      },
      "execution_count": null,
      "outputs": [
        {
          "output_type": "stream",
          "name": "stdout",
          "text": [
            "Epoch 1/5\n",
            "123/123 [==============================] - 104s 847ms/step - loss: 0.0142 - accuracy: 0.9967 - val_loss: 0.1732 - val_accuracy: 0.9572\n",
            "Epoch 2/5\n",
            "123/123 [==============================] - 106s 861ms/step - loss: 0.0091 - accuracy: 0.9977 - val_loss: 0.1378 - val_accuracy: 0.9656\n",
            "Epoch 3/5\n",
            "123/123 [==============================] - 108s 878ms/step - loss: 0.0060 - accuracy: 0.9987 - val_loss: 0.1342 - val_accuracy: 0.9686\n",
            "Epoch 4/5\n",
            "123/123 [==============================] - 109s 885ms/step - loss: 0.0039 - accuracy: 0.9982 - val_loss: 0.1305 - val_accuracy: 0.9702\n",
            "Epoch 5/5\n",
            "123/123 [==============================] - 109s 887ms/step - loss: 0.0044 - accuracy: 0.9977 - val_loss: 0.1296 - val_accuracy: 0.9671\n"
          ]
        }
      ]
    },
    {
      "cell_type": "code",
      "source": [
        "model.save(\"IRV2_Final1\")\n",
        "tmp = pd.DataFrame.from_dict(history1.history)\n",
        "tmp.to_csv(\"IRV2_history2.csv\")\n",
        "!cp -R IRV2_Final1/ drive/MyDrive/IRV2_Final2\n",
        "!cp IRV2_history1.csv drive/MyDrive/IRV2_history1.csv"
      ],
      "metadata": {
        "colab": {
          "base_uri": "https://localhost:8080/",
          "height": 397
        },
        "id": "nF2k_5pguxUg",
        "outputId": "6252f3c3-43d2-4425-f36e-1371cc1d9b3c"
      },
      "execution_count": null,
      "outputs": [
        {
          "output_type": "error",
          "ename": "KeyboardInterrupt",
          "evalue": "ignored",
          "traceback": [
            "\u001b[0;31m---------------------------------------------------------------------------\u001b[0m",
            "\u001b[0;31mKeyboardInterrupt\u001b[0m                         Traceback (most recent call last)",
            "\u001b[0;32m<ipython-input-9-6e6e1388eeb7>\u001b[0m in \u001b[0;36m<module>\u001b[0;34m()\u001b[0m\n\u001b[0;32m----> 1\u001b[0;31m \u001b[0mmodel\u001b[0m\u001b[0;34m.\u001b[0m\u001b[0msave\u001b[0m\u001b[0;34m(\u001b[0m\u001b[0;34m\"IRV2_Final1\"\u001b[0m\u001b[0;34m)\u001b[0m\u001b[0;34m\u001b[0m\u001b[0;34m\u001b[0m\u001b[0m\n\u001b[0m\u001b[1;32m      2\u001b[0m \u001b[0mtmp\u001b[0m \u001b[0;34m=\u001b[0m \u001b[0mpd\u001b[0m\u001b[0;34m.\u001b[0m\u001b[0mDataFrame\u001b[0m\u001b[0;34m.\u001b[0m\u001b[0mfrom_dict\u001b[0m\u001b[0;34m(\u001b[0m\u001b[0mhistory1\u001b[0m\u001b[0;34m.\u001b[0m\u001b[0mhistory\u001b[0m\u001b[0;34m)\u001b[0m\u001b[0;34m\u001b[0m\u001b[0;34m\u001b[0m\u001b[0m\n\u001b[1;32m      3\u001b[0m \u001b[0mtmp\u001b[0m\u001b[0;34m.\u001b[0m\u001b[0mto_csv\u001b[0m\u001b[0;34m(\u001b[0m\u001b[0;34m\"IRV2_history2.csv\"\u001b[0m\u001b[0;34m)\u001b[0m\u001b[0;34m\u001b[0m\u001b[0;34m\u001b[0m\u001b[0m\n\u001b[1;32m      4\u001b[0m \u001b[0mget_ipython\u001b[0m\u001b[0;34m(\u001b[0m\u001b[0;34m)\u001b[0m\u001b[0;34m.\u001b[0m\u001b[0msystem\u001b[0m\u001b[0;34m(\u001b[0m\u001b[0;34m'cp -R IRV2_Final1/ drive/MyDrive/IRV2_Final2'\u001b[0m\u001b[0;34m)\u001b[0m\u001b[0;34m\u001b[0m\u001b[0;34m\u001b[0m\u001b[0m\n\u001b[1;32m      5\u001b[0m \u001b[0mget_ipython\u001b[0m\u001b[0;34m(\u001b[0m\u001b[0;34m)\u001b[0m\u001b[0;34m.\u001b[0m\u001b[0msystem\u001b[0m\u001b[0;34m(\u001b[0m\u001b[0;34m'cp IRV2_history1.csv drive/MyDrive/IRV2_history1.csv'\u001b[0m\u001b[0;34m)\u001b[0m\u001b[0;34m\u001b[0m\u001b[0;34m\u001b[0m\u001b[0m\n",
            "\u001b[0;32m/usr/local/lib/python3.7/dist-packages/keras/utils/traceback_utils.py\u001b[0m in \u001b[0;36merror_handler\u001b[0;34m(*args, **kwargs)\u001b[0m\n\u001b[1;32m     62\u001b[0m     \u001b[0mfiltered_tb\u001b[0m \u001b[0;34m=\u001b[0m \u001b[0;32mNone\u001b[0m\u001b[0;34m\u001b[0m\u001b[0;34m\u001b[0m\u001b[0m\n\u001b[1;32m     63\u001b[0m     \u001b[0;32mtry\u001b[0m\u001b[0;34m:\u001b[0m\u001b[0;34m\u001b[0m\u001b[0;34m\u001b[0m\u001b[0m\n\u001b[0;32m---> 64\u001b[0;31m       \u001b[0;32mreturn\u001b[0m \u001b[0mfn\u001b[0m\u001b[0;34m(\u001b[0m\u001b[0;34m*\u001b[0m\u001b[0margs\u001b[0m\u001b[0;34m,\u001b[0m \u001b[0;34m**\u001b[0m\u001b[0mkwargs\u001b[0m\u001b[0;34m)\u001b[0m\u001b[0;34m\u001b[0m\u001b[0;34m\u001b[0m\u001b[0m\n\u001b[0m\u001b[1;32m     65\u001b[0m     \u001b[0;32mexcept\u001b[0m \u001b[0mException\u001b[0m \u001b[0;32mas\u001b[0m \u001b[0me\u001b[0m\u001b[0;34m:\u001b[0m  \u001b[0;31m# pylint: disable=broad-except\u001b[0m\u001b[0;34m\u001b[0m\u001b[0;34m\u001b[0m\u001b[0m\n\u001b[1;32m     66\u001b[0m       \u001b[0mfiltered_tb\u001b[0m \u001b[0;34m=\u001b[0m \u001b[0m_process_traceback_frames\u001b[0m\u001b[0;34m(\u001b[0m\u001b[0me\u001b[0m\u001b[0;34m.\u001b[0m\u001b[0m__traceback__\u001b[0m\u001b[0;34m)\u001b[0m\u001b[0;34m\u001b[0m\u001b[0;34m\u001b[0m\u001b[0m\n",
            "\u001b[0;32m/usr/local/lib/python3.7/dist-packages/keras/engine/training.py\u001b[0m in \u001b[0;36msave\u001b[0;34m(self, filepath, overwrite, include_optimizer, save_format, signatures, options, save_traces)\u001b[0m\n\u001b[1;32m   2383\u001b[0m     \u001b[0;31m# pylint: enable=line-too-long\u001b[0m\u001b[0;34m\u001b[0m\u001b[0;34m\u001b[0m\u001b[0;34m\u001b[0m\u001b[0m\n\u001b[1;32m   2384\u001b[0m     save.save_model(self, filepath, overwrite, include_optimizer, save_format,\n\u001b[0;32m-> 2385\u001b[0;31m                     signatures, options, save_traces)\n\u001b[0m\u001b[1;32m   2386\u001b[0m \u001b[0;34m\u001b[0m\u001b[0m\n\u001b[1;32m   2387\u001b[0m   \u001b[0;34m@\u001b[0m\u001b[0mtraceback_utils\u001b[0m\u001b[0;34m.\u001b[0m\u001b[0mfilter_traceback\u001b[0m\u001b[0;34m\u001b[0m\u001b[0;34m\u001b[0m\u001b[0m\n",
            "\u001b[0;32m/usr/local/lib/python3.7/dist-packages/keras/utils/traceback_utils.py\u001b[0m in \u001b[0;36merror_handler\u001b[0;34m(*args, **kwargs)\u001b[0m\n\u001b[1;32m     62\u001b[0m     \u001b[0mfiltered_tb\u001b[0m \u001b[0;34m=\u001b[0m \u001b[0;32mNone\u001b[0m\u001b[0;34m\u001b[0m\u001b[0;34m\u001b[0m\u001b[0m\n\u001b[1;32m     63\u001b[0m     \u001b[0;32mtry\u001b[0m\u001b[0;34m:\u001b[0m\u001b[0;34m\u001b[0m\u001b[0;34m\u001b[0m\u001b[0m\n\u001b[0;32m---> 64\u001b[0;31m       \u001b[0;32mreturn\u001b[0m \u001b[0mfn\u001b[0m\u001b[0;34m(\u001b[0m\u001b[0;34m*\u001b[0m\u001b[0margs\u001b[0m\u001b[0;34m,\u001b[0m \u001b[0;34m**\u001b[0m\u001b[0mkwargs\u001b[0m\u001b[0;34m)\u001b[0m\u001b[0;34m\u001b[0m\u001b[0;34m\u001b[0m\u001b[0m\n\u001b[0m\u001b[1;32m     65\u001b[0m     \u001b[0;32mexcept\u001b[0m \u001b[0mException\u001b[0m \u001b[0;32mas\u001b[0m \u001b[0me\u001b[0m\u001b[0;34m:\u001b[0m  \u001b[0;31m# pylint: disable=broad-except\u001b[0m\u001b[0;34m\u001b[0m\u001b[0;34m\u001b[0m\u001b[0m\n\u001b[1;32m     66\u001b[0m       \u001b[0mfiltered_tb\u001b[0m \u001b[0;34m=\u001b[0m \u001b[0m_process_traceback_frames\u001b[0m\u001b[0;34m(\u001b[0m\u001b[0me\u001b[0m\u001b[0;34m.\u001b[0m\u001b[0m__traceback__\u001b[0m\u001b[0;34m)\u001b[0m\u001b[0;34m\u001b[0m\u001b[0;34m\u001b[0m\u001b[0m\n",
            "\u001b[0;32m/usr/local/lib/python3.7/dist-packages/keras/saving/save.py\u001b[0m in \u001b[0;36msave_model\u001b[0;34m(model, filepath, overwrite, include_optimizer, save_format, signatures, options, save_traces)\u001b[0m\n\u001b[1;32m    150\u001b[0m     \u001b[0;32mwith\u001b[0m \u001b[0mgeneric_utils\u001b[0m\u001b[0;34m.\u001b[0m\u001b[0mSharedObjectSavingScope\u001b[0m\u001b[0;34m(\u001b[0m\u001b[0;34m)\u001b[0m\u001b[0;34m:\u001b[0m\u001b[0;34m\u001b[0m\u001b[0;34m\u001b[0m\u001b[0m\n\u001b[1;32m    151\u001b[0m       saved_model_save.save(model, filepath, overwrite, include_optimizer,\n\u001b[0;32m--> 152\u001b[0;31m                             signatures, options, save_traces)\n\u001b[0m\u001b[1;32m    153\u001b[0m \u001b[0;34m\u001b[0m\u001b[0m\n\u001b[1;32m    154\u001b[0m \u001b[0;34m\u001b[0m\u001b[0m\n",
            "\u001b[0;32m/usr/local/lib/python3.7/dist-packages/keras/saving/saved_model/save.py\u001b[0m in \u001b[0;36msave\u001b[0;34m(model, filepath, overwrite, include_optimizer, signatures, options, save_traces)\u001b[0m\n\u001b[1;32m     92\u001b[0m     \u001b[0;32mwith\u001b[0m \u001b[0mutils\u001b[0m\u001b[0;34m.\u001b[0m\u001b[0mkeras_option_scope\u001b[0m\u001b[0;34m(\u001b[0m\u001b[0msave_traces\u001b[0m\u001b[0;34m)\u001b[0m\u001b[0;34m:\u001b[0m\u001b[0;34m\u001b[0m\u001b[0;34m\u001b[0m\u001b[0m\n\u001b[1;32m     93\u001b[0m       saved_nodes, node_paths = save_lib.save_and_return_nodes(\n\u001b[0;32m---> 94\u001b[0;31m           model, filepath, signatures, options)\n\u001b[0m\u001b[1;32m     95\u001b[0m \u001b[0;34m\u001b[0m\u001b[0m\n\u001b[1;32m     96\u001b[0m     \u001b[0;31m# Save all metadata to a separate file in the SavedModel directory.\u001b[0m\u001b[0;34m\u001b[0m\u001b[0;34m\u001b[0m\u001b[0;34m\u001b[0m\u001b[0m\n",
            "\u001b[0;32m/usr/local/lib/python3.7/dist-packages/tensorflow/python/saved_model/save.py\u001b[0m in \u001b[0;36msave_and_return_nodes\u001b[0;34m(obj, export_dir, signatures, options, experimental_skip_checkpoint)\u001b[0m\n\u001b[1;32m   1367\u001b[0m \u001b[0;34m\u001b[0m\u001b[0m\n\u001b[1;32m   1368\u001b[0m   _, exported_graph, object_saver, asset_info, saved_nodes, node_paths = (\n\u001b[0;32m-> 1369\u001b[0;31m       _build_meta_graph(obj, signatures, options, meta_graph_def))\n\u001b[0m\u001b[1;32m   1370\u001b[0m   saved_model.saved_model_schema_version = (\n\u001b[1;32m   1371\u001b[0m       constants.SAVED_MODEL_SCHEMA_VERSION)\n",
            "\u001b[0;32m/usr/local/lib/python3.7/dist-packages/tensorflow/python/saved_model/save.py\u001b[0m in \u001b[0;36m_build_meta_graph\u001b[0;34m(obj, signatures, options, meta_graph_def)\u001b[0m\n\u001b[1;32m   1534\u001b[0m \u001b[0;34m\u001b[0m\u001b[0m\n\u001b[1;32m   1535\u001b[0m   \u001b[0;32mwith\u001b[0m \u001b[0msave_context\u001b[0m\u001b[0;34m.\u001b[0m\u001b[0msave_context\u001b[0m\u001b[0;34m(\u001b[0m\u001b[0moptions\u001b[0m\u001b[0;34m)\u001b[0m\u001b[0;34m:\u001b[0m\u001b[0;34m\u001b[0m\u001b[0;34m\u001b[0m\u001b[0m\n\u001b[0;32m-> 1536\u001b[0;31m     \u001b[0;32mreturn\u001b[0m \u001b[0m_build_meta_graph_impl\u001b[0m\u001b[0;34m(\u001b[0m\u001b[0mobj\u001b[0m\u001b[0;34m,\u001b[0m \u001b[0msignatures\u001b[0m\u001b[0;34m,\u001b[0m \u001b[0moptions\u001b[0m\u001b[0;34m,\u001b[0m \u001b[0mmeta_graph_def\u001b[0m\u001b[0;34m)\u001b[0m\u001b[0;34m\u001b[0m\u001b[0;34m\u001b[0m\u001b[0m\n\u001b[0m",
            "\u001b[0;32m/usr/local/lib/python3.7/dist-packages/tensorflow/python/saved_model/save.py\u001b[0m in \u001b[0;36m_build_meta_graph_impl\u001b[0;34m(obj, signatures, options, meta_graph_def)\u001b[0m\n\u001b[1;32m   1490\u001b[0m   asset_info, exported_graph = _fill_meta_graph_def(\n\u001b[1;32m   1491\u001b[0m       \u001b[0mmeta_graph_def\u001b[0m\u001b[0;34m,\u001b[0m \u001b[0msaveable_view\u001b[0m\u001b[0;34m,\u001b[0m \u001b[0msignatures\u001b[0m\u001b[0;34m,\u001b[0m\u001b[0;34m\u001b[0m\u001b[0;34m\u001b[0m\u001b[0m\n\u001b[0;32m-> 1492\u001b[0;31m       options.namespace_whitelist, options.experimental_custom_gradients)\n\u001b[0m\u001b[1;32m   1493\u001b[0m   \u001b[0;32mif\u001b[0m \u001b[0moptions\u001b[0m\u001b[0;34m.\u001b[0m\u001b[0mfunction_aliases\u001b[0m\u001b[0;34m:\u001b[0m\u001b[0;34m\u001b[0m\u001b[0;34m\u001b[0m\u001b[0m\n\u001b[1;32m   1494\u001b[0m     \u001b[0mfunction_aliases\u001b[0m \u001b[0;34m=\u001b[0m \u001b[0mmeta_graph_def\u001b[0m\u001b[0;34m.\u001b[0m\u001b[0mmeta_info_def\u001b[0m\u001b[0;34m.\u001b[0m\u001b[0mfunction_aliases\u001b[0m\u001b[0;34m\u001b[0m\u001b[0;34m\u001b[0m\u001b[0m\n",
            "\u001b[0;32m/usr/local/lib/python3.7/dist-packages/tensorflow/python/saved_model/save.py\u001b[0m in \u001b[0;36m_fill_meta_graph_def\u001b[0;34m(meta_graph_def, saveable_view, signature_functions, namespace_whitelist, save_custom_gradients)\u001b[0m\n\u001b[1;32m    932\u001b[0m       saveable_view.checkpoint_view.frozen_saveables_and_savers(\n\u001b[1;32m    933\u001b[0m           \u001b[0mobject_map\u001b[0m\u001b[0;34m=\u001b[0m\u001b[0mobject_map\u001b[0m\u001b[0;34m,\u001b[0m \u001b[0mto_graph\u001b[0m\u001b[0;34m=\u001b[0m\u001b[0mexported_graph\u001b[0m\u001b[0;34m,\u001b[0m\u001b[0;34m\u001b[0m\u001b[0;34m\u001b[0m\u001b[0m\n\u001b[0;32m--> 934\u001b[0;31m           call_with_mapped_captures=call_with_mapped_captures))\n\u001b[0m\u001b[1;32m    935\u001b[0m   saver = functional_saver.MultiDeviceSaver(named_saveable_objects,\n\u001b[1;32m    936\u001b[0m                                             \u001b[0mregistered_savers\u001b[0m\u001b[0;34m,\u001b[0m\u001b[0;34m\u001b[0m\u001b[0;34m\u001b[0m\u001b[0m\n",
            "\u001b[0;32m/usr/local/lib/python3.7/dist-packages/tensorflow/python/training/tracking/graph_view.py\u001b[0m in \u001b[0;36mfrozen_saveables_and_savers\u001b[0;34m(self, object_map, to_graph, call_with_mapped_captures)\u001b[0m\n\u001b[1;32m    582\u001b[0m                                            \u001b[0mnode_paths\u001b[0m\u001b[0;34m,\u001b[0m\u001b[0;34m\u001b[0m\u001b[0;34m\u001b[0m\u001b[0m\n\u001b[1;32m    583\u001b[0m                                            \u001b[0mobject_map\u001b[0m\u001b[0;34m,\u001b[0m\u001b[0;34m\u001b[0m\u001b[0;34m\u001b[0m\u001b[0m\n\u001b[0;32m--> 584\u001b[0;31m                                            call_with_mapped_captures))\n\u001b[0m\u001b[1;32m    585\u001b[0m       \u001b[0;32mwith\u001b[0m \u001b[0mops\u001b[0m\u001b[0;34m.\u001b[0m\u001b[0mdevice\u001b[0m\u001b[0;34m(\u001b[0m\u001b[0;34m\"/cpu:0\"\u001b[0m\u001b[0;34m)\u001b[0m\u001b[0;34m:\u001b[0m\u001b[0;34m\u001b[0m\u001b[0;34m\u001b[0m\u001b[0m\n\u001b[1;32m    586\u001b[0m         object_graph_tensor = constant_op.constant(\n",
            "\u001b[0;32m/usr/local/lib/python3.7/dist-packages/tensorflow/python/training/tracking/graph_view.py\u001b[0m in \u001b[0;36m_serialize_gathered_objects\u001b[0;34m(self, trackable_objects, node_paths, object_map, call_with_mapped_captures)\u001b[0m\n\u001b[1;32m    525\u001b[0m             \u001b[0mobject_names\u001b[0m\u001b[0;34m=\u001b[0m\u001b[0mobject_names\u001b[0m\u001b[0;34m,\u001b[0m\u001b[0;34m\u001b[0m\u001b[0;34m\u001b[0m\u001b[0m\n\u001b[1;32m    526\u001b[0m             \u001b[0mobject_map\u001b[0m\u001b[0;34m=\u001b[0m\u001b[0mobject_map\u001b[0m\u001b[0;34m,\u001b[0m\u001b[0;34m\u001b[0m\u001b[0;34m\u001b[0m\u001b[0m\n\u001b[0;32m--> 527\u001b[0;31m             call_with_mapped_captures=call_with_mapped_captures))\n\u001b[0m\u001b[1;32m    528\u001b[0m     \u001b[0;31m# Gather all trackables that have checkpoint values or descendants with\u001b[0m\u001b[0;34m\u001b[0m\u001b[0;34m\u001b[0m\u001b[0;34m\u001b[0m\u001b[0m\n\u001b[1;32m    529\u001b[0m     \u001b[0;31m# checkpoint values, and add that info to the proto.\u001b[0m\u001b[0;34m\u001b[0m\u001b[0;34m\u001b[0m\u001b[0;34m\u001b[0m\u001b[0m\n",
            "\u001b[0;32m/usr/local/lib/python3.7/dist-packages/tensorflow/python/training/tracking/graph_view.py\u001b[0m in \u001b[0;36m_add_attributes_to_object_graph\u001b[0;34m(self, trackable_objects, object_graph_proto, node_ids, object_names, object_map, call_with_mapped_captures)\u001b[0m\n\u001b[1;32m    334\u001b[0m         self._add_attributes_to_object_graph_for_saveable_objects(\n\u001b[1;32m    335\u001b[0m             \u001b[0mcheckpoint_factory_map\u001b[0m\u001b[0;34m,\u001b[0m \u001b[0mobject_graph_proto\u001b[0m\u001b[0;34m,\u001b[0m \u001b[0mnode_ids\u001b[0m\u001b[0;34m,\u001b[0m \u001b[0mobject_map\u001b[0m\u001b[0;34m,\u001b[0m\u001b[0;34m\u001b[0m\u001b[0;34m\u001b[0m\u001b[0m\n\u001b[0;32m--> 336\u001b[0;31m             call_with_mapped_captures))\n\u001b[0m\u001b[1;32m    337\u001b[0m     \u001b[0;32mreturn\u001b[0m \u001b[0mnamed_saveable_objects\u001b[0m\u001b[0;34m,\u001b[0m \u001b[0mfeed_additions\u001b[0m\u001b[0;34m,\u001b[0m \u001b[0mregistered_savers\u001b[0m\u001b[0;34m\u001b[0m\u001b[0;34m\u001b[0m\u001b[0m\n\u001b[1;32m    338\u001b[0m \u001b[0;34m\u001b[0m\u001b[0m\n",
            "\u001b[0;32m/usr/local/lib/python3.7/dist-packages/tensorflow/python/training/tracking/graph_view.py\u001b[0m in \u001b[0;36m_add_attributes_to_object_graph_for_saveable_objects\u001b[0;34m(self, checkpoint_factory_map, object_graph_proto, node_ids, object_map, call_with_mapped_captures)\u001b[0m\n\u001b[1;32m    352\u001b[0m       \u001b[0mfeed_additions\u001b[0m \u001b[0;34m=\u001b[0m \u001b[0;34m{\u001b[0m\u001b[0;34m}\u001b[0m\u001b[0;34m\u001b[0m\u001b[0;34m\u001b[0m\u001b[0m\n\u001b[1;32m    353\u001b[0m     \u001b[0;32mfor\u001b[0m \u001b[0mtrackable\u001b[0m\u001b[0;34m,\u001b[0m \u001b[0mfactory_data_list\u001b[0m \u001b[0;32min\u001b[0m \u001b[0mcheckpoint_factory_map\u001b[0m\u001b[0;34m.\u001b[0m\u001b[0mitems\u001b[0m\u001b[0;34m(\u001b[0m\u001b[0;34m)\u001b[0m\u001b[0;34m:\u001b[0m\u001b[0;34m\u001b[0m\u001b[0;34m\u001b[0m\u001b[0m\n\u001b[0;32m--> 354\u001b[0;31m       \u001b[0mobject_proto\u001b[0m \u001b[0;34m=\u001b[0m \u001b[0mobject_graph_proto\u001b[0m\u001b[0;34m.\u001b[0m\u001b[0mnodes\u001b[0m\u001b[0;34m[\u001b[0m\u001b[0mnode_ids\u001b[0m\u001b[0;34m[\u001b[0m\u001b[0mtrackable\u001b[0m\u001b[0;34m]\u001b[0m\u001b[0;34m]\u001b[0m\u001b[0;34m\u001b[0m\u001b[0;34m\u001b[0m\u001b[0m\n\u001b[0m\u001b[1;32m    355\u001b[0m       \u001b[0;32mif\u001b[0m \u001b[0mself\u001b[0m\u001b[0;34m.\u001b[0m\u001b[0m_saveables_cache\u001b[0m \u001b[0;32mis\u001b[0m \u001b[0;32mnot\u001b[0m \u001b[0;32mNone\u001b[0m\u001b[0;34m:\u001b[0m\u001b[0;34m\u001b[0m\u001b[0;34m\u001b[0m\u001b[0m\n\u001b[1;32m    356\u001b[0m         \u001b[0mobject_to_save\u001b[0m \u001b[0;34m=\u001b[0m \u001b[0m_get_mapped_trackable\u001b[0m\u001b[0;34m(\u001b[0m\u001b[0mtrackable\u001b[0m\u001b[0;34m,\u001b[0m \u001b[0mobject_map\u001b[0m\u001b[0;34m)\u001b[0m\u001b[0;34m\u001b[0m\u001b[0;34m\u001b[0m\u001b[0m\n",
            "\u001b[0;31mKeyboardInterrupt\u001b[0m: "
          ]
        }
      ]
    },
    {
      "cell_type": "code",
      "execution_count": null,
      "metadata": {
        "id": "PctWAyYbPhhU"
      },
      "outputs": [],
      "source": [
        "def model_builder(hp):\n",
        "    test_scales = [0.1, 0.15, 0.2, 0.25, 0.3]\n",
        "    scale1 = hp.Choice(\"Scale 1\", test_scales)\n",
        "    scale2 = hp.Choice(\"Scale 2\", test_scales)\n",
        "    scale3 = hp.Choice(\"Scale 3\", test_scales)\n",
        "    model = IRV2((299,299,3), 48, activation= 'softmax', scale1=scale1, scale2=scale2, scale3=scale3).build_model()\n",
        "    model.compile(loss='sparse_categorical_crossentropy',optimizer=\"adam\",\n",
        "                metrics=['accuracy'])\n",
        "    return model\n",
        "\n",
        "tuner = kt.Hyperband(\n",
        "    hypermodel=model_builder,\n",
        "    objective=\"val_accuracy\",\n",
        "    project_name=\"hband\",\n",
        "    directory=\"drive/My\\ Drive/AlexNetStuff\",\n",
        "    hyperband_iterations=2,\n",
        "    max_epochs=50\n",
        ")\n",
        "\n",
        "tuner.search(X_train, y_train_e, epochs=50, validation_data=(X_val, y_val_e), callbacks=[tf.keras.callbacks.EarlyStopping(patience=5)])"
      ]
    },
    {
      "cell_type": "code",
      "execution_count": null,
      "metadata": {
        "id": "x0PWPq3AQc5i",
        "colab": {
          "base_uri": "https://localhost:8080/"
        },
        "outputId": "58257ea1-1646-4f76-bf68-c836914b5a95"
      },
      "outputs": [
        {
          "output_type": "stream",
          "name": "stdout",
          "text": [
            "INFO:tensorflow:Reloading Oracle from existing project test/hband/oracle.json\n",
            "INFO:tensorflow:Reloading Tuner from test/hband/tuner0.json\n"
          ]
        }
      ],
      "source": [
        "tuner = kt.Hyperband(\n",
        "    hypermodel=model_builder,\n",
        "    objective=\"val_accuracy\",\n",
        "    project_name=\"hband\",\n",
        "    directory=\"drive/My\\ Drive/AlexNetStuff\",\n",
        "    hyperband_iterations=2,\n",
        "    max_epochs=50\n",
        ")"
      ]
    },
    {
      "cell_type": "code",
      "execution_count": null,
      "metadata": {
        "colab": {
          "base_uri": "https://localhost:8080/"
        },
        "id": "63_BYwbVQwFA",
        "outputId": "305c2358-5c79-4ba6-fa61-75589aa7e9d7"
      },
      "outputs": [
        {
          "name": "stdout",
          "output_type": "stream",
          "text": [
            "Search space summary\n",
            "Default search space size: 3\n",
            "Scale 1 (Choice)\n",
            "{'default': 0.1, 'conditions': [], 'values': [0.1, 0.15, 0.2, 0.25, 0.3], 'ordered': True}\n",
            "Scale 2 (Choice)\n",
            "{'default': 0.1, 'conditions': [], 'values': [0.1, 0.15, 0.2, 0.25, 0.3], 'ordered': True}\n",
            "Scale 3 (Choice)\n",
            "{'default': 0.1, 'conditions': [], 'values': [0.1, 0.15, 0.2, 0.25, 0.3], 'ordered': True}\n"
          ]
        }
      ],
      "source": [
        "tuner.search_space_summary()"
      ]
    },
    {
      "cell_type": "code",
      "execution_count": null,
      "metadata": {
        "colab": {
          "base_uri": "https://localhost:8080/"
        },
        "id": "gBOAXrTyRBn2",
        "outputId": "6d99e59f-42f0-4613-f22a-9a512b38c3b9"
      },
      "outputs": [
        {
          "output_type": "stream",
          "name": "stdout",
          "text": [
            "Trial 83 Complete [00h 22m 50s]\n",
            "val_accuracy: 0.8704883456230164\n",
            "\n",
            "Best val_accuracy So Far: 0.8704883456230164\n",
            "Total elapsed time: 07h 27m 38s\n",
            "\n",
            "Search: Running Trial #84\n",
            "\n",
            "Value             |Best Value So Far |Hyperparameter\n",
            "0.2               |0.3               |Scale 1\n",
            "0.1               |0.25              |Scale 2\n",
            "0.2               |0.2               |Scale 3\n",
            "50                |50                |tuner/epochs\n",
            "17                |17                |tuner/initial_epoch\n",
            "1                 |1                 |tuner/bracket\n",
            "1                 |1                 |tuner/round\n",
            "0075              |0080              |tuner/trial_id\n",
            "\n",
            "Epoch 18/50\n",
            "107/107 [==============================] - 68s 490ms/step - loss: 2.8456 - accuracy: 0.3027 - val_loss: 32.8960 - val_accuracy: 0.1338\n",
            "Epoch 19/50\n",
            "107/107 [==============================] - 49s 458ms/step - loss: 2.3015 - accuracy: 0.3545 - val_loss: 3.3551 - val_accuracy: 0.3461\n",
            "Epoch 20/50\n",
            "107/107 [==============================] - 47s 439ms/step - loss: 2.0868 - accuracy: 0.4128 - val_loss: 10.0765 - val_accuracy: 0.2654\n",
            "Epoch 21/50\n",
            "107/107 [==============================] - 49s 458ms/step - loss: 1.8914 - accuracy: 0.4541 - val_loss: 1.9447 - val_accuracy: 0.4628\n",
            "Epoch 22/50\n",
            "107/107 [==============================] - 49s 460ms/step - loss: 1.6198 - accuracy: 0.5309 - val_loss: 1.5188 - val_accuracy: 0.5626\n",
            "Epoch 23/50\n",
            "107/107 [==============================] - 47s 439ms/step - loss: 1.3853 - accuracy: 0.5801 - val_loss: 2.8271 - val_accuracy: 0.4161\n",
            "Epoch 24/50\n",
            "107/107 [==============================] - 49s 458ms/step - loss: 1.2033 - accuracy: 0.6238 - val_loss: 1.6274 - val_accuracy: 0.5732\n",
            "Epoch 25/50\n",
            "107/107 [==============================] - 49s 457ms/step - loss: 0.9900 - accuracy: 0.6941 - val_loss: 1.3554 - val_accuracy: 0.6200\n",
            "Epoch 26/50\n",
            "107/107 [==============================] - 47s 439ms/step - loss: 0.7879 - accuracy: 0.7559 - val_loss: 1.8209 - val_accuracy: 0.4926\n",
            "Epoch 27/50\n",
            "107/107 [==============================] - 49s 458ms/step - loss: 0.6250 - accuracy: 0.8075 - val_loss: 0.9690 - val_accuracy: 0.7176\n",
            "Epoch 28/50\n",
            "107/107 [==============================] - 49s 456ms/step - loss: 0.5194 - accuracy: 0.8374 - val_loss: 0.7827 - val_accuracy: 0.7749\n",
            "Epoch 29/50\n",
            "107/107 [==============================] - 47s 436ms/step - loss: 0.4302 - accuracy: 0.8673 - val_loss: 1.0902 - val_accuracy: 0.6837\n",
            "Epoch 30/50\n",
            "107/107 [==============================] - 47s 437ms/step - loss: 0.3906 - accuracy: 0.8737 - val_loss: 0.8417 - val_accuracy: 0.7558\n",
            "Epoch 31/50\n",
            "107/107 [==============================] - 49s 458ms/step - loss: 0.3381 - accuracy: 0.8904 - val_loss: 0.7085 - val_accuracy: 0.8004\n",
            "Epoch 32/50\n",
            "107/107 [==============================] - 49s 456ms/step - loss: 0.2777 - accuracy: 0.9095 - val_loss: 0.6307 - val_accuracy: 0.8323\n",
            "Epoch 33/50\n",
            "107/107 [==============================] - 47s 436ms/step - loss: 0.2298 - accuracy: 0.9250 - val_loss: 0.6484 - val_accuracy: 0.8280\n",
            "Epoch 34/50\n",
            "107/107 [==============================] - 49s 455ms/step - loss: 0.2292 - accuracy: 0.9206 - val_loss: 0.6664 - val_accuracy: 0.8429\n",
            "Epoch 35/50\n",
            "107/107 [==============================] - 47s 436ms/step - loss: 0.2378 - accuracy: 0.9232 - val_loss: 0.6851 - val_accuracy: 0.8110\n",
            "Epoch 36/50\n",
            "107/107 [==============================] - 47s 436ms/step - loss: 0.1926 - accuracy: 0.9326 - val_loss: 0.5868 - val_accuracy: 0.8408\n",
            "Epoch 37/50\n",
            " 77/107 [====================>.........] - ETA: 12s - loss: 0.1672 - accuracy: 0.9416"
          ]
        }
      ],
      "source": [
        "tuner.search(X_train, y_train_e, epochs=50, validation_data=(X_val, y_val_e), callbacks=[tf.keras.callbacks.EarlyStopping(patience=5)])\n",
        "tuner.results_summary()"
      ]
    },
    {
      "cell_type": "code",
      "execution_count": null,
      "metadata": {
        "colab": {
          "base_uri": "https://localhost:8080/"
        },
        "id": "YLxO64ifTu0k",
        "outputId": "3c7b8473-3b13-4611-bdcb-640d55437311"
      },
      "outputs": [
        {
          "name": "stdout",
          "output_type": "stream",
          "text": [
            "Results summary\n",
            "Results in ./untitled_project\n",
            "Showing 10 best trials\n",
            "<keras_tuner.engine.objective.Objective object at 0x7f056789ff10>\n",
            "Trial summary\n",
            "Hyperparameters:\n",
            "Scale 1: 0.1\n",
            "Score: 0.37154990434646606\n",
            "Trial summary\n",
            "Hyperparameters:\n",
            "Scale 1: 0.15\n",
            "Score: 0.36305731534957886\n",
            "Trial summary\n",
            "Hyperparameters:\n",
            "Scale 1: 0.3\n",
            "Score: 0.36093416810035706\n",
            "Trial summary\n",
            "Hyperparameters:\n",
            "Scale 1: 0.2\n",
            "Score: 0.35881105065345764\n",
            "Trial summary\n",
            "Hyperparameters:\n",
            "Scale 1: 0.25\n",
            "Score: 0.31210190057754517\n"
          ]
        }
      ],
      "source": [
        "tuner.results_summary()"
      ]
    },
    {
      "cell_type": "code",
      "execution_count": null,
      "metadata": {
        "colab": {
          "base_uri": "https://localhost:8080/",
          "height": 380
        },
        "id": "XwT_h7TzMbCp",
        "outputId": "9899518f-09da-4ed5-c79a-eb5d6d67b101"
      },
      "outputs": [
        {
          "ename": "TypeError",
          "evalue": "ignored",
          "output_type": "error",
          "traceback": [
            "\u001b[0;31m---------------------------------------------------------------------------\u001b[0m",
            "\u001b[0;31mTypeError\u001b[0m                                 Traceback (most recent call last)",
            "\u001b[0;32m<ipython-input-7-183562bafbe2>\u001b[0m in \u001b[0;36m<module>\u001b[0;34m()\u001b[0m\n\u001b[1;32m     12\u001b[0m tuner = kt.RandomSearch(\n\u001b[1;32m     13\u001b[0m     \u001b[0mhypermodel\u001b[0m\u001b[0;34m=\u001b[0m\u001b[0mmodel\u001b[0m\u001b[0;34m,\u001b[0m\u001b[0;34m\u001b[0m\u001b[0;34m\u001b[0m\u001b[0m\n\u001b[0;32m---> 14\u001b[0;31m     \u001b[0mobjective\u001b[0m\u001b[0;34m=\u001b[0m\u001b[0;34m\"val_accuracy\"\u001b[0m\u001b[0;34m\u001b[0m\u001b[0;34m\u001b[0m\u001b[0m\n\u001b[0m\u001b[1;32m     15\u001b[0m )\n\u001b[1;32m     16\u001b[0m \u001b[0mtuner\u001b[0m\u001b[0;34m.\u001b[0m\u001b[0msearch_space_summary\u001b[0m\u001b[0;34m(\u001b[0m\u001b[0;34m)\u001b[0m\u001b[0;34m\u001b[0m\u001b[0;34m\u001b[0m\u001b[0m\n",
            "\u001b[0;32m/usr/local/lib/python3.7/dist-packages/keras_tuner/tuners/randomsearch.py\u001b[0m in \u001b[0;36m__init__\u001b[0;34m(self, hypermodel, objective, max_trials, seed, hyperparameters, tune_new_entries, allow_new_entries, **kwargs)\u001b[0m\n\u001b[1;32m    143\u001b[0m             \u001b[0mallow_new_entries\u001b[0m\u001b[0;34m=\u001b[0m\u001b[0mallow_new_entries\u001b[0m\u001b[0;34m,\u001b[0m\u001b[0;34m\u001b[0m\u001b[0;34m\u001b[0m\u001b[0m\n\u001b[1;32m    144\u001b[0m         )\n\u001b[0;32m--> 145\u001b[0;31m         \u001b[0msuper\u001b[0m\u001b[0;34m(\u001b[0m\u001b[0mRandomSearch\u001b[0m\u001b[0;34m,\u001b[0m \u001b[0mself\u001b[0m\u001b[0;34m)\u001b[0m\u001b[0;34m.\u001b[0m\u001b[0m__init__\u001b[0m\u001b[0;34m(\u001b[0m\u001b[0moracle\u001b[0m\u001b[0;34m,\u001b[0m \u001b[0mhypermodel\u001b[0m\u001b[0;34m,\u001b[0m \u001b[0;34m**\u001b[0m\u001b[0mkwargs\u001b[0m\u001b[0;34m)\u001b[0m\u001b[0;34m\u001b[0m\u001b[0;34m\u001b[0m\u001b[0m\n\u001b[0m",
            "\u001b[0;32m/usr/local/lib/python3.7/dist-packages/keras_tuner/engine/tuner.py\u001b[0m in \u001b[0;36m__init__\u001b[0;34m(self, oracle, hypermodel, max_model_size, optimizer, loss, metrics, distribution_strategy, directory, project_name, logger, tuner_id, overwrite, executions_per_trial)\u001b[0m\n\u001b[1;32m    114\u001b[0m             \u001b[0mproject_name\u001b[0m\u001b[0;34m=\u001b[0m\u001b[0mproject_name\u001b[0m\u001b[0;34m,\u001b[0m\u001b[0;34m\u001b[0m\u001b[0;34m\u001b[0m\u001b[0m\n\u001b[1;32m    115\u001b[0m             \u001b[0mlogger\u001b[0m\u001b[0;34m=\u001b[0m\u001b[0mlogger\u001b[0m\u001b[0;34m,\u001b[0m\u001b[0;34m\u001b[0m\u001b[0;34m\u001b[0m\u001b[0m\n\u001b[0;32m--> 116\u001b[0;31m             \u001b[0moverwrite\u001b[0m\u001b[0;34m=\u001b[0m\u001b[0moverwrite\u001b[0m\u001b[0;34m,\u001b[0m\u001b[0;34m\u001b[0m\u001b[0;34m\u001b[0m\u001b[0m\n\u001b[0m\u001b[1;32m    117\u001b[0m         )\n\u001b[1;32m    118\u001b[0m \u001b[0;34m\u001b[0m\u001b[0m\n",
            "\u001b[0;32m/usr/local/lib/python3.7/dist-packages/keras_tuner/engine/base_tuner.py\u001b[0m in \u001b[0;36m__init__\u001b[0;34m(self, oracle, hypermodel, directory, project_name, logger, overwrite)\u001b[0m\n\u001b[1;32m    101\u001b[0m         \u001b[0mself\u001b[0m\u001b[0;34m.\u001b[0m\u001b[0m_display\u001b[0m \u001b[0;34m=\u001b[0m \u001b[0mtuner_utils\u001b[0m\u001b[0;34m.\u001b[0m\u001b[0mDisplay\u001b[0m\u001b[0;34m(\u001b[0m\u001b[0moracle\u001b[0m\u001b[0;34m=\u001b[0m\u001b[0mself\u001b[0m\u001b[0;34m.\u001b[0m\u001b[0moracle\u001b[0m\u001b[0;34m)\u001b[0m\u001b[0;34m\u001b[0m\u001b[0;34m\u001b[0m\u001b[0m\n\u001b[1;32m    102\u001b[0m \u001b[0;34m\u001b[0m\u001b[0m\n\u001b[0;32m--> 103\u001b[0;31m         \u001b[0mself\u001b[0m\u001b[0;34m.\u001b[0m\u001b[0m_populate_initial_space\u001b[0m\u001b[0;34m(\u001b[0m\u001b[0;34m)\u001b[0m\u001b[0;34m\u001b[0m\u001b[0;34m\u001b[0m\u001b[0m\n\u001b[0m\u001b[1;32m    104\u001b[0m \u001b[0;34m\u001b[0m\u001b[0m\n\u001b[1;32m    105\u001b[0m         \u001b[0;32mif\u001b[0m \u001b[0;32mnot\u001b[0m \u001b[0moverwrite\u001b[0m \u001b[0;32mand\u001b[0m \u001b[0mtf\u001b[0m\u001b[0;34m.\u001b[0m\u001b[0mio\u001b[0m\u001b[0;34m.\u001b[0m\u001b[0mgfile\u001b[0m\u001b[0;34m.\u001b[0m\u001b[0mexists\u001b[0m\u001b[0;34m(\u001b[0m\u001b[0mself\u001b[0m\u001b[0;34m.\u001b[0m\u001b[0m_get_tuner_fname\u001b[0m\u001b[0;34m(\u001b[0m\u001b[0;34m)\u001b[0m\u001b[0;34m)\u001b[0m\u001b[0;34m:\u001b[0m\u001b[0;34m\u001b[0m\u001b[0;34m\u001b[0m\u001b[0m\n",
            "\u001b[0;32m/usr/local/lib/python3.7/dist-packages/keras_tuner/engine/base_tuner.py\u001b[0m in \u001b[0;36m_populate_initial_space\u001b[0;34m(self)\u001b[0m\n\u001b[1;32m    130\u001b[0m \u001b[0;34m\u001b[0m\u001b[0m\n\u001b[1;32m    131\u001b[0m         \u001b[0;32mwhile\u001b[0m \u001b[0;32mTrue\u001b[0m\u001b[0;34m:\u001b[0m\u001b[0;34m\u001b[0m\u001b[0;34m\u001b[0m\u001b[0m\n\u001b[0;32m--> 132\u001b[0;31m             \u001b[0mself\u001b[0m\u001b[0;34m.\u001b[0m\u001b[0mhypermodel\u001b[0m\u001b[0;34m.\u001b[0m\u001b[0mbuild\u001b[0m\u001b[0;34m(\u001b[0m\u001b[0mhp\u001b[0m\u001b[0;34m)\u001b[0m\u001b[0;34m\u001b[0m\u001b[0;34m\u001b[0m\u001b[0m\n\u001b[0m\u001b[1;32m    133\u001b[0m \u001b[0;34m\u001b[0m\u001b[0m\n\u001b[1;32m    134\u001b[0m             \u001b[0;31m# Update the recored scopes.\u001b[0m\u001b[0;34m\u001b[0m\u001b[0;34m\u001b[0m\u001b[0;34m\u001b[0m\u001b[0m\n",
            "\u001b[0;32m/usr/local/lib/python3.7/dist-packages/keras/utils/traceback_utils.py\u001b[0m in \u001b[0;36merror_handler\u001b[0;34m(*args, **kwargs)\u001b[0m\n\u001b[1;32m     65\u001b[0m     \u001b[0;32mexcept\u001b[0m \u001b[0mException\u001b[0m \u001b[0;32mas\u001b[0m \u001b[0me\u001b[0m\u001b[0;34m:\u001b[0m  \u001b[0;31m# pylint: disable=broad-except\u001b[0m\u001b[0;34m\u001b[0m\u001b[0;34m\u001b[0m\u001b[0m\n\u001b[1;32m     66\u001b[0m       \u001b[0mfiltered_tb\u001b[0m \u001b[0;34m=\u001b[0m \u001b[0m_process_traceback_frames\u001b[0m\u001b[0;34m(\u001b[0m\u001b[0me\u001b[0m\u001b[0;34m.\u001b[0m\u001b[0m__traceback__\u001b[0m\u001b[0;34m)\u001b[0m\u001b[0;34m\u001b[0m\u001b[0;34m\u001b[0m\u001b[0m\n\u001b[0;32m---> 67\u001b[0;31m       \u001b[0;32mraise\u001b[0m \u001b[0me\u001b[0m\u001b[0;34m.\u001b[0m\u001b[0mwith_traceback\u001b[0m\u001b[0;34m(\u001b[0m\u001b[0mfiltered_tb\u001b[0m\u001b[0;34m)\u001b[0m \u001b[0;32mfrom\u001b[0m \u001b[0;32mNone\u001b[0m\u001b[0;34m\u001b[0m\u001b[0;34m\u001b[0m\u001b[0m\n\u001b[0m\u001b[1;32m     68\u001b[0m     \u001b[0;32mfinally\u001b[0m\u001b[0;34m:\u001b[0m\u001b[0;34m\u001b[0m\u001b[0;34m\u001b[0m\u001b[0m\n\u001b[1;32m     69\u001b[0m       \u001b[0;32mdel\u001b[0m \u001b[0mfiltered_tb\u001b[0m\u001b[0;34m\u001b[0m\u001b[0;34m\u001b[0m\u001b[0m\n",
            "\u001b[0;32m/usr/local/lib/python3.7/dist-packages/keras/engine/input_spec.py\u001b[0m in \u001b[0;36massert_input_compatibility\u001b[0;34m(input_spec, inputs, layer_name)\u001b[0m\n\u001b[1;32m    195\u001b[0m     \u001b[0;31m# have a `shape` attribute.\u001b[0m\u001b[0;34m\u001b[0m\u001b[0;34m\u001b[0m\u001b[0;34m\u001b[0m\u001b[0m\n\u001b[1;32m    196\u001b[0m     \u001b[0;32mif\u001b[0m \u001b[0;32mnot\u001b[0m \u001b[0mhasattr\u001b[0m\u001b[0;34m(\u001b[0m\u001b[0mx\u001b[0m\u001b[0;34m,\u001b[0m \u001b[0;34m'shape'\u001b[0m\u001b[0;34m)\u001b[0m\u001b[0;34m:\u001b[0m\u001b[0;34m\u001b[0m\u001b[0;34m\u001b[0m\u001b[0m\n\u001b[0;32m--> 197\u001b[0;31m       \u001b[0;32mraise\u001b[0m \u001b[0mTypeError\u001b[0m\u001b[0;34m(\u001b[0m\u001b[0;34mf'Inputs to a layer should be tensors. Got: {x}'\u001b[0m\u001b[0;34m)\u001b[0m\u001b[0;34m\u001b[0m\u001b[0;34m\u001b[0m\u001b[0m\n\u001b[0m\u001b[1;32m    198\u001b[0m \u001b[0;34m\u001b[0m\u001b[0m\n\u001b[1;32m    199\u001b[0m   \u001b[0;32mif\u001b[0m \u001b[0mlen\u001b[0m\u001b[0;34m(\u001b[0m\u001b[0minputs\u001b[0m\u001b[0;34m)\u001b[0m \u001b[0;34m!=\u001b[0m \u001b[0mlen\u001b[0m\u001b[0;34m(\u001b[0m\u001b[0minput_spec\u001b[0m\u001b[0;34m)\u001b[0m\u001b[0;34m:\u001b[0m\u001b[0;34m\u001b[0m\u001b[0;34m\u001b[0m\u001b[0m\n",
            "\u001b[0;31mTypeError\u001b[0m: Inputs to a layer should be tensors. Got: <keras_tuner.engine.hyperparameters.HyperParameters object at 0x7f0567783050>"
          ]
        }
      ],
      "source": [
        "#11:30\n",
        "from numba import cuda\n",
        "import gc\n",
        "\n",
        "test = []\n",
        "model = []\n",
        "i, j, k = 0.1, 0.2, 0.15\n",
        "\n",
        "# tf.keras.backend.clear_session()\n",
        "# tf.keras.backend.set_learning_phase(True)\n",
        "model = IRV2(X_train.shape[1:], 48, activation= 'softmax', scale1=i, scale2=j, scale3=k).build_model(kt.HyperParameters())\n",
        "tuner = kt.RandomSearch(\n",
        "    hypermodel=model,\n",
        "    objective=\"val_accuracy\"\n",
        ")\n",
        "tuner.search_space_summary()\n"
      ]
    },
    {
      "cell_type": "code",
      "execution_count": null,
      "metadata": {
        "colab": {
          "base_uri": "https://localhost:8080/"
        },
        "id": "j-Yz4tA8QQiZ",
        "outputId": "06826601-7b3b-4fc5-c5c9-01d53175bae8"
      },
      "outputs": [
        {
          "name": "stdout",
          "output_type": "stream",
          "text": [
            "1880\n"
          ]
        }
      ],
      "source": [
        "reset_keras()"
      ]
    },
    {
      "cell_type": "code",
      "execution_count": null,
      "metadata": {
        "colab": {
          "base_uri": "https://localhost:8080/"
        },
        "id": "1NxbC_HoC8zS",
        "outputId": "616262ac-9bbe-4d4e-b105-5ffd8d30e108"
      },
      "outputs": [
        {
          "name": "stdout",
          "output_type": "stream",
          "text": [
            "0.1 0.1 0.2\n",
            "0.1 0.1 0.25\n",
            "0.1 0.1 0.3\n",
            "0.1 0.15 0.1\n",
            "0.1 0.15 0.15\n",
            "0.1 0.15 0.2\n",
            "0.1 0.15 0.25\n",
            "0.1 0.15 0.3\n",
            "0.1 0.2 0.1\n",
            "0.1 0.2 0.15\n",
            "0.1 0.2 0.2\n",
            "0.1 0.2 0.25\n",
            "0.1 0.2 0.3\n",
            "0.1 0.25 0.1\n",
            "0.1 0.25 0.15\n",
            "0.1 0.25 0.2\n",
            "0.1 0.25 0.25\n",
            "0.1 0.25 0.3\n",
            "0.1 0.3 0.1\n",
            "0.1 0.3 0.15\n",
            "0.1 0.3 0.2\n",
            "0.1 0.3 0.25\n",
            "0.1 0.3 0.3\n",
            "0.15 0.1 0.1\n",
            "0.15 0.1 0.15\n",
            "0.15 0.1 0.2\n",
            "0.15 0.1 0.25\n",
            "0.15 0.1 0.3\n",
            "0.15 0.15 0.1\n",
            "0.15 0.15 0.15\n",
            "0.15 0.15 0.2\n",
            "0.15 0.15 0.25\n",
            "0.15 0.15 0.3\n",
            "0.15 0.2 0.1\n",
            "0.15 0.2 0.15\n",
            "0.15 0.2 0.2\n",
            "0.15 0.2 0.25\n",
            "0.15 0.2 0.3\n",
            "0.15 0.25 0.1\n",
            "0.15 0.25 0.15\n",
            "0.15 0.25 0.2\n",
            "0.15 0.25 0.25\n",
            "0.15 0.25 0.3\n",
            "0.15 0.3 0.1\n",
            "0.15 0.3 0.15\n",
            "0.15 0.3 0.2\n",
            "0.15 0.3 0.25\n",
            "0.15 0.3 0.3\n",
            "0.2 0.1 0.1\n",
            "0.2 0.1 0.15\n",
            "0.2 0.1 0.2\n",
            "0.2 0.1 0.25\n",
            "0.2 0.1 0.3\n",
            "0.2 0.15 0.1\n",
            "0.2 0.15 0.15\n",
            "0.2 0.15 0.2\n",
            "0.2 0.15 0.25\n",
            "0.2 0.15 0.3\n",
            "0.2 0.2 0.1\n",
            "0.2 0.2 0.15\n",
            "0.2 0.2 0.2\n",
            "0.2 0.2 0.25\n",
            "0.2 0.2 0.3\n",
            "0.2 0.25 0.1\n",
            "0.2 0.25 0.15\n",
            "0.2 0.25 0.2\n",
            "0.2 0.25 0.25\n",
            "0.2 0.25 0.3\n",
            "0.2 0.3 0.1\n",
            "0.2 0.3 0.15\n",
            "0.2 0.3 0.2\n",
            "0.2 0.3 0.25\n",
            "0.2 0.3 0.3\n",
            "0.25 0.1 0.1\n",
            "0.25 0.1 0.15\n",
            "0.25 0.1 0.2\n",
            "0.25 0.1 0.25\n",
            "0.25 0.1 0.3\n",
            "0.25 0.15 0.1\n",
            "0.25 0.15 0.15\n",
            "0.25 0.15 0.2\n",
            "0.25 0.15 0.25\n",
            "0.25 0.15 0.3\n",
            "0.25 0.2 0.1\n",
            "0.25 0.2 0.15\n",
            "0.25 0.2 0.2\n",
            "0.25 0.2 0.25\n",
            "0.25 0.2 0.3\n",
            "0.25 0.25 0.1\n",
            "0.25 0.25 0.15\n",
            "0.25 0.25 0.2\n",
            "0.25 0.25 0.25\n",
            "0.25 0.25 0.3\n",
            "0.25 0.3 0.1\n",
            "0.25 0.3 0.15\n",
            "0.25 0.3 0.2\n",
            "0.25 0.3 0.25\n",
            "0.25 0.3 0.3\n",
            "0.3 0.1 0.1\n",
            "0.3 0.1 0.15\n",
            "0.3 0.1 0.2\n",
            "0.3 0.1 0.25\n",
            "0.3 0.1 0.3\n",
            "0.3 0.15 0.1\n",
            "0.3 0.15 0.15\n",
            "0.3 0.15 0.2\n",
            "0.3 0.15 0.25\n",
            "0.3 0.15 0.3\n",
            "0.3 0.2 0.1\n",
            "0.3 0.2 0.15\n",
            "0.3 0.2 0.2\n",
            "0.3 0.2 0.25\n",
            "0.3 0.2 0.3\n",
            "0.3 0.25 0.1\n",
            "0.3 0.25 0.15\n",
            "0.3 0.25 0.2\n",
            "0.3 0.25 0.25\n",
            "0.3 0.25 0.3\n",
            "0.3 0.3 0.1\n",
            "0.3 0.3 0.15\n",
            "0.3 0.3 0.2\n",
            "0.3 0.3 0.25\n",
            "0.3 0.3 0.3\n"
          ]
        }
      ],
      "source": [
        "test_scales = [0.1, 0.15, 0.2, 0.25, 0.3]\n",
        "test = []\n",
        "for i in test_scales:\n",
        "    for j in test_scales:\n",
        "        for k in test_scales:\n",
        "            if i != 0.1 or j != 0.1 or (k != 0.1 and k != 0.15):\n",
        "                print(str(i) + ' ' + str(j) + ' ' + str(k))"
      ]
    },
    {
      "cell_type": "code",
      "execution_count": null,
      "metadata": {
        "colab": {
          "base_uri": "https://localhost:8080/"
        },
        "id": "-2m1XDdnYXL-",
        "outputId": "d6037985-8d8f-40be-8054-837b0c10d51f"
      },
      "outputs": [
        {
          "name": "stdout",
          "output_type": "stream",
          "text": [
            "Epoch 1/40\n",
            "138/138 [==============================] - 101s 516ms/step - loss: 2.7708 - accuracy: 0.3179 - val_loss: 87.5530 - val_accuracy: 0.1353\n",
            "Epoch 2/40\n",
            "138/138 [==============================] - 64s 462ms/step - loss: 2.1505 - accuracy: 0.3938 - val_loss: 2.0749 - val_accuracy: 0.4099\n",
            "Epoch 3/40\n",
            "138/138 [==============================] - 64s 462ms/step - loss: 1.8565 - accuracy: 0.4675 - val_loss: 1.8978 - val_accuracy: 0.4793\n",
            "Epoch 4/40\n",
            "138/138 [==============================] - 64s 461ms/step - loss: 1.5847 - accuracy: 0.5312 - val_loss: 2.5118 - val_accuracy: 0.4024\n",
            "Epoch 5/40\n",
            "138/138 [==============================] - 64s 461ms/step - loss: 1.2351 - accuracy: 0.6320 - val_loss: 1.2971 - val_accuracy: 0.6071\n",
            "Epoch 6/40\n",
            "138/138 [==============================] - 64s 461ms/step - loss: 0.9691 - accuracy: 0.7050 - val_loss: 1.4337 - val_accuracy: 0.6003\n",
            "Epoch 7/40\n",
            "138/138 [==============================] - 64s 461ms/step - loss: 0.7225 - accuracy: 0.7779 - val_loss: 1.6697 - val_accuracy: 0.5316\n",
            "Epoch 8/40\n",
            "138/138 [==============================] - 64s 460ms/step - loss: 0.5814 - accuracy: 0.8108 - val_loss: 1.2949 - val_accuracy: 0.6642\n",
            "Epoch 9/40\n",
            "138/138 [==============================] - 63s 460ms/step - loss: 0.4426 - accuracy: 0.8602 - val_loss: 0.5833 - val_accuracy: 0.8368\n",
            "Epoch 10/40\n",
            "138/138 [==============================] - 64s 461ms/step - loss: 0.3718 - accuracy: 0.8804 - val_loss: 0.7010 - val_accuracy: 0.8015\n",
            "Epoch 11/40\n",
            "138/138 [==============================] - 63s 460ms/step - loss: 0.3004 - accuracy: 0.9026 - val_loss: 1.0771 - val_accuracy: 0.6961\n",
            "Epoch 12/40\n",
            "138/138 [==============================] - 63s 460ms/step - loss: 0.2918 - accuracy: 0.9046 - val_loss: 0.6567 - val_accuracy: 0.8137\n",
            "Epoch 13/40\n",
            "138/138 [==============================] - 63s 460ms/step - loss: 0.2471 - accuracy: 0.9182 - val_loss: 0.5130 - val_accuracy: 0.8498\n",
            "Epoch 14/40\n",
            "138/138 [==============================] - 63s 460ms/step - loss: 0.2170 - accuracy: 0.9232 - val_loss: 0.4435 - val_accuracy: 0.8776\n",
            "Epoch 15/40\n",
            "138/138 [==============================] - 64s 461ms/step - loss: 0.2018 - accuracy: 0.9279 - val_loss: 0.6935 - val_accuracy: 0.8035\n",
            "Epoch 16/40\n",
            "138/138 [==============================] - 63s 460ms/step - loss: 0.1999 - accuracy: 0.9311 - val_loss: 0.7650 - val_accuracy: 0.7831\n",
            "Epoch 17/40\n",
            "138/138 [==============================] - 63s 460ms/step - loss: 0.1951 - accuracy: 0.9295 - val_loss: 0.7603 - val_accuracy: 0.7920\n",
            "Epoch 18/40\n",
            "138/138 [==============================] - 63s 460ms/step - loss: 0.1813 - accuracy: 0.9309 - val_loss: 0.6521 - val_accuracy: 0.8253\n",
            "Epoch 19/40\n",
            "138/138 [==============================] - 63s 460ms/step - loss: 0.1722 - accuracy: 0.9341 - val_loss: 0.6267 - val_accuracy: 0.8266\n",
            "Epoch 20/40\n",
            "138/138 [==============================] - 63s 460ms/step - loss: 0.1625 - accuracy: 0.9395 - val_loss: 0.6772 - val_accuracy: 0.8226\n",
            "Epoch 21/40\n",
            "138/138 [==============================] - 63s 460ms/step - loss: 0.1551 - accuracy: 0.9395 - val_loss: 0.4961 - val_accuracy: 0.8606\n",
            "Epoch 22/40\n",
            "138/138 [==============================] - 64s 461ms/step - loss: 0.1592 - accuracy: 0.9343 - val_loss: 0.9281 - val_accuracy: 0.7492\n",
            "Epoch 23/40\n",
            "138/138 [==============================] - 64s 461ms/step - loss: 0.1504 - accuracy: 0.9372 - val_loss: 0.7180 - val_accuracy: 0.8131\n",
            "Epoch 24/40\n",
            "138/138 [==============================] - 64s 461ms/step - loss: 0.1639 - accuracy: 0.9370 - val_loss: 0.6439 - val_accuracy: 0.8144\n",
            "Epoch 25/40\n",
            "138/138 [==============================] - 64s 460ms/step - loss: 0.1464 - accuracy: 0.9436 - val_loss: 0.5372 - val_accuracy: 0.8545\n",
            "Epoch 26/40\n",
            "138/138 [==============================] - 63s 460ms/step - loss: 0.1348 - accuracy: 0.9436 - val_loss: 0.5934 - val_accuracy: 0.8423\n",
            "Epoch 27/40\n",
            "138/138 [==============================] - 63s 460ms/step - loss: 0.1319 - accuracy: 0.9479 - val_loss: 0.6529 - val_accuracy: 0.8402\n",
            "Epoch 28/40\n",
            "138/138 [==============================] - 63s 460ms/step - loss: 0.1289 - accuracy: 0.9438 - val_loss: 0.4900 - val_accuracy: 0.8634\n",
            "Epoch 29/40\n",
            "138/138 [==============================] - 64s 461ms/step - loss: 0.1202 - accuracy: 0.9497 - val_loss: 0.6597 - val_accuracy: 0.8192\n",
            "Epoch 30/40\n",
            "138/138 [==============================] - 63s 460ms/step - loss: 0.1345 - accuracy: 0.9458 - val_loss: 0.6003 - val_accuracy: 0.8375\n",
            "Epoch 31/40\n",
            "138/138 [==============================] - 63s 460ms/step - loss: 0.1459 - accuracy: 0.9411 - val_loss: 0.6611 - val_accuracy: 0.8266\n",
            "Epoch 32/40\n",
            "138/138 [==============================] - 63s 460ms/step - loss: 0.1620 - accuracy: 0.9366 - val_loss: 1.7139 - val_accuracy: 0.6635\n",
            "Epoch 33/40\n",
            "138/138 [==============================] - 63s 460ms/step - loss: 0.1419 - accuracy: 0.9413 - val_loss: 0.4910 - val_accuracy: 0.8749\n",
            "Epoch 34/40\n",
            "138/138 [==============================] - 63s 460ms/step - loss: 0.1129 - accuracy: 0.9483 - val_loss: 0.5482 - val_accuracy: 0.8586\n",
            "Epoch 35/40\n",
            "138/138 [==============================] - 63s 460ms/step - loss: 0.1170 - accuracy: 0.9440 - val_loss: 0.6357 - val_accuracy: 0.8396\n",
            "Epoch 36/40\n",
            "138/138 [==============================] - 63s 460ms/step - loss: 0.1091 - accuracy: 0.9495 - val_loss: 0.5447 - val_accuracy: 0.8688\n",
            "Epoch 37/40\n",
            "138/138 [==============================] - 63s 460ms/step - loss: 0.1163 - accuracy: 0.9477 - val_loss: 0.5828 - val_accuracy: 0.8681\n",
            "Epoch 38/40\n",
            "138/138 [==============================] - 63s 460ms/step - loss: 0.1027 - accuracy: 0.9529 - val_loss: 0.6284 - val_accuracy: 0.8586\n",
            "Epoch 39/40\n",
            "138/138 [==============================] - 63s 460ms/step - loss: 0.1068 - accuracy: 0.9515 - val_loss: 0.5130 - val_accuracy: 0.8586\n",
            "Epoch 40/40\n",
            "138/138 [==============================] - 64s 461ms/step - loss: 0.1024 - accuracy: 0.9520 - val_loss: 0.5566 - val_accuracy: 0.8634\n"
          ]
        }
      ],
      "source": [
        "from tensorflow.keras.optimizers import Adam\n",
        "model = IRV2(X_train.shape[1:], 48, activation= 'softmax').build_model()\n",
        "model.compile(loss='sparse_categorical_crossentropy',optimizer=\"adam\",\n",
        "              metrics=['accuracy'])\n",
        "epochs = 40\n",
        "history = model.fit(X_train, y_train_e, batch_size=32, epochs=epochs, validation_data=(X_val, y_val_e))"
      ]
    },
    {
      "cell_type": "code",
      "execution_count": null,
      "metadata": {
        "colab": {
          "base_uri": "https://localhost:8080/"
        },
        "id": "ZDxqLSnRCGE9",
        "outputId": "b9d67fe0-2f7b-4dd9-be12-265bfeefe3f6"
      },
      "outputs": [
        {
          "name": "stdout",
          "output_type": "stream",
          "text": [
            "0.8776342868804932\n"
          ]
        }
      ],
      "source": [
        "print(max(history.history['val_accuracy']))"
      ]
    },
    {
      "cell_type": "code",
      "execution_count": null,
      "metadata": {
        "colab": {
          "base_uri": "https://localhost:8080/",
          "height": 34
        },
        "id": "ht45Wk-YE6lR",
        "outputId": "7cf707b0-8bc2-4b87-e3c7-5e25032343a2"
      },
      "outputs": [
        {
          "name": "stdout",
          "output_type": "stream",
          "text": [
            "INFO:tensorflow:Assets written to: IRv2/assets\n"
          ]
        },
        {
          "data": {
            "application/javascript": [
              "\n",
              "    async function download(id, filename, size) {\n",
              "      if (!google.colab.kernel.accessAllowed) {\n",
              "        return;\n",
              "      }\n",
              "      const div = document.createElement('div');\n",
              "      const label = document.createElement('label');\n",
              "      label.textContent = `Downloading \"${filename}\": `;\n",
              "      div.appendChild(label);\n",
              "      const progress = document.createElement('progress');\n",
              "      progress.max = size;\n",
              "      div.appendChild(progress);\n",
              "      document.body.appendChild(div);\n",
              "\n",
              "      const buffers = [];\n",
              "      let downloaded = 0;\n",
              "\n",
              "      const channel = await google.colab.kernel.comms.open(id);\n",
              "      // Send a message to notify the kernel that we're ready.\n",
              "      channel.send({})\n",
              "\n",
              "      for await (const message of channel.messages) {\n",
              "        // Send a message to notify the kernel that we're ready.\n",
              "        channel.send({})\n",
              "        if (message.buffers) {\n",
              "          for (const buffer of message.buffers) {\n",
              "            buffers.push(buffer);\n",
              "            downloaded += buffer.byteLength;\n",
              "            progress.value = downloaded;\n",
              "          }\n",
              "        }\n",
              "      }\n",
              "      const blob = new Blob(buffers, {type: 'application/binary'});\n",
              "      const a = document.createElement('a');\n",
              "      a.href = window.URL.createObjectURL(blob);\n",
              "      a.download = filename;\n",
              "      div.appendChild(a);\n",
              "      a.click();\n",
              "      div.remove();\n",
              "    }\n",
              "  "
            ],
            "text/plain": [
              "<IPython.core.display.Javascript object>"
            ]
          },
          "metadata": {},
          "output_type": "display_data"
        },
        {
          "data": {
            "application/javascript": [
              "download(\"download_ff689642-2f41-4066-aa7a-77d0e1271db1\", \"history_IRv2_70.json\", 2877)"
            ],
            "text/plain": [
              "<IPython.core.display.Javascript object>"
            ]
          },
          "metadata": {},
          "output_type": "display_data"
        }
      ],
      "source": [
        "from google.colab import files\n",
        "import pandas as pd\n",
        "model.save(\"IRv2\")\n",
        "hist_df = pd.DataFrame(history.history) \n",
        "\n",
        "# save to json:  \n",
        "hist_json_file = 'history_IRv2_70.json' \n",
        "with open(hist_json_file, mode='w') as f:\n",
        "    hist_df.to_json(f)\n",
        "\n",
        "files.download('history_IRv2_70.json')\n",
        "#files.download('IRv2')"
      ]
    },
    {
      "cell_type": "code",
      "execution_count": null,
      "metadata": {
        "id": "bNCl9mB8z0yY"
      },
      "outputs": [],
      "source": [
        "model = IRV2(X_train.shape[1:], 47, activation= 'softmax').build_model()\n",
        "# decay = .9 e = 1.0 lr = 0.045, exp rate = 0.94\n",
        "model.compile(loss='sparse_categorical_crossentropy',optimizer=tf.optimizers.SGD(learning_rate=0.01),\n",
        "              metrics=['accuracy'])\n"
      ]
    },
    {
      "cell_type": "code",
      "execution_count": null,
      "metadata": {
        "colab": {
          "base_uri": "https://localhost:8080/"
        },
        "id": "mJeMrTO5z7mB",
        "outputId": "cda7d6cf-c9d6-4c7b-d2bc-d90799120f25"
      },
      "outputs": [
        {
          "name": "stdout",
          "output_type": "stream",
          "text": [
            "Epoch 1/50\n",
            "138/138 [==============================] - 31s 125ms/step - loss: 2.9496 - accuracy: 0.2343 - val_loss: 2.6825 - val_accuracy: 0.2726 - lr: 0.0010\n",
            "Epoch 2/50\n",
            "138/138 [==============================] - 13s 95ms/step - loss: 2.6389 - accuracy: 0.2853 - val_loss: 2.4061 - val_accuracy: 0.3623 - lr: 0.0010\n",
            "Epoch 3/50\n",
            "138/138 [==============================] - 13s 95ms/step - loss: 2.4183 - accuracy: 0.3435 - val_loss: 2.1711 - val_accuracy: 0.4310 - lr: 0.0010\n",
            "Epoch 4/50\n",
            "138/138 [==============================] - 13s 95ms/step - loss: 2.1904 - accuracy: 0.3923 - val_loss: 1.9650 - val_accuracy: 0.4602 - lr: 0.0010\n",
            "Epoch 5/50\n",
            "138/138 [==============================] - 13s 96ms/step - loss: 1.9691 - accuracy: 0.4521 - val_loss: 1.7649 - val_accuracy: 0.5337 - lr: 0.0010\n",
            "Epoch 6/50\n",
            "138/138 [==============================] - 13s 95ms/step - loss: 1.7344 - accuracy: 0.5037 - val_loss: 1.5537 - val_accuracy: 0.5812 - lr: 0.0010\n",
            "Epoch 7/50\n",
            "138/138 [==============================] - 13s 95ms/step - loss: 1.5851 - accuracy: 0.5531 - val_loss: 1.4082 - val_accuracy: 0.6288 - lr: 0.0010\n",
            "Epoch 8/50\n",
            "138/138 [==============================] - 13s 95ms/step - loss: 1.3889 - accuracy: 0.5917 - val_loss: 1.2221 - val_accuracy: 0.6744 - lr: 0.0010\n",
            "Epoch 9/50\n",
            "138/138 [==============================] - 13s 95ms/step - loss: 1.2411 - accuracy: 0.6447 - val_loss: 1.1187 - val_accuracy: 0.6785 - lr: 0.0010\n",
            "Epoch 10/50\n",
            "138/138 [==============================] - 13s 95ms/step - loss: 1.0677 - accuracy: 0.6964 - val_loss: 0.9932 - val_accuracy: 0.7315 - lr: 0.0010\n",
            "Epoch 11/50\n",
            "138/138 [==============================] - 13s 94ms/step - loss: 0.9639 - accuracy: 0.7242 - val_loss: 0.8906 - val_accuracy: 0.7600 - lr: 0.0010\n",
            "Epoch 12/50\n",
            "138/138 [==============================] - 13s 95ms/step - loss: 0.8419 - accuracy: 0.7589 - val_loss: 0.8258 - val_accuracy: 0.7641 - lr: 0.0010\n",
            "Epoch 13/50\n",
            "138/138 [==============================] - 13s 95ms/step - loss: 0.7771 - accuracy: 0.7791 - val_loss: 0.7726 - val_accuracy: 0.7906 - lr: 0.0010\n",
            "Epoch 14/50\n",
            "138/138 [==============================] - 13s 95ms/step - loss: 0.6708 - accuracy: 0.8010 - val_loss: 0.7164 - val_accuracy: 0.7859 - lr: 0.0010\n",
            "Epoch 15/50\n",
            "138/138 [==============================] - 13s 95ms/step - loss: 0.6089 - accuracy: 0.8180 - val_loss: 0.7143 - val_accuracy: 0.7981 - lr: 0.0010\n",
            "Epoch 16/50\n",
            "138/138 [==============================] - 13s 95ms/step - loss: 0.5442 - accuracy: 0.8375 - val_loss: 0.6259 - val_accuracy: 0.8192 - lr: 0.0010\n",
            "Epoch 17/50\n",
            "138/138 [==============================] - 13s 95ms/step - loss: 0.5070 - accuracy: 0.8545 - val_loss: 0.6367 - val_accuracy: 0.8205 - lr: 0.0010\n",
            "Epoch 18/50\n",
            "138/138 [==============================] - 13s 95ms/step - loss: 0.4650 - accuracy: 0.8600 - val_loss: 0.5924 - val_accuracy: 0.8239 - lr: 0.0010\n",
            "Epoch 19/50\n",
            "138/138 [==============================] - 13s 95ms/step - loss: 0.4350 - accuracy: 0.8715 - val_loss: 0.5771 - val_accuracy: 0.8219 - lr: 0.0010\n",
            "Epoch 20/50\n",
            "138/138 [==============================] - 13s 95ms/step - loss: 0.3950 - accuracy: 0.8815 - val_loss: 0.5391 - val_accuracy: 0.8389 - lr: 0.0010\n",
            "Epoch 21/50\n",
            "138/138 [==============================] - 13s 95ms/step - loss: 0.3814 - accuracy: 0.8856 - val_loss: 0.5382 - val_accuracy: 0.8423 - lr: 0.0010\n",
            "Epoch 22/50\n",
            "138/138 [==============================] - 13s 95ms/step - loss: 0.3432 - accuracy: 0.8953 - val_loss: 0.5462 - val_accuracy: 0.8266 - lr: 0.0010\n",
            "Epoch 23/50\n",
            "138/138 [==============================] - 13s 95ms/step - loss: 0.3381 - accuracy: 0.8980 - val_loss: 0.5354 - val_accuracy: 0.8382 - lr: 0.0010\n",
            "Epoch 24/50\n",
            "138/138 [==============================] - 13s 95ms/step - loss: 0.3314 - accuracy: 0.8983 - val_loss: 0.5244 - val_accuracy: 0.8382 - lr: 0.0010\n",
            "Epoch 25/50\n",
            "138/138 [==============================] - 13s 95ms/step - loss: 0.3005 - accuracy: 0.9044 - val_loss: 0.5022 - val_accuracy: 0.8525 - lr: 0.0010\n",
            "Epoch 26/50\n",
            "138/138 [==============================] - 13s 95ms/step - loss: 0.3087 - accuracy: 0.8996 - val_loss: 0.4803 - val_accuracy: 0.8504 - lr: 0.0010\n",
            "Epoch 27/50\n",
            "138/138 [==============================] - 13s 95ms/step - loss: 0.2792 - accuracy: 0.9119 - val_loss: 0.4937 - val_accuracy: 0.8457 - lr: 0.0010\n",
            "Epoch 28/50\n",
            "138/138 [==============================] - 13s 95ms/step - loss: 0.2799 - accuracy: 0.9125 - val_loss: 0.4831 - val_accuracy: 0.8511 - lr: 0.0010\n",
            "Epoch 29/50\n",
            "138/138 [==============================] - 13s 95ms/step - loss: 0.2559 - accuracy: 0.9153 - val_loss: 0.4843 - val_accuracy: 0.8532 - lr: 0.0010\n",
            "Epoch 30/50\n",
            "138/138 [==============================] - 13s 95ms/step - loss: 0.2590 - accuracy: 0.9196 - val_loss: 0.4693 - val_accuracy: 0.8538 - lr: 0.0010\n",
            "Epoch 31/50\n",
            "138/138 [==============================] - 13s 95ms/step - loss: 0.2533 - accuracy: 0.9198 - val_loss: 0.5021 - val_accuracy: 0.8498 - lr: 0.0010\n",
            "Epoch 32/50\n",
            "138/138 [==============================] - 13s 95ms/step - loss: 0.2493 - accuracy: 0.9148 - val_loss: 0.4830 - val_accuracy: 0.8627 - lr: 0.0010\n",
            "Epoch 33/50\n",
            "138/138 [==============================] - 13s 95ms/step - loss: 0.2354 - accuracy: 0.9223 - val_loss: 0.5057 - val_accuracy: 0.8430 - lr: 0.0010\n",
            "Epoch 34/50\n",
            "138/138 [==============================] - 13s 95ms/step - loss: 0.2373 - accuracy: 0.9218 - val_loss: 0.4934 - val_accuracy: 0.8450 - lr: 0.0010\n",
            "Epoch 35/50\n",
            "138/138 [==============================] - 13s 94ms/step - loss: 0.2244 - accuracy: 0.9252 - val_loss: 0.4727 - val_accuracy: 0.8620 - lr: 0.0010\n",
            "Epoch 36/50\n",
            "138/138 [==============================] - 13s 95ms/step - loss: 0.2245 - accuracy: 0.9234 - val_loss: 0.5037 - val_accuracy: 0.8504 - lr: 0.0010\n",
            "Epoch 37/50\n",
            "138/138 [==============================] - ETA: 0s - loss: 0.2264 - accuracy: 0.9214\n",
            "Epoch 37: ReduceLROnPlateau reducing learning rate to 0.00010000000474974513.\n",
            "138/138 [==============================] - 13s 95ms/step - loss: 0.2264 - accuracy: 0.9214 - val_loss: 0.4838 - val_accuracy: 0.8538 - lr: 0.0010\n",
            "Epoch 38/50\n",
            "138/138 [==============================] - 13s 95ms/step - loss: 0.2033 - accuracy: 0.9311 - val_loss: 0.4746 - val_accuracy: 0.8579 - lr: 1.0000e-04\n",
            "Epoch 39/50\n",
            "138/138 [==============================] - 13s 95ms/step - loss: 0.1878 - accuracy: 0.9370 - val_loss: 0.4723 - val_accuracy: 0.8566 - lr: 1.0000e-04\n",
            "Epoch 40/50\n",
            "138/138 [==============================] - 13s 95ms/step - loss: 0.1925 - accuracy: 0.9293 - val_loss: 0.4723 - val_accuracy: 0.8600 - lr: 1.0000e-04\n",
            "Epoch 41/50\n",
            "138/138 [==============================] - 13s 95ms/step - loss: 0.1827 - accuracy: 0.9350 - val_loss: 0.4733 - val_accuracy: 0.8593 - lr: 1.0000e-04\n",
            "Epoch 42/50\n",
            "138/138 [==============================] - 13s 95ms/step - loss: 0.1871 - accuracy: 0.9336 - val_loss: 0.4727 - val_accuracy: 0.8552 - lr: 1.0000e-04\n",
            "Epoch 43/50\n",
            "138/138 [==============================] - ETA: 0s - loss: 0.1741 - accuracy: 0.9370\n",
            "Epoch 43: ReduceLROnPlateau reducing learning rate to 1.0000000474974514e-05.\n",
            "138/138 [==============================] - 13s 95ms/step - loss: 0.1741 - accuracy: 0.9370 - val_loss: 0.4769 - val_accuracy: 0.8559 - lr: 1.0000e-04\n",
            "Epoch 44/50\n",
            "138/138 [==============================] - 13s 95ms/step - loss: 0.1674 - accuracy: 0.9409 - val_loss: 0.4765 - val_accuracy: 0.8552 - lr: 1.0000e-05\n",
            "Epoch 45/50\n",
            "138/138 [==============================] - 13s 95ms/step - loss: 0.1778 - accuracy: 0.9368 - val_loss: 0.4762 - val_accuracy: 0.8552 - lr: 1.0000e-05\n",
            "Epoch 46/50\n",
            "138/138 [==============================] - 13s 94ms/step - loss: 0.1712 - accuracy: 0.9384 - val_loss: 0.4764 - val_accuracy: 0.8559 - lr: 1.0000e-05\n",
            "Epoch 47/50\n",
            "138/138 [==============================] - 13s 95ms/step - loss: 0.1707 - accuracy: 0.9361 - val_loss: 0.4761 - val_accuracy: 0.8552 - lr: 1.0000e-05\n",
            "Epoch 48/50\n",
            "138/138 [==============================] - 13s 95ms/step - loss: 0.1695 - accuracy: 0.9395 - val_loss: 0.4758 - val_accuracy: 0.8552 - lr: 1.0000e-05\n",
            "Epoch 49/50\n",
            "138/138 [==============================] - ETA: 0s - loss: 0.1747 - accuracy: 0.9390\n",
            "Epoch 49: ReduceLROnPlateau reducing learning rate to 1.0000000656873453e-06.\n",
            "138/138 [==============================] - 13s 95ms/step - loss: 0.1747 - accuracy: 0.9390 - val_loss: 0.4757 - val_accuracy: 0.8545 - lr: 1.0000e-05\n",
            "Epoch 50/50\n",
            "138/138 [==============================] - 13s 95ms/step - loss: 0.1686 - accuracy: 0.9411 - val_loss: 0.4757 - val_accuracy: 0.8538 - lr: 1.0000e-06\n"
          ]
        }
      ],
      "source": [
        "from keras.models import Sequential\n",
        "from keras.layers import Conv2D, MaxPool2D, Dense, Flatten, Dropout, ZeroPadding2D, BatchNormalization\n",
        "model=Sequential()\n",
        "\n",
        "model.add(Conv2D(96,(11,11),strides=4,activation='relu',input_shape=X_train.shape[1:],padding='valid'))\n",
        "model.add(MaxPool2D((3,3),strides=2))\n",
        "model.add(BatchNormalization())\n",
        "\n",
        "model.add(ZeroPadding2D(padding=2))\n",
        "model.add(Conv2D(256,(5,5),activation='relu',padding='same'))\n",
        "model.add(MaxPool2D((3,3), strides=2))\n",
        "model.add(BatchNormalization())\n",
        "\n",
        "model.add(ZeroPadding2D(padding=1))\n",
        "model.add(Conv2D(384,(3,3),activation='relu',padding='same'))\n",
        "\n",
        "model.add(ZeroPadding2D(padding=1))\n",
        "model.add(Conv2D(384,(3,3),activation='relu',padding='same'))\n",
        "\n",
        "model.add(ZeroPadding2D(padding=1))\n",
        "model.add(Conv2D(256,(3,3),activation='relu',padding='same'))\n",
        "\n",
        "model.add(Flatten())\n",
        "model.add(Dense(4096,activation=\"relu\"))\n",
        "model.add(Dropout(rate=0.5))\n",
        "model.add(Dense(4096,activation=\"relu\"))\n",
        "model.add(Dropout(rate=0.5))\n",
        "model.add(Dense(48,activation=\"softmax\"))\n",
        "\n",
        "model.compile(loss='sparse_categorical_crossentropy',optimizer=tf.optimizers.SGD(learning_rate=0.001),\n",
        "              metrics=['accuracy'])\n",
        "#callback = tf.keras.callbacks.LearningRateScheduler(scheduler)\n",
        "callback = tf.keras.callbacks.ReduceLROnPlateau(\n",
        "    monitor='val_accuracy', factor=0.1, patience=5, verbose=1,\n",
        "    mode='max', min_delta=0.0001, cooldown=2, min_lr=0)\n",
        "epochs = 50\n",
        "history = model.fit(X_train, y_train_e, batch_size=32, epochs=epochs,\n",
        "validation_data=(X_val, y_val_e), callbacks = [callback])"
      ]
    }
  ],
  "metadata": {
    "accelerator": "GPU",
    "colab": {
      "collapsed_sections": [],
      "machine_shape": "hm",
      "name": "InveptionResNetv2.ipynb",
      "provenance": []
    },
    "kernelspec": {
      "display_name": "Python 3",
      "name": "python3"
    },
    "language_info": {
      "name": "python"
    }
  },
  "nbformat": 4,
  "nbformat_minor": 0
}