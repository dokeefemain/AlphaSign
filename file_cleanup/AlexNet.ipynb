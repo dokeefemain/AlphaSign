{
 "cells": [
  {
   "cell_type": "markdown",
   "metadata": {
    "pycharm": {
     "name": "#%% md\n"
    }
   },
   "source": [
    "# AlexNet Implementation"
   ]
  },
  {
   "cell_type": "code",
   "execution_count": 1,
   "metadata": {
    "pycharm": {
     "name": "#%%\n"
    }
   },
   "outputs": [],
   "source": [
    "import pandas as pd\n",
    "import numpy as np\n",
    "from PIL import Image\n",
    "import cv2\n",
    "import tensorflow as tf"
   ]
  },
  {
   "cell_type": "code",
   "execution_count": 2,
   "metadata": {
    "pycharm": {
     "name": "#%%\n"
    },
    "scrolled": true
   },
   "outputs": [
    {
     "data": {
      "text/plain": "                                               Filename   Annotation tag  \\\n0     aiua120214-0/frameAnnotations-DataLog02142012_...             stop   \n1     aiua120214-0/frameAnnotations-DataLog02142012_...  speedLimitUrdbl   \n2     aiua120214-0/frameAnnotations-DataLog02142012_...             stop   \n3     aiua120214-0/frameAnnotations-DataLog02142012_...     speedLimit25   \n4     aiua120214-0/frameAnnotations-DataLog02142012_...     speedLimit25   \n...                                                 ...              ...   \n7850  vid9/frameAnnotations-MVI_0121.MOV_annotations...     speedLimit35   \n7851  vid9/frameAnnotations-MVI_0121.MOV_annotations...     speedLimit35   \n7852  vid9/frameAnnotations-MVI_0121.MOV_annotations...     speedLimit35   \n7853  vid9/frameAnnotations-MVI_0121.MOV_annotations...     speedLimit35   \n7854  vid9/frameAnnotations-MVI_0121.MOV_annotations...     speedLimit35   \n\n      Upper left corner X  Upper left corner Y  Lower right corner X  \\\n0                     862                  104                   916   \n1                     425                  197                   438   \n2                     922                   88                   982   \n3                     447                  193                   461   \n4                     469                  189                   483   \n...                   ...                  ...                   ...   \n7850                   41                  209                    65   \n7851                  526                  213                   543   \n7852                  546                  208                   564   \n7853                  573                  204                   592   \n7854                  604                  196                   628   \n\n      Lower right corner Y Occluded,On another road  \\\n0                      158                      0,0   \n1                      213                      0,0   \n2                      148                      1,0   \n3                      210                      0,0   \n4                      207                      0,0   \n...                    ...                      ...   \n7850                   239                      0,0   \n7851                   233                      0,0   \n7852                   230                      0,0   \n7853                   228                      0,0   \n7854                   223                      0,0   \n\n                                           Origin file  Origin frame number  \\\n0     aiua120214-0/DataLog02142012_external_camera.avi                 2667   \n1     aiua120214-0/DataLog02142012_external_camera.avi                 2667   \n2     aiua120214-0/DataLog02142012_external_camera.avi                 2672   \n3     aiua120214-0/DataLog02142012_external_camera.avi                 2672   \n4     aiua120214-0/DataLog02142012_external_camera.avi                 2677   \n...                                                ...                  ...   \n7850                                 vid9/MVI_0121.MOV                 8813   \n7851                                 vid9/MVI_0121.MOV                 8875   \n7852                                 vid9/MVI_0121.MOV                 8880   \n7853                                 vid9/MVI_0121.MOV                 8885   \n7854                                 vid9/MVI_0121.MOV                 8890   \n\n                   Origin track  Origin track frame number  \n0           stop_1330545910.avi                          2  \n1           stop_1330545910.avi                          2  \n2           stop_1330545910.avi                          7  \n3           stop_1330545910.avi                          7  \n4           stop_1330545910.avi                         12  \n...                         ...                        ...  \n7850  speedLimit_1324866802.avi                         22  \n7851  speedLimit_1324866807.avi                          2  \n7852  speedLimit_1324866807.avi                          7  \n7853  speedLimit_1324866807.avi                         12  \n7854  speedLimit_1324866807.avi                         17  \n\n[7855 rows x 11 columns]",
      "text/html": "<div>\n<style scoped>\n    .dataframe tbody tr th:only-of-type {\n        vertical-align: middle;\n    }\n\n    .dataframe tbody tr th {\n        vertical-align: top;\n    }\n\n    .dataframe thead th {\n        text-align: right;\n    }\n</style>\n<table border=\"1\" class=\"dataframe\">\n  <thead>\n    <tr style=\"text-align: right;\">\n      <th></th>\n      <th>Filename</th>\n      <th>Annotation tag</th>\n      <th>Upper left corner X</th>\n      <th>Upper left corner Y</th>\n      <th>Lower right corner X</th>\n      <th>Lower right corner Y</th>\n      <th>Occluded,On another road</th>\n      <th>Origin file</th>\n      <th>Origin frame number</th>\n      <th>Origin track</th>\n      <th>Origin track frame number</th>\n    </tr>\n  </thead>\n  <tbody>\n    <tr>\n      <th>0</th>\n      <td>aiua120214-0/frameAnnotations-DataLog02142012_...</td>\n      <td>stop</td>\n      <td>862</td>\n      <td>104</td>\n      <td>916</td>\n      <td>158</td>\n      <td>0,0</td>\n      <td>aiua120214-0/DataLog02142012_external_camera.avi</td>\n      <td>2667</td>\n      <td>stop_1330545910.avi</td>\n      <td>2</td>\n    </tr>\n    <tr>\n      <th>1</th>\n      <td>aiua120214-0/frameAnnotations-DataLog02142012_...</td>\n      <td>speedLimitUrdbl</td>\n      <td>425</td>\n      <td>197</td>\n      <td>438</td>\n      <td>213</td>\n      <td>0,0</td>\n      <td>aiua120214-0/DataLog02142012_external_camera.avi</td>\n      <td>2667</td>\n      <td>stop_1330545910.avi</td>\n      <td>2</td>\n    </tr>\n    <tr>\n      <th>2</th>\n      <td>aiua120214-0/frameAnnotations-DataLog02142012_...</td>\n      <td>stop</td>\n      <td>922</td>\n      <td>88</td>\n      <td>982</td>\n      <td>148</td>\n      <td>1,0</td>\n      <td>aiua120214-0/DataLog02142012_external_camera.avi</td>\n      <td>2672</td>\n      <td>stop_1330545910.avi</td>\n      <td>7</td>\n    </tr>\n    <tr>\n      <th>3</th>\n      <td>aiua120214-0/frameAnnotations-DataLog02142012_...</td>\n      <td>speedLimit25</td>\n      <td>447</td>\n      <td>193</td>\n      <td>461</td>\n      <td>210</td>\n      <td>0,0</td>\n      <td>aiua120214-0/DataLog02142012_external_camera.avi</td>\n      <td>2672</td>\n      <td>stop_1330545910.avi</td>\n      <td>7</td>\n    </tr>\n    <tr>\n      <th>4</th>\n      <td>aiua120214-0/frameAnnotations-DataLog02142012_...</td>\n      <td>speedLimit25</td>\n      <td>469</td>\n      <td>189</td>\n      <td>483</td>\n      <td>207</td>\n      <td>0,0</td>\n      <td>aiua120214-0/DataLog02142012_external_camera.avi</td>\n      <td>2677</td>\n      <td>stop_1330545910.avi</td>\n      <td>12</td>\n    </tr>\n    <tr>\n      <th>...</th>\n      <td>...</td>\n      <td>...</td>\n      <td>...</td>\n      <td>...</td>\n      <td>...</td>\n      <td>...</td>\n      <td>...</td>\n      <td>...</td>\n      <td>...</td>\n      <td>...</td>\n      <td>...</td>\n    </tr>\n    <tr>\n      <th>7850</th>\n      <td>vid9/frameAnnotations-MVI_0121.MOV_annotations...</td>\n      <td>speedLimit35</td>\n      <td>41</td>\n      <td>209</td>\n      <td>65</td>\n      <td>239</td>\n      <td>0,0</td>\n      <td>vid9/MVI_0121.MOV</td>\n      <td>8813</td>\n      <td>speedLimit_1324866802.avi</td>\n      <td>22</td>\n    </tr>\n    <tr>\n      <th>7851</th>\n      <td>vid9/frameAnnotations-MVI_0121.MOV_annotations...</td>\n      <td>speedLimit35</td>\n      <td>526</td>\n      <td>213</td>\n      <td>543</td>\n      <td>233</td>\n      <td>0,0</td>\n      <td>vid9/MVI_0121.MOV</td>\n      <td>8875</td>\n      <td>speedLimit_1324866807.avi</td>\n      <td>2</td>\n    </tr>\n    <tr>\n      <th>7852</th>\n      <td>vid9/frameAnnotations-MVI_0121.MOV_annotations...</td>\n      <td>speedLimit35</td>\n      <td>546</td>\n      <td>208</td>\n      <td>564</td>\n      <td>230</td>\n      <td>0,0</td>\n      <td>vid9/MVI_0121.MOV</td>\n      <td>8880</td>\n      <td>speedLimit_1324866807.avi</td>\n      <td>7</td>\n    </tr>\n    <tr>\n      <th>7853</th>\n      <td>vid9/frameAnnotations-MVI_0121.MOV_annotations...</td>\n      <td>speedLimit35</td>\n      <td>573</td>\n      <td>204</td>\n      <td>592</td>\n      <td>228</td>\n      <td>0,0</td>\n      <td>vid9/MVI_0121.MOV</td>\n      <td>8885</td>\n      <td>speedLimit_1324866807.avi</td>\n      <td>12</td>\n    </tr>\n    <tr>\n      <th>7854</th>\n      <td>vid9/frameAnnotations-MVI_0121.MOV_annotations...</td>\n      <td>speedLimit35</td>\n      <td>604</td>\n      <td>196</td>\n      <td>628</td>\n      <td>223</td>\n      <td>0,0</td>\n      <td>vid9/MVI_0121.MOV</td>\n      <td>8890</td>\n      <td>speedLimit_1324866807.avi</td>\n      <td>17</td>\n    </tr>\n  </tbody>\n</table>\n<p>7855 rows × 11 columns</p>\n</div>"
     },
     "execution_count": 2,
     "metadata": {},
     "output_type": "execute_result"
    }
   ],
   "source": [
    "all_ann = pd.read_csv(\"lib/datasets/LISA/allAnnotations.csv\", delimiter=';')\n",
    "all_ann"
   ]
  },
  {
   "cell_type": "code",
   "execution_count": 3,
   "outputs": [],
   "source": [
    "all_ann = all_ann.drop_duplicates(subset=[\"Filename\"], keep=False, ignore_index=True)"
   ],
   "metadata": {
    "collapsed": false,
    "pycharm": {
     "name": "#%%\n"
    }
   }
  },
  {
   "cell_type": "code",
   "execution_count": 5,
   "outputs": [],
   "source": [
    "all_ann = all_ann[all_ann[\"Occluded,On another road\"] != \"1,0\"]"
   ],
   "metadata": {
    "collapsed": false,
    "pycharm": {
     "name": "#%%\n"
    }
   }
  },
  {
   "cell_type": "code",
   "execution_count": 11,
   "outputs": [],
   "source": [
    "all_ann.to_csv(\"lib/datasets/test.csv\")"
   ],
   "metadata": {
    "collapsed": false,
    "pycharm": {
     "name": "#%%\n"
    }
   }
  },
  {
   "cell_type": "code",
   "execution_count": 8,
   "outputs": [
    {
     "data": {
      "text/plain": "array([ 1236,  2567,  6935,  3568,  6272,  5432,  7058,  6802,  6774,\n        6697,   643,  9856,  6516,  6867,  5692, 10785,  1135,   259,\n        3021,   808,  9477,  9601,  1102,  4867,  1979,  6322,  8075,\n          70, 11194,    23,  1984,  6016,  2811,   991,  1051, 11152,\n          15, 11368,  7266,  2064,  9497,  6299,  4519,   474,  5343,\n       10260,  8907,  9789,  4011,  7595,  7375,  4643,   790,   714,\n       10167,  1746, 10359,  9715,  2623,   506,  4685, 10768,  3940,\n        3570,  4413,  8049,  4024,  6599,  1694,  5618,  9918,  1660,\n        4158, 11339,  7483,   254,  2166,  3632,  9444,  1026,  3590,\n        1494,  1558,  2427,  1632,  5641,  8668,  9668,  6918,   659,\n        7848,  5453,  2393,  4592,  6717,  7872,  8815,  2478,  4771,\n        6397,  9644, 10861,  8017,  1817,  1630,  6391,  5819,  4483,\n        4318, 10115,    95,  1928, 10267,  9326,   117,  4322,  2980,\n        2462,  2046,  2783,  3404, 10634, 10276,  6897,  8547,  7796,\n        8740,   981,  6151,  5749,  2216, 10490,  5511,  6681,  5342,\n       10489,  7800,  8725,  8158,  7610,  4338,  3191,  7407,  7826,\n        5058,  9804,  1398,  3555,  6445,  9718,   171,  8152,  2469,\n        5010,  6428,  4868,  1772,  6640,  7577,  6285,  8774,  8884,\n        7850, 11120, 10796,  2644,  7678,  8938,  7420,  9556,  2171,\n        9763,  2686,  9586,    79,  1453,  8551,  7566,  6727,  2127,\n        2669,  9594, 10894,  2333,  5952, 11159,  2969,  8022, 10903,\n        6036,  8544,  2211, 11027,  7207,  2820,  5714, 10782,  6643,\n        1461,  9504,  3528,  8783,  7642,  9970, 11247,  8659,  8864,\n        2551,  9974, 10747, 11166,  4401,  3068,  6474,  3886,  7938,\n        1223,  8117,  4484, 11568,   566, 10358,  9042,   768,  3353,\n        8025,  1877,  2576,    78,  3628,  7764, 11073,  2571,   450,\n        2277,    86, 10497,  9562, 10136,  3924,  2556,  2574, 10375,\n        2565,  1475,    49,  3434,  7358,  4917,  5085,   569,  8332,\n        5981, 10481,  3364,  7176, 11513,  4948, 10394,  7193,   196,\n        9232,  9999,  5115,  5486,  7760,  1774,  8493,  3110, 10176,\n        4286, 10701,  8609, 11530,   780,  7866,  2562,  9040,  9660,\n        3196,  1164,  3679, 11621,  3516,  9632,  3157,  2509,  7467,\n        8891,  9495,  9854,  2910,  4804, 11134, 11580,  3033,  4143,\n        6475,  4874,  2929, 11228,  6906,  9755,  7343,  2711,  8398,\n        2915,  4890,  7640, 10144,  5189, 11565,  3483,  8872,  3909,\n        2856,  4600,  2383,  5534,  8767,  6512,  1033,  5282,  9451,\n        6102,  5571,  7753,  7730, 11169, 10077,  1256,  8024,  6146,\n        6287,  1926,  9391,  2184, 10006, 11605,  5740,  3330, 11599,\n        2821,  7991,  6142,  8330,  6778,  2507,  4596,  2090,  9623,\n        9427,  5841,  3373,  4444,  5039,  6471, 10445,  1554,  7560,\n        8865,   725,  2516,  6844,  5585, 10639,   627,  7160, 10116,\n        6831,  3266,  6060,  1791,   860,   987,   992,  5416,  2487,\n        4712,  8981,  7630,  1898,  9907,  5339,  5484,  3855,  9156,\n        6531,  6181,  7456, 10469,  5116,  2868,  3608,   690,  1610,\n        3039, 10526,  2700,  4865, 10506,  8587, 10844,  6238,  2228,\n        6416,  8261,  9377,  1690,  7783,  4717,  6622,  6839,  2779,\n        7946,   130,   107,  1555,  1550,  2908,  9654, 10329,  7507,\n        1949,   715,  2115, 10881, 10913,  9197,  3774,  4824,  3026,\n        2163,  1046, 10495,  4408,  2826,  1390,  8346,  5549,  2490,\n        1446,  5434,  9879,  8991,  8650,  6270, 10310,  5011,  8540,\n        5691,  3831,  8606, 11123, 10799,  2370,  8373,  5683,  8669,\n        3805,  6911,  5018,  8164,  1312,  3547,  4278,   781, 10401,\n        7955,   423, 11353,  4184,  6278, 10617,  8225,  1044,  5607,\n        8074,  8793,  8571,   625,  6611,  6383,  5264, 10730,   667,\n        9065,  2549,  5725,  9821,  3144, 10026,  9855,  4549,  9846,\n        3899,  7136,  2312,  8224,  3811,  5372,  7504,  9887,  1790,\n        4973,  4106,  4176,  2676,  6603,  5938, 11089,  3050, 11084,\n         182,  9843,  4968,  5782,   677,  8292,  9641,  9082,  3849,\n       11182, 11394, 11014,  3460,  2437,    77,  6922,  5007,  6082,\n         972, 10239,  1848,  9526,  9289,  4940,  7416,  9885,  6011,\n        9142,  9810,   699,  7618,  2825,  8090,  9819,  9917, 10441,\n        5145,  6071,  9231,  3001,  1489,  6794,  9176,  4378,  6000,\n       11617,  1188,  9744,  4305,  5066,  8467,  8999,  8831, 10259,\n        1106,  9407,  4185,  7477,  7115,  9241,  6849,  9007,   917,\n        9022, 11612,  7256, 11246,  5676,  6274,   709,  4619,  6302,\n        1798, 11287,  8414,  3693,  8974,  8790,  6695, 11038,  9722,\n          45,  2702,  8607,  1643,  2156,  6493,  6869,  2751,    43,\n        1166, 11611,  4580,   473,  2968,  4274,  3819,  6212,  3508,\n        2080, 10574, 11004,  4268,  7607,  8415,  7903,  2061,  4405,\n        2535, 10957,  4016,  1115,  5768,  1485,  8912, 10145,  2566,\n       11463, 11144,  4525,  3518,  2042, 10711,  5444,  9496,  7675,\n        2529,  3272,  2830,  2165,  2251,  6257,  6868,  6378,  5088,\n        6982,  3535,  8422,  9719,  1219,  4620,  1652,  8067, 10793,\n        2434,  2021,  4046,  9483,  1546,  7409,  4615,  2723,  5346,\n        3536,  8803, 10857,  8390,  7408,  6791,  7229,  5998,  9173,\n       11618,    97, 10229,  4262, 11336,  7231,  8732,  2550,  9906,\n         287,  8166,  1174,  3114,  5268,   400, 11372,  4623,  2895,\n        7682,  5567,  8309,  8034,  7470,  3307,  8276,  5792,  9787,\n        8719,  4056,  6661,  2153,  6670,  7815,  9712,  5557,  9565,\n        2619,  3949,  6559,  8113,  3996,  1024,   844,  5232,  6169,\n        9786,  3934,  3733,  3962,  9466, 10907,  7107,  9886, 10337,\n        4989,  4182,  4033, 11062,  3499,  6010,  9448,  6893,  7112,\n         294,  3392,  8649,  9267,  7770,  1451,  1130,  3320,  6505,\n        1579,  9046,  7150,  5731,  6120,  4983,  9372,  3664,  3596,\n        8615,  7254,  6076,  1370,  9206, 10892,  3753,  4095,  6984,\n        5742,  7513,  2188,  6147,  4433,  3418,  4259,  4923,  2677,\n         817,  1534, 10946,  5587,  2220, 11015,  7213, 10720,  6234,\n        8441, 11575,  2674,  3263,  9381,  8526,  7761,  9867, 11074,\n        9829,  1096,  5906,  6403,  6948,  1650,   650, 10804,  6985,\n        9280,  9351,  5642,  1152,  2879,  8677,  3317, 11257,  1426,\n        9099, 10810,  7170,  3180,  5130,  9032,   201,  4086,  8469,\n        9207,  6254,  5680,  5924,  8821,  9926,  6228,     3,  7685,\n        9396,   192,  3031,  3202,  3715,  3807,  3879,  4304, 11229,\n        4441,  3399,   527,   213,  1577,  8818, 10348,  9403,   452,\n        6401,  5399,  2429,  4669,  9655,   357,  9531,   694,  1454,\n        7515,   708,  5271,  7372,  1735,  5263,  2138,  3065, 11111,\n        4336, 10069,  6745,  1344,  6057,   416,  9220,  4421, 11056,\n        9674, 11140,     7,   683,  8516,  7148, 10573,  9268,  7814,\n        6003,  4485,  1881, 10249, 11460,  1181,   233,  1729,  5999,\n        4113,  2150,   454, 11315,  6843,  9959,  7813, 10921, 11239,\n        7340,   997,  8288,  7001,   195, 10434,  7202, 10740, 11424,\n        5705,  9509,  8977,  8006,  3735,  6371,  2154,  4755, 11203,\n        4591,  2614,  7579,  8167,  4282,   766,  9781,  3904,  5450,\n        2530,  5410,  5104,  3183,  5050,  5327,   592,  2630,  3814,\n        7271,  3442,  6188,  1681,  7222,  4103, 11629, 10873,  8347,\n        6374,  6242,  8132, 10771,  4149,  7269,  4489,  3047,  5371,\n       10324,  2031,  4597,  5443,  4241,  2611,   191,  1245,  8303,\n        5512,  2376, 10510,  1324,  8216,  6354,  6131,  4570,  9281,\n        5311,  3351,  3198, 10672,  3494,  9968,  6883,  1425,  6988,\n        9816, 11222,  7299, 10281,  1128,  3240,  4476,  7521,  6433,\n         263,  3111,  8148,  4610,  6793,  9064,  9456, 10853,  9193,\n        8899])"
     },
     "execution_count": 8,
     "metadata": {},
     "output_type": "execute_result"
    }
   ],
   "source": [
    "sub_sample = np.load(\"lib/datasets/sample_negative.npy\")\n",
    "sub_sample"
   ],
   "metadata": {
    "collapsed": false,
    "pycharm": {
     "name": "#%%\n"
    }
   }
  },
  {
   "cell_type": "code",
   "execution_count": 6,
   "metadata": {
    "pycharm": {
     "name": "#%%\n"
    }
   },
   "outputs": [],
   "source": [
    "#max image size\n",
    "# gt 260 400\n",
    "height = 227\n",
    "width = 227\n",
    "data = []\n",
    "labels = []\n",
    "path = \"lib/datasets/LISA/\"\n",
    "test = 0\n",
    "import random\n",
    "sub_sample = random.sample(list(range(len(all_ann[\"Filename\"]))), k=len(all_ann[\"Filename\"])-2000) # The data set is too big for my PC\n",
    "for i in sub_sample:\n",
    "    file = all_ann[\"Filename\"][i]\n",
    "    sign = all_ann[\"Annotation tag\"][i]\n",
    "    image = Image.open(path+file)\n",
    "    image = image.resize((width,height))\n",
    "    image = np.asarray(image)\n",
    "    data.append(image)\n",
    "    labels.append(sign)"
   ]
  },
  {
   "cell_type": "code",
   "execution_count": 8,
   "metadata": {},
   "outputs": [],
   "source": [
    "# 1k random samples of images with no signs\n",
    "with open(\"lib/datasets/LISA/negatives/negatives.dat\") as f:\n",
    "    negatives = [line.rstrip('\\n') for line in f]\n",
    "path_n = \"lib/datasets/LISA/negatives/\"\n",
    "import random\n",
    "sub_sample = random.sample(list(range(len(negatives))), k=1000)\n",
    "for i in sub_sample:\n",
    "    file = negatives[i]\n",
    "    sign = \"None\"\n",
    "    image = Image.open(path_n+file)\n",
    "    image = image.resize((width,height))\n",
    "    image = np.asarray(image)\n",
    "    data.append(image)\n",
    "    labels.append(sign)"
   ]
  },
  {
   "cell_type": "code",
   "execution_count": 9,
   "metadata": {
    "pycharm": {
     "name": "#%%\n"
    }
   },
   "outputs": [],
   "source": [
    "signs = np.array(data)\n",
    "labels = np.array(labels)\n",
    "\n",
    "# Randomize order\n",
    "s = np.arange(signs.shape[0])\n",
    "np.random.seed(43)\n",
    "np.random.shuffle(s)\n",
    "signs = signs[s]\n",
    "labels = labels[s]"
   ]
  },
  {
   "cell_type": "code",
   "execution_count": 10,
   "metadata": {
    "pycharm": {
     "name": "#%%\n"
    }
   },
   "outputs": [],
   "source": [
    "from sklearn.model_selection import train_test_split\n",
    "from imblearn.over_sampling import  RandomOverSampler\n",
    "X_train, X_test, y_train, y_test = train_test_split(signs, labels, test_size=0.2, random_state=1)\n",
    "del signs\n",
    "X_train, X_val, y_train, y_val = train_test_split(X_train, y_train, test_size=0.25, random_state=1)"
   ]
  },
  {
   "cell_type": "code",
   "execution_count": 11,
   "metadata": {
    "pycharm": {
     "name": "#%%\n"
    }
   },
   "outputs": [],
   "source": [
    "# Preprocess\n",
    "X_train = X_train.astype('float64')\n",
    "X_val = X_val.astype('float64')\n",
    "X_test = X_test.astype('float64')\n",
    "\n",
    "# Normalize\n",
    "mean_image = np.mean(X_train, axis = 0)\n",
    "X_train -= mean_image\n",
    "X_val -= mean_image\n",
    "X_test -= mean_image"
   ]
  },
  {
   "cell_type": "code",
   "execution_count": 12,
   "metadata": {
    "pycharm": {
     "name": "#%%\n"
    }
   },
   "outputs": [],
   "source": [
    "def one_hot(lab, vals):\n",
    "    hot = []\n",
    "    for i in range(len(vals)):\n",
    "        hot.append(lab.tolist().index(vals[i]))\n",
    "    return hot"
   ]
  },
  {
   "cell_type": "code",
   "execution_count": 13,
   "metadata": {
    "pycharm": {
     "name": "#%%\n"
    }
   },
   "outputs": [],
   "source": [
    "# Encode\n",
    "lab = np.unique(labels)\n",
    "from tensorflow.keras.utils import to_categorical\n",
    "y_train_e = np.array(one_hot(lab,y_train))\n",
    "y_val_e = np.array(one_hot(lab,y_val))"
   ]
  },
  {
   "cell_type": "code",
   "execution_count": 14,
   "metadata": {
    "pycharm": {
     "name": "#%%\n"
    }
   },
   "outputs": [],
   "source": [
    "tmp = pd.DataFrame()\n",
    "tmp[\"Label\"] = lab\n",
    "tmp[\"Encoding\"] =list(range(len(lab)))\n",
    "tmp.to_csv(\"App/lib/datasets/key1.csv\",index=False)"
   ]
  },
  {
   "cell_type": "markdown",
   "metadata": {},
   "source": [
    "### AlexNet"
   ]
  },
  {
   "cell_type": "code",
   "execution_count": 15,
   "metadata": {
    "pycharm": {
     "name": "#%%\n"
    }
   },
   "outputs": [],
   "source": [
    "from keras.models import Sequential\n",
    "from keras.layers import Conv2D, MaxPool2D, Dense, Flatten, Dropout, ZeroPadding2D, BatchNormalization"
   ]
  },
  {
   "cell_type": "code",
   "execution_count": 1,
   "metadata": {
    "pycharm": {
     "name": "#%%\n"
    }
   },
   "outputs": [
    {
     "ename": "NameError",
     "evalue": "name 'tf' is not defined",
     "output_type": "error",
     "traceback": [
      "\u001B[1;31m---------------------------------------------------------------------------\u001B[0m",
      "\u001B[1;31mNameError\u001B[0m                                 Traceback (most recent call last)",
      "\u001B[1;32m~\\AppData\\Local\\Temp/ipykernel_8080/2543833342.py\u001B[0m in \u001B[0;36m<module>\u001B[1;34m\u001B[0m\n\u001B[1;32m----> 1\u001B[1;33m \u001B[0mtf\u001B[0m\u001B[1;33m.\u001B[0m\u001B[0mkeras\u001B[0m\u001B[1;33m.\u001B[0m\u001B[0mbackend\u001B[0m\u001B[1;33m.\u001B[0m\u001B[0mclear_session\u001B[0m\u001B[1;33m(\u001B[0m\u001B[1;33m)\u001B[0m\u001B[1;33m\u001B[0m\u001B[1;33m\u001B[0m\u001B[0m\n\u001B[0m\u001B[0;32m      2\u001B[0m \u001B[0mmodel\u001B[0m\u001B[1;33m=\u001B[0m\u001B[0mSequential\u001B[0m\u001B[1;33m(\u001B[0m\u001B[1;33m)\u001B[0m\u001B[1;33m\u001B[0m\u001B[1;33m\u001B[0m\u001B[0m\n\u001B[0;32m      3\u001B[0m \u001B[1;33m\u001B[0m\u001B[0m\n\u001B[0;32m      4\u001B[0m \u001B[0mmodel\u001B[0m\u001B[1;33m.\u001B[0m\u001B[0madd\u001B[0m\u001B[1;33m(\u001B[0m\u001B[0mConv2D\u001B[0m\u001B[1;33m(\u001B[0m\u001B[1;36m96\u001B[0m\u001B[1;33m,\u001B[0m\u001B[1;33m(\u001B[0m\u001B[1;36m11\u001B[0m\u001B[1;33m,\u001B[0m\u001B[1;36m11\u001B[0m\u001B[1;33m)\u001B[0m\u001B[1;33m,\u001B[0m\u001B[0mstrides\u001B[0m\u001B[1;33m=\u001B[0m\u001B[1;36m4\u001B[0m\u001B[1;33m,\u001B[0m\u001B[0mactivation\u001B[0m\u001B[1;33m=\u001B[0m\u001B[1;34m'relu'\u001B[0m\u001B[1;33m,\u001B[0m\u001B[0minput_shape\u001B[0m\u001B[1;33m=\u001B[0m\u001B[0mX_train\u001B[0m\u001B[1;33m.\u001B[0m\u001B[0mshape\u001B[0m\u001B[1;33m[\u001B[0m\u001B[1;36m1\u001B[0m\u001B[1;33m:\u001B[0m\u001B[1;33m]\u001B[0m\u001B[1;33m,\u001B[0m\u001B[0mpadding\u001B[0m\u001B[1;33m=\u001B[0m\u001B[1;34m'valid'\u001B[0m\u001B[1;33m)\u001B[0m\u001B[1;33m)\u001B[0m\u001B[1;33m\u001B[0m\u001B[1;33m\u001B[0m\u001B[0m\n\u001B[0;32m      5\u001B[0m \u001B[0mmodel\u001B[0m\u001B[1;33m.\u001B[0m\u001B[0madd\u001B[0m\u001B[1;33m(\u001B[0m\u001B[0mMaxPool2D\u001B[0m\u001B[1;33m(\u001B[0m\u001B[1;33m(\u001B[0m\u001B[1;36m3\u001B[0m\u001B[1;33m,\u001B[0m\u001B[1;36m3\u001B[0m\u001B[1;33m)\u001B[0m\u001B[1;33m,\u001B[0m\u001B[0mstrides\u001B[0m\u001B[1;33m=\u001B[0m\u001B[1;36m2\u001B[0m\u001B[1;33m)\u001B[0m\u001B[1;33m)\u001B[0m\u001B[1;33m\u001B[0m\u001B[1;33m\u001B[0m\u001B[0m\n",
      "\u001B[1;31mNameError\u001B[0m: name 'tf' is not defined"
     ]
    }
   ],
   "source": [
    "model=Sequential()\n",
    "\n",
    "model.add(Conv2D(96,(11,11),strides=4,activation='relu',input_shape=X_train.shape[1:],padding='valid'))\n",
    "model.add(MaxPool2D((3,3),strides=2))\n",
    "model.add(BatchNormalization())\n",
    "\n",
    "model.add(ZeroPadding2D(padding=2))\n",
    "model.add(Conv2D(256,(5,5),activation='relu',padding='same'))\n",
    "model.add(MaxPool2D((3,3), strides=2))\n",
    "model.add(BatchNormalization())\n",
    "\n",
    "model.add(ZeroPadding2D(padding=1))\n",
    "model.add(Conv2D(384,(3,3),activation='relu',padding='same'))\n",
    "\n",
    "model.add(ZeroPadding2D(padding=1))\n",
    "model.add(Conv2D(384,(3,3),activation='relu',padding='same'))\n",
    "\n",
    "model.add(ZeroPadding2D(padding=1))\n",
    "model.add(Conv2D(256,(3,3),activation='relu',padding='same'))\n",
    "\n",
    "model.add(Flatten())\n",
    "model.add(Dense(4096,activation=\"relu\"))\n",
    "model.add(Dropout(rate=0.5))\n",
    "model.add(Dense(4096,activation=\"relu\"))\n",
    "model.add(Dropout(rate=0.5))\n",
    "model.add(Dense(len(lab),activation=\"softmax\"))\n",
    "\n",
    "model.compile(loss='sparse_categorical_crossentropy',optimizer=tf.optimizers.SGD(learning_rate=0.001),metrics=['accuracy'])\n",
    "epochs = 74\n",
    "history = model.fit(X_train, y_train_e, batch_size=32, epochs=epochs,\n",
    "validation_data=(X_val, y_val_e))"
   ]
  },
  {
   "cell_type": "code",
   "execution_count": 17,
   "metadata": {
    "pycharm": {
     "name": "#%%\n"
    }
   },
   "outputs": [
    {
     "name": "stdout",
     "output_type": "stream",
     "text": [
      "INFO:tensorflow:Assets written to: App/lib/models/AlexNet_Negatives\\assets\n"
     ]
    }
   ],
   "source": [
    "model.save(\"App/lib/models/AlexNet_Negatives\")"
   ]
  },
  {
   "cell_type": "code",
   "execution_count": 22,
   "metadata": {},
   "outputs": [
    {
     "name": "stdout",
     "output_type": "stream",
     "text": [
      "Accuracy: 0.8716265499635303\n"
     ]
    }
   ],
   "source": [
    "y_test_e = one_hot(lab,y_test)\n",
    "y_pred = np.argmax(model.predict(X_test),axis=1)\n",
    "from sklearn import metrics\n",
    "print(\"Accuracy:\",metrics.accuracy_score(y_test_e, y_pred))"
   ]
  }
 ],
 "metadata": {
  "kernelspec": {
   "display_name": "Python 3 (ipykernel)",
   "language": "python",
   "name": "python3"
  },
  "language_info": {
   "codemirror_mode": {
    "name": "ipython",
    "version": 3
   },
   "file_extension": ".py",
   "mimetype": "text/x-python",
   "name": "python",
   "nbconvert_exporter": "python",
   "pygments_lexer": "ipython3",
   "version": "3.7.11"
  }
 },
 "nbformat": 4,
 "nbformat_minor": 1
}