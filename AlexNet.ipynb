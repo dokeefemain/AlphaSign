{
 "cells": [
  {
   "cell_type": "markdown",
   "metadata": {
    "pycharm": {
     "name": "#%% md\n"
    }
   },
   "source": [
    "# AlexNet Implementation"
   ]
  },
  {
   "cell_type": "code",
   "execution_count": 1,
   "metadata": {
    "pycharm": {
     "name": "#%%\n"
    }
   },
   "outputs": [],
   "source": [
    "import pandas as pd\n",
    "import numpy as np\n",
    "from PIL import Image\n",
    "import cv2\n",
    "import tensorflow as tf"
   ]
  },
  {
   "cell_type": "code",
   "execution_count": 2,
   "metadata": {
    "pycharm": {
     "name": "#%%\n"
    },
    "scrolled": true
   },
   "outputs": [
    {
     "data": {
      "text/html": [
       "<div>\n",
       "<style scoped>\n",
       "    .dataframe tbody tr th:only-of-type {\n",
       "        vertical-align: middle;\n",
       "    }\n",
       "\n",
       "    .dataframe tbody tr th {\n",
       "        vertical-align: top;\n",
       "    }\n",
       "\n",
       "    .dataframe thead th {\n",
       "        text-align: right;\n",
       "    }\n",
       "</style>\n",
       "<table border=\"1\" class=\"dataframe\">\n",
       "  <thead>\n",
       "    <tr style=\"text-align: right;\">\n",
       "      <th></th>\n",
       "      <th>Filename</th>\n",
       "      <th>Annotation tag</th>\n",
       "      <th>Upper left corner X</th>\n",
       "      <th>Upper left corner Y</th>\n",
       "      <th>Lower right corner X</th>\n",
       "      <th>Lower right corner Y</th>\n",
       "      <th>Occluded,On another road</th>\n",
       "      <th>Origin file</th>\n",
       "      <th>Origin frame number</th>\n",
       "      <th>Origin track</th>\n",
       "      <th>Origin track frame number</th>\n",
       "    </tr>\n",
       "  </thead>\n",
       "  <tbody>\n",
       "    <tr>\n",
       "      <th>0</th>\n",
       "      <td>aiua120214-0/frameAnnotations-DataLog02142012_...</td>\n",
       "      <td>stop</td>\n",
       "      <td>862</td>\n",
       "      <td>104</td>\n",
       "      <td>916</td>\n",
       "      <td>158</td>\n",
       "      <td>0,0</td>\n",
       "      <td>aiua120214-0/DataLog02142012_external_camera.avi</td>\n",
       "      <td>2667</td>\n",
       "      <td>stop_1330545910.avi</td>\n",
       "      <td>2</td>\n",
       "    </tr>\n",
       "    <tr>\n",
       "      <th>1</th>\n",
       "      <td>aiua120214-0/frameAnnotations-DataLog02142012_...</td>\n",
       "      <td>speedLimitUrdbl</td>\n",
       "      <td>425</td>\n",
       "      <td>197</td>\n",
       "      <td>438</td>\n",
       "      <td>213</td>\n",
       "      <td>0,0</td>\n",
       "      <td>aiua120214-0/DataLog02142012_external_camera.avi</td>\n",
       "      <td>2667</td>\n",
       "      <td>stop_1330545910.avi</td>\n",
       "      <td>2</td>\n",
       "    </tr>\n",
       "    <tr>\n",
       "      <th>2</th>\n",
       "      <td>aiua120214-0/frameAnnotations-DataLog02142012_...</td>\n",
       "      <td>stop</td>\n",
       "      <td>922</td>\n",
       "      <td>88</td>\n",
       "      <td>982</td>\n",
       "      <td>148</td>\n",
       "      <td>1,0</td>\n",
       "      <td>aiua120214-0/DataLog02142012_external_camera.avi</td>\n",
       "      <td>2672</td>\n",
       "      <td>stop_1330545910.avi</td>\n",
       "      <td>7</td>\n",
       "    </tr>\n",
       "    <tr>\n",
       "      <th>3</th>\n",
       "      <td>aiua120214-0/frameAnnotations-DataLog02142012_...</td>\n",
       "      <td>speedLimit25</td>\n",
       "      <td>447</td>\n",
       "      <td>193</td>\n",
       "      <td>461</td>\n",
       "      <td>210</td>\n",
       "      <td>0,0</td>\n",
       "      <td>aiua120214-0/DataLog02142012_external_camera.avi</td>\n",
       "      <td>2672</td>\n",
       "      <td>stop_1330545910.avi</td>\n",
       "      <td>7</td>\n",
       "    </tr>\n",
       "    <tr>\n",
       "      <th>4</th>\n",
       "      <td>aiua120214-0/frameAnnotations-DataLog02142012_...</td>\n",
       "      <td>speedLimit25</td>\n",
       "      <td>469</td>\n",
       "      <td>189</td>\n",
       "      <td>483</td>\n",
       "      <td>207</td>\n",
       "      <td>0,0</td>\n",
       "      <td>aiua120214-0/DataLog02142012_external_camera.avi</td>\n",
       "      <td>2677</td>\n",
       "      <td>stop_1330545910.avi</td>\n",
       "      <td>12</td>\n",
       "    </tr>\n",
       "    <tr>\n",
       "      <th>...</th>\n",
       "      <td>...</td>\n",
       "      <td>...</td>\n",
       "      <td>...</td>\n",
       "      <td>...</td>\n",
       "      <td>...</td>\n",
       "      <td>...</td>\n",
       "      <td>...</td>\n",
       "      <td>...</td>\n",
       "      <td>...</td>\n",
       "      <td>...</td>\n",
       "      <td>...</td>\n",
       "    </tr>\n",
       "    <tr>\n",
       "      <th>7850</th>\n",
       "      <td>vid9/frameAnnotations-MVI_0121.MOV_annotations...</td>\n",
       "      <td>speedLimit35</td>\n",
       "      <td>41</td>\n",
       "      <td>209</td>\n",
       "      <td>65</td>\n",
       "      <td>239</td>\n",
       "      <td>0,0</td>\n",
       "      <td>vid9/MVI_0121.MOV</td>\n",
       "      <td>8813</td>\n",
       "      <td>speedLimit_1324866802.avi</td>\n",
       "      <td>22</td>\n",
       "    </tr>\n",
       "    <tr>\n",
       "      <th>7851</th>\n",
       "      <td>vid9/frameAnnotations-MVI_0121.MOV_annotations...</td>\n",
       "      <td>speedLimit35</td>\n",
       "      <td>526</td>\n",
       "      <td>213</td>\n",
       "      <td>543</td>\n",
       "      <td>233</td>\n",
       "      <td>0,0</td>\n",
       "      <td>vid9/MVI_0121.MOV</td>\n",
       "      <td>8875</td>\n",
       "      <td>speedLimit_1324866807.avi</td>\n",
       "      <td>2</td>\n",
       "    </tr>\n",
       "    <tr>\n",
       "      <th>7852</th>\n",
       "      <td>vid9/frameAnnotations-MVI_0121.MOV_annotations...</td>\n",
       "      <td>speedLimit35</td>\n",
       "      <td>546</td>\n",
       "      <td>208</td>\n",
       "      <td>564</td>\n",
       "      <td>230</td>\n",
       "      <td>0,0</td>\n",
       "      <td>vid9/MVI_0121.MOV</td>\n",
       "      <td>8880</td>\n",
       "      <td>speedLimit_1324866807.avi</td>\n",
       "      <td>7</td>\n",
       "    </tr>\n",
       "    <tr>\n",
       "      <th>7853</th>\n",
       "      <td>vid9/frameAnnotations-MVI_0121.MOV_annotations...</td>\n",
       "      <td>speedLimit35</td>\n",
       "      <td>573</td>\n",
       "      <td>204</td>\n",
       "      <td>592</td>\n",
       "      <td>228</td>\n",
       "      <td>0,0</td>\n",
       "      <td>vid9/MVI_0121.MOV</td>\n",
       "      <td>8885</td>\n",
       "      <td>speedLimit_1324866807.avi</td>\n",
       "      <td>12</td>\n",
       "    </tr>\n",
       "    <tr>\n",
       "      <th>7854</th>\n",
       "      <td>vid9/frameAnnotations-MVI_0121.MOV_annotations...</td>\n",
       "      <td>speedLimit35</td>\n",
       "      <td>604</td>\n",
       "      <td>196</td>\n",
       "      <td>628</td>\n",
       "      <td>223</td>\n",
       "      <td>0,0</td>\n",
       "      <td>vid9/MVI_0121.MOV</td>\n",
       "      <td>8890</td>\n",
       "      <td>speedLimit_1324866807.avi</td>\n",
       "      <td>17</td>\n",
       "    </tr>\n",
       "  </tbody>\n",
       "</table>\n",
       "<p>7855 rows × 11 columns</p>\n",
       "</div>"
      ],
      "text/plain": [
       "                                               Filename   Annotation tag  \\\n",
       "0     aiua120214-0/frameAnnotations-DataLog02142012_...             stop   \n",
       "1     aiua120214-0/frameAnnotations-DataLog02142012_...  speedLimitUrdbl   \n",
       "2     aiua120214-0/frameAnnotations-DataLog02142012_...             stop   \n",
       "3     aiua120214-0/frameAnnotations-DataLog02142012_...     speedLimit25   \n",
       "4     aiua120214-0/frameAnnotations-DataLog02142012_...     speedLimit25   \n",
       "...                                                 ...              ...   \n",
       "7850  vid9/frameAnnotations-MVI_0121.MOV_annotations...     speedLimit35   \n",
       "7851  vid9/frameAnnotations-MVI_0121.MOV_annotations...     speedLimit35   \n",
       "7852  vid9/frameAnnotations-MVI_0121.MOV_annotations...     speedLimit35   \n",
       "7853  vid9/frameAnnotations-MVI_0121.MOV_annotations...     speedLimit35   \n",
       "7854  vid9/frameAnnotations-MVI_0121.MOV_annotations...     speedLimit35   \n",
       "\n",
       "      Upper left corner X  Upper left corner Y  Lower right corner X  \\\n",
       "0                     862                  104                   916   \n",
       "1                     425                  197                   438   \n",
       "2                     922                   88                   982   \n",
       "3                     447                  193                   461   \n",
       "4                     469                  189                   483   \n",
       "...                   ...                  ...                   ...   \n",
       "7850                   41                  209                    65   \n",
       "7851                  526                  213                   543   \n",
       "7852                  546                  208                   564   \n",
       "7853                  573                  204                   592   \n",
       "7854                  604                  196                   628   \n",
       "\n",
       "      Lower right corner Y Occluded,On another road  \\\n",
       "0                      158                      0,0   \n",
       "1                      213                      0,0   \n",
       "2                      148                      1,0   \n",
       "3                      210                      0,0   \n",
       "4                      207                      0,0   \n",
       "...                    ...                      ...   \n",
       "7850                   239                      0,0   \n",
       "7851                   233                      0,0   \n",
       "7852                   230                      0,0   \n",
       "7853                   228                      0,0   \n",
       "7854                   223                      0,0   \n",
       "\n",
       "                                           Origin file  Origin frame number  \\\n",
       "0     aiua120214-0/DataLog02142012_external_camera.avi                 2667   \n",
       "1     aiua120214-0/DataLog02142012_external_camera.avi                 2667   \n",
       "2     aiua120214-0/DataLog02142012_external_camera.avi                 2672   \n",
       "3     aiua120214-0/DataLog02142012_external_camera.avi                 2672   \n",
       "4     aiua120214-0/DataLog02142012_external_camera.avi                 2677   \n",
       "...                                                ...                  ...   \n",
       "7850                                 vid9/MVI_0121.MOV                 8813   \n",
       "7851                                 vid9/MVI_0121.MOV                 8875   \n",
       "7852                                 vid9/MVI_0121.MOV                 8880   \n",
       "7853                                 vid9/MVI_0121.MOV                 8885   \n",
       "7854                                 vid9/MVI_0121.MOV                 8890   \n",
       "\n",
       "                   Origin track  Origin track frame number  \n",
       "0           stop_1330545910.avi                          2  \n",
       "1           stop_1330545910.avi                          2  \n",
       "2           stop_1330545910.avi                          7  \n",
       "3           stop_1330545910.avi                          7  \n",
       "4           stop_1330545910.avi                         12  \n",
       "...                         ...                        ...  \n",
       "7850  speedLimit_1324866802.avi                         22  \n",
       "7851  speedLimit_1324866807.avi                          2  \n",
       "7852  speedLimit_1324866807.avi                          7  \n",
       "7853  speedLimit_1324866807.avi                         12  \n",
       "7854  speedLimit_1324866807.avi                         17  \n",
       "\n",
       "[7855 rows x 11 columns]"
      ]
     },
     "execution_count": 2,
     "metadata": {},
     "output_type": "execute_result"
    }
   ],
   "source": [
    "all_ann = pd.read_csv(\"lib/datasets/LISA/allAnnotations.csv\", delimiter=';')\n",
    "all_ann"
   ]
  },
  {
   "cell_type": "code",
   "execution_count": 3,
   "metadata": {
    "pycharm": {
     "name": "#%%\n"
    }
   },
   "outputs": [],
   "source": [
    "#max image size\n",
    "# gt 260 400\n",
    "height = 227\n",
    "width = 227\n",
    "data = []\n",
    "labels = []\n",
    "path = \"lib/datasets/LISA/\"\n",
    "test = 0\n",
    "import random\n",
    "for i in range(len(all_ann[\"Filename\"])-1000):\n",
    "    file = all_ann[\"Filename\"][i]\n",
    "    sign = all_ann[\"Annotation tag\"][i]\n",
    "    image = Image.open(path+file)\n",
    "    image = image.resize((width,height))\n",
    "    image = np.asarray(image)\n",
    "    data.append(image)\n",
    "    labels.append(sign)"
   ]
  },
  {
   "cell_type": "code",
   "execution_count": 4,
   "metadata": {
    "pycharm": {
     "name": "#%%\n"
    }
   },
   "outputs": [],
   "source": [
    "signs = np.array(data)\n",
    "labels = np.array(labels)\n",
    "\n",
    "# Randomize order\n",
    "s = np.arange(signs.shape[0])\n",
    "np.random.seed(43)\n",
    "np.random.shuffle(s)\n",
    "signs = signs[s]\n",
    "labels = labels[s]"
   ]
  },
  {
   "cell_type": "code",
   "execution_count": 6,
   "metadata": {
    "pycharm": {
     "name": "#%%\n"
    }
   },
   "outputs": [],
   "source": [
    "from sklearn.model_selection import train_test_split\n",
    "from imblearn.over_sampling import  RandomOverSampler\n",
    "X_train, _, y_train, _ = train_test_split(signs, labels, test_size=0.2, random_state=1)\n",
    "del signs\n",
    "X_train, X_val, y_train, y_val = train_test_split(X_train, y_train, test_size=0.25, random_state=1)"
   ]
  },
  {
   "cell_type": "code",
   "execution_count": 7,
   "metadata": {
    "pycharm": {
     "name": "#%%\n"
    }
   },
   "outputs": [],
   "source": [
    "# Preprocess\n",
    "X_train = X_train.astype('float64')\n",
    "X_val = X_val.astype('float64')\n",
    "#X_test = X_test.astype('float64')\n",
    "\n",
    "# Normalize\n",
    "mean_image = np.mean(X_train, axis = 0)\n",
    "X_train -= mean_image\n",
    "X_val -= mean_image\n",
    "#X_test -= mean_image"
   ]
  },
  {
   "cell_type": "code",
   "execution_count": 5,
   "outputs": [],
   "source": [
    "def one_hot(lab, vals):\n",
    "    hot = []\n",
    "    for i in range(len(vals)):\n",
    "        hot.append(lab.tolist().index(vals[i]))\n",
    "    return hot"
   ],
   "metadata": {
    "collapsed": false,
    "pycharm": {
     "name": "#%%\n"
    }
   }
  },
  {
   "cell_type": "code",
   "execution_count": 8,
   "metadata": {
    "pycharm": {
     "name": "#%%\n"
    }
   },
   "outputs": [],
   "source": [
    "# Encode\n",
    "lab = np.unique(labels)\n",
    "from tensorflow.keras.utils import to_categorical\n",
    "y_train_e = np.array(one_hot(lab,y_train))\n",
    "#y_test_e = to_categorical(one_hot(lab,y_test),47)\n",
    "y_val_e = np.array(one_hot(lab,y_val))"
   ]
  },
  {
   "cell_type": "code",
   "execution_count": 10,
   "metadata": {
    "pycharm": {
     "name": "#%%\n"
    }
   },
   "outputs": [],
   "source": [
    "tmp = pd.DataFrame()\n",
    "tmp[\"Label\"] = lab\n",
    "tmp[\"Encoding\"] =list(range(len(lab)))\n",
    "tmp.to_csv(\"App/lib/datasets/key1.csv\",index=False)"
   ]
  },
  {
   "cell_type": "markdown",
   "metadata": {},
   "source": [
    "### AlexNet"
   ]
  },
  {
   "cell_type": "code",
   "execution_count": 11,
   "outputs": [],
   "source": [
    "from keras.models import Sequential\n",
    "from keras.layers import Conv2D, MaxPool2D, Dense, Flatten, Dropout, ZeroPadding2D, BatchNormalization"
   ],
   "metadata": {
    "collapsed": false,
    "pycharm": {
     "name": "#%%\n"
    }
   }
  },
  {
   "cell_type": "code",
   "execution_count": 12,
   "metadata": {
    "pycharm": {
     "name": "#%%\n"
    }
   },
   "outputs": [
    {
     "name": "stdout",
     "output_type": "stream",
     "text": [
      "Epoch 1/40\n",
      "129/129 [==============================] - 24s 127ms/step - loss: 2.9887 - accuracy: 0.2234 - val_loss: 2.7376 - val_accuracy: 0.2487\n",
      "Epoch 2/40\n",
      "129/129 [==============================] - 11s 88ms/step - loss: 2.6822 - accuracy: 0.2791 - val_loss: 2.5191 - val_accuracy: 0.3012\n",
      "Epoch 3/40\n",
      "129/129 [==============================] - 11s 88ms/step - loss: 2.5061 - accuracy: 0.3185 - val_loss: 2.3309 - val_accuracy: 0.3384\n",
      "Epoch 4/40\n",
      "129/129 [==============================] - 11s 88ms/step - loss: 2.3343 - accuracy: 0.3603 - val_loss: 2.1286 - val_accuracy: 0.3807\n",
      "Epoch 5/40\n",
      "129/129 [==============================] - 11s 88ms/step - loss: 2.1386 - accuracy: 0.4109 - val_loss: 1.9492 - val_accuracy: 0.4581\n",
      "Epoch 6/40\n",
      "129/129 [==============================] - 11s 88ms/step - loss: 1.9855 - accuracy: 0.4486 - val_loss: 1.7560 - val_accuracy: 0.5128\n",
      "Epoch 7/40\n",
      "129/129 [==============================] - 11s 88ms/step - loss: 1.8121 - accuracy: 0.4846 - val_loss: 1.5882 - val_accuracy: 0.5536\n",
      "Epoch 8/40\n",
      "129/129 [==============================] - 11s 88ms/step - loss: 1.6621 - accuracy: 0.5271 - val_loss: 1.4457 - val_accuracy: 0.5930\n",
      "Epoch 9/40\n",
      "129/129 [==============================] - 11s 88ms/step - loss: 1.4944 - accuracy: 0.5694 - val_loss: 1.3231 - val_accuracy: 0.6222\n",
      "Epoch 10/40\n",
      "129/129 [==============================] - 11s 88ms/step - loss: 1.3669 - accuracy: 0.6088 - val_loss: 1.1783 - val_accuracy: 0.6805\n",
      "Epoch 11/40\n",
      "129/129 [==============================] - 11s 88ms/step - loss: 1.2434 - accuracy: 0.6489 - val_loss: 1.0676 - val_accuracy: 0.6937\n",
      "Epoch 12/40\n",
      "129/129 [==============================] - 11s 88ms/step - loss: 1.1299 - accuracy: 0.6766 - val_loss: 0.9806 - val_accuracy: 0.7170\n",
      "Epoch 13/40\n",
      "129/129 [==============================] - 11s 88ms/step - loss: 1.0112 - accuracy: 0.7005 - val_loss: 0.9144 - val_accuracy: 0.7396\n",
      "Epoch 14/40\n",
      "129/129 [==============================] - 11s 88ms/step - loss: 0.9467 - accuracy: 0.7175 - val_loss: 0.8343 - val_accuracy: 0.7629\n",
      "Epoch 15/40\n",
      "129/129 [==============================] - 11s 88ms/step - loss: 0.8404 - accuracy: 0.7554 - val_loss: 0.7908 - val_accuracy: 0.7629\n",
      "Epoch 16/40\n",
      "129/129 [==============================] - 11s 88ms/step - loss: 0.7936 - accuracy: 0.7544 - val_loss: 0.7332 - val_accuracy: 0.7870\n",
      "Epoch 17/40\n",
      "129/129 [==============================] - 11s 88ms/step - loss: 0.7269 - accuracy: 0.7885 - val_loss: 0.6937 - val_accuracy: 0.7921\n",
      "Epoch 18/40\n",
      "129/129 [==============================] - 11s 88ms/step - loss: 0.6651 - accuracy: 0.8011 - val_loss: 0.6421 - val_accuracy: 0.8060\n",
      "Epoch 19/40\n",
      "129/129 [==============================] - 11s 88ms/step - loss: 0.5999 - accuracy: 0.8220 - val_loss: 0.6144 - val_accuracy: 0.8162\n",
      "Epoch 20/40\n",
      "129/129 [==============================] - 11s 88ms/step - loss: 0.5696 - accuracy: 0.8220 - val_loss: 0.5857 - val_accuracy: 0.8147\n",
      "Epoch 21/40\n",
      "129/129 [==============================] - 11s 88ms/step - loss: 0.5311 - accuracy: 0.8393 - val_loss: 0.5561 - val_accuracy: 0.8213\n",
      "Epoch 22/40\n",
      "129/129 [==============================] - 11s 88ms/step - loss: 0.5028 - accuracy: 0.8463 - val_loss: 0.5390 - val_accuracy: 0.8257\n",
      "Epoch 23/40\n",
      "129/129 [==============================] - 11s 88ms/step - loss: 0.4780 - accuracy: 0.8531 - val_loss: 0.5140 - val_accuracy: 0.8337\n",
      "Epoch 24/40\n",
      "129/129 [==============================] - 11s 88ms/step - loss: 0.4406 - accuracy: 0.8646 - val_loss: 0.5040 - val_accuracy: 0.8301\n",
      "Epoch 25/40\n",
      "129/129 [==============================] - 11s 88ms/step - loss: 0.4267 - accuracy: 0.8612 - val_loss: 0.4933 - val_accuracy: 0.8315\n",
      "Epoch 26/40\n",
      "129/129 [==============================] - 11s 88ms/step - loss: 0.4057 - accuracy: 0.8733 - val_loss: 0.4589 - val_accuracy: 0.8410\n",
      "Epoch 27/40\n",
      "129/129 [==============================] - 11s 88ms/step - loss: 0.3796 - accuracy: 0.8806 - val_loss: 0.4829 - val_accuracy: 0.8286\n",
      "Epoch 28/40\n",
      "129/129 [==============================] - 11s 88ms/step - loss: 0.3701 - accuracy: 0.8831 - val_loss: 0.4641 - val_accuracy: 0.8432\n",
      "Epoch 29/40\n",
      "129/129 [==============================] - 11s 88ms/step - loss: 0.3569 - accuracy: 0.8823 - val_loss: 0.4593 - val_accuracy: 0.8410\n",
      "Epoch 30/40\n",
      "129/129 [==============================] - 11s 88ms/step - loss: 0.3537 - accuracy: 0.8835 - val_loss: 0.4607 - val_accuracy: 0.8432\n",
      "Epoch 31/40\n",
      "129/129 [==============================] - 11s 88ms/step - loss: 0.3361 - accuracy: 0.8950 - val_loss: 0.4465 - val_accuracy: 0.8432\n",
      "Epoch 32/40\n",
      "129/129 [==============================] - 11s 88ms/step - loss: 0.3099 - accuracy: 0.8933 - val_loss: 0.4443 - val_accuracy: 0.8373\n",
      "Epoch 33/40\n",
      "129/129 [==============================] - 11s 88ms/step - loss: 0.3018 - accuracy: 0.8989 - val_loss: 0.4527 - val_accuracy: 0.8359\n",
      "Epoch 34/40\n",
      "129/129 [==============================] - 11s 88ms/step - loss: 0.2910 - accuracy: 0.9037 - val_loss: 0.4432 - val_accuracy: 0.8366\n",
      "Epoch 35/40\n",
      "129/129 [==============================] - 11s 88ms/step - loss: 0.2751 - accuracy: 0.9086 - val_loss: 0.4756 - val_accuracy: 0.8359\n",
      "Epoch 36/40\n",
      "129/129 [==============================] - 11s 88ms/step - loss: 0.2925 - accuracy: 0.9013 - val_loss: 0.4357 - val_accuracy: 0.8425\n",
      "Epoch 37/40\n",
      "129/129 [==============================] - 11s 88ms/step - loss: 0.2782 - accuracy: 0.9064 - val_loss: 0.4668 - val_accuracy: 0.8425\n",
      "Epoch 38/40\n",
      "129/129 [==============================] - 11s 88ms/step - loss: 0.2643 - accuracy: 0.9091 - val_loss: 0.4616 - val_accuracy: 0.8410\n",
      "Epoch 39/40\n",
      "129/129 [==============================] - 11s 88ms/step - loss: 0.2613 - accuracy: 0.9103 - val_loss: 0.4525 - val_accuracy: 0.8454\n",
      "Epoch 40/40\n",
      "129/129 [==============================] - 11s 88ms/step - loss: 0.2642 - accuracy: 0.9125 - val_loss: 0.4551 - val_accuracy: 0.8468\n"
     ]
    }
   ],
   "source": [
    "model=Sequential()\n",
    "\n",
    "model.add(Conv2D(96,(11,11),strides=4,activation='relu',input_shape=X_train.shape[1:],padding='valid'))\n",
    "model.add(MaxPool2D((3,3),strides=2))\n",
    "model.add(BatchNormalization())\n",
    "\n",
    "model.add(ZeroPadding2D(padding=2))\n",
    "model.add(Conv2D(256,(5,5),activation='relu',padding='same'))\n",
    "model.add(MaxPool2D((3,3), strides=2))\n",
    "model.add(BatchNormalization())\n",
    "\n",
    "model.add(ZeroPadding2D(padding=1))\n",
    "model.add(Conv2D(384,(3,3),activation='relu',padding='same'))\n",
    "\n",
    "model.add(ZeroPadding2D(padding=1))\n",
    "model.add(Conv2D(384,(3,3),activation='relu',padding='same'))\n",
    "\n",
    "model.add(ZeroPadding2D(padding=1))\n",
    "model.add(Conv2D(256,(3,3),activation='relu',padding='same'))\n",
    "\n",
    "model.add(Flatten())\n",
    "model.add(Dense(4096,activation=\"relu\"))\n",
    "model.add(Dropout(rate=0.5))\n",
    "model.add(Dense(4096,activation=\"relu\"))\n",
    "model.add(Dropout(rate=0.5))\n",
    "model.add(Dense(len(lab),activation=\"softmax\"))\n",
    "\n",
    "model.compile(loss='sparse_categorical_crossentropy',optimizer=tf.optimizers.SGD(learning_rate=0.001),metrics=['accuracy'])\n",
    "epochs = 40\n",
    "history = model.fit(X_train, y_train_e, batch_size=32, epochs=epochs,\n",
    "validation_data=(X_val, y_val_e))"
   ]
  },
  {
   "cell_type": "code",
   "execution_count": 14,
   "metadata": {
    "pycharm": {
     "name": "#%%\n"
    }
   },
   "outputs": [
    {
     "name": "stdout",
     "output_type": "stream",
     "text": [
      "INFO:tensorflow:Assets written to: App/lib/models/AlexNet\\assets\n"
     ]
    }
   ],
   "source": [
    "model.save(\"App/lib/models/AlexNet\")"
   ]
  }
 ],
 "metadata": {
  "kernelspec": {
   "display_name": "Python 3 (ipykernel)",
   "language": "python",
   "name": "python3"
  },
  "language_info": {
   "codemirror_mode": {
    "name": "ipython",
    "version": 3
   },
   "file_extension": ".py",
   "mimetype": "text/x-python",
   "name": "python",
   "nbconvert_exporter": "python",
   "pygments_lexer": "ipython3",
   "version": "3.7.11"
  }
 },
 "nbformat": 4,
 "nbformat_minor": 1
}