{
 "cells": [
  {
   "cell_type": "markdown",
   "source": [
    "# AlexNet to predict Bounding Boxes\n",
    "The Architecture of the model is basically alexnet but we removed the FC layers at the end and added layers that are more useful for predicting BB's"
   ],
   "metadata": {
    "collapsed": false,
    "pycharm": {
     "name": "#%% md\n"
    }
   }
  },
  {
   "cell_type": "code",
   "execution_count": 1,
   "outputs": [],
   "source": [
    "import pandas as pd\n",
    "import numpy as np\n",
    "from PIL import Image\n",
    "import cv2\n",
    "import tensorflow as tf\n",
    "from lib.Plot import plot\n",
    "import matplotlib.pyplot as plt"
   ],
   "metadata": {
    "collapsed": false,
    "pycharm": {
     "name": "#%%\n"
    }
   }
  },
  {
   "cell_type": "code",
   "execution_count": 2,
   "id": "82f85702",
   "metadata": {},
   "outputs": [],
   "source": [
    "X_train = np.load(\"lib/datasets/train_signs3k.npy\")\n",
    "#X_test = np.load(\"lib/datasets/test_signs.npy\")\n",
    "X_val = np.load(\"lib/datasets/val_signs3k.npy\")\n",
    "#y_train = np.load(\"lib/datasets/train_labels_e3k.npy\")\n",
    "#y_test = np.load(\"lib/datasets/test_labels_e.npy\")\n",
    "#y_val = np.load(\"lib/datasets/val_labels_e3k.npy\")\n",
    "z_train = np.load(\"lib/datasets/train_bboxes3k.npy\")\n",
    "#z_test = np.load(\"lib/datasets/test_bboxes.npy\")\n",
    "z_val = np.load(\"lib/datasets/val_bboxes3k.npy\")"
   ]
  },
  {
   "cell_type": "code",
   "execution_count": 3,
   "id": "180b4955",
   "metadata": {},
   "outputs": [],
   "source": [
    "from keras.models import Sequential, Model\n",
    "from keras.layers import Conv2D, MaxPool2D, Dense, Flatten, Dropout, ZeroPadding2D, BatchNormalization, Input, InputLayer"
   ]
  },
  {
   "cell_type": "code",
   "execution_count": 4,
   "id": "6a1ed5de",
   "metadata": {},
   "outputs": [
    {
     "name": "stdout",
     "output_type": "stream",
     "text": [
      "Epoch 1/20\n",
      "161/161 [==============================] - 11s 33ms/step - loss: 0.0997 - accuracy: 0.7392 - val_loss: 0.1023 - val_accuracy: 0.7882 - lr: 0.0010\n",
      "Epoch 2/20\n",
      "161/161 [==============================] - 4s 24ms/step - loss: 0.0976 - accuracy: 0.7444 - val_loss: 0.0993 - val_accuracy: 0.7882 - lr: 0.0010\n",
      "Epoch 3/20\n",
      "161/161 [==============================] - 4s 25ms/step - loss: 0.0975 - accuracy: 0.7574 - val_loss: 0.0988 - val_accuracy: 0.7777 - lr: 0.0010\n",
      "Epoch 4/20\n",
      "161/161 [==============================] - 4s 24ms/step - loss: 0.0974 - accuracy: 0.7635 - val_loss: 0.0983 - val_accuracy: 0.7777 - lr: 0.0010\n",
      "Epoch 5/20\n",
      "161/161 [==============================] - 4s 24ms/step - loss: 0.0974 - accuracy: 0.7674 - val_loss: 0.0981 - val_accuracy: 0.7847 - lr: 0.0010\n",
      "Epoch 6/20\n",
      "159/161 [============================>.] - ETA: 0s - loss: 0.0973 - accuracy: 0.7706\n",
      "Epoch 6: ReduceLROnPlateau reducing learning rate to 0.00010000000474974513.\n",
      "161/161 [==============================] - 4s 25ms/step - loss: 0.0973 - accuracy: 0.7709 - val_loss: 0.0980 - val_accuracy: 0.7789 - lr: 0.0010\n",
      "Epoch 7/20\n",
      "161/161 [==============================] - 4s 25ms/step - loss: 0.0972 - accuracy: 0.7672 - val_loss: 0.0980 - val_accuracy: 0.7754 - lr: 1.0000e-04\n",
      "Epoch 8/20\n",
      "161/161 [==============================] - 4s 25ms/step - loss: 0.0972 - accuracy: 0.7695 - val_loss: 0.0980 - val_accuracy: 0.7777 - lr: 1.0000e-04\n",
      "Epoch 9/20\n",
      "161/161 [==============================] - 4s 24ms/step - loss: 0.0972 - accuracy: 0.7689 - val_loss: 0.0980 - val_accuracy: 0.7783 - lr: 1.0000e-04\n",
      "Epoch 10/20\n",
      "161/161 [==============================] - 4s 24ms/step - loss: 0.0971 - accuracy: 0.7703 - val_loss: 0.0980 - val_accuracy: 0.7806 - lr: 1.0000e-04\n",
      "Epoch 11/20\n",
      "161/161 [==============================] - 4s 24ms/step - loss: 0.0971 - accuracy: 0.7705 - val_loss: 0.0980 - val_accuracy: 0.7789 - lr: 1.0000e-04\n",
      "Epoch 12/20\n",
      "160/161 [============================>.] - ETA: 0s - loss: 0.0972 - accuracy: 0.7701\n",
      "Epoch 12: ReduceLROnPlateau reducing learning rate to 1.0000000474974514e-05.\n",
      "161/161 [==============================] - 4s 24ms/step - loss: 0.0971 - accuracy: 0.7703 - val_loss: 0.0980 - val_accuracy: 0.7806 - lr: 1.0000e-04\n",
      "Epoch 13/20\n",
      "161/161 [==============================] - 4s 24ms/step - loss: 0.0971 - accuracy: 0.7714 - val_loss: 0.0980 - val_accuracy: 0.7806 - lr: 1.0000e-05\n",
      "Epoch 14/20\n",
      "161/161 [==============================] - 4s 24ms/step - loss: 0.0971 - accuracy: 0.7714 - val_loss: 0.0980 - val_accuracy: 0.7812 - lr: 1.0000e-05\n",
      "Epoch 15/20\n",
      "161/161 [==============================] - 4s 24ms/step - loss: 0.0971 - accuracy: 0.7709 - val_loss: 0.0980 - val_accuracy: 0.7795 - lr: 1.0000e-05\n",
      "Epoch 16/20\n",
      "161/161 [==============================] - 4s 24ms/step - loss: 0.0971 - accuracy: 0.7709 - val_loss: 0.0980 - val_accuracy: 0.7806 - lr: 1.0000e-05\n",
      "Epoch 17/20\n",
      "161/161 [==============================] - 4s 24ms/step - loss: 0.0971 - accuracy: 0.7693 - val_loss: 0.0980 - val_accuracy: 0.7800 - lr: 1.0000e-05\n",
      "Epoch 18/20\n",
      "160/161 [============================>.] - ETA: 0s - loss: 0.0971 - accuracy: 0.7711\n",
      "Epoch 18: ReduceLROnPlateau reducing learning rate to 1.0000000656873453e-06.\n",
      "161/161 [==============================] - 4s 24ms/step - loss: 0.0971 - accuracy: 0.7711 - val_loss: 0.0980 - val_accuracy: 0.7795 - lr: 1.0000e-05\n",
      "Epoch 19/20\n",
      "161/161 [==============================] - 4s 24ms/step - loss: 0.0971 - accuracy: 0.7707 - val_loss: 0.0980 - val_accuracy: 0.7795 - lr: 1.0000e-06\n",
      "Epoch 20/20\n",
      "161/161 [==============================] - 4s 24ms/step - loss: 0.0971 - accuracy: 0.7701 - val_loss: 0.0980 - val_accuracy: 0.7795 - lr: 1.0000e-06\n"
     ]
    }
   ],
   "source": [
    "alex_in = Input(shape=X_train.shape[1:])\n",
    "alex = Conv2D(96,(11,11),strides=4,activation='relu',padding='valid')(alex_in)\n",
    "alex = MaxPool2D((3,3),strides=2)(alex)\n",
    "alex = BatchNormalization()(alex)\n",
    "\n",
    "alex = ZeroPadding2D(padding=2)(alex)\n",
    "alex = Conv2D(256,(5,5),activation='relu',padding='same')(alex)\n",
    "alex = MaxPool2D((3,3), strides=2)(alex)\n",
    "alex = BatchNormalization()(alex)\n",
    "\n",
    "alex = ZeroPadding2D(padding=1)(alex)\n",
    "alex = Conv2D(384,(3,3),activation='relu',padding='same')(alex)\n",
    "\n",
    "alex = ZeroPadding2D(padding=1)(alex)\n",
    "alex = Conv2D(384,(3,3),activation='relu',padding='same')(alex)\n",
    "\n",
    "alex = ZeroPadding2D(padding=1)(alex)\n",
    "alex = Conv2D(256,(3,3),activation='relu',padding='same')(alex)\n",
    "\n",
    "alex = Flatten()(alex)\n",
    "alex = Dense(128,activation=\"relu\")(alex)\n",
    "#alex = Dropout(rate=0.5)(alex)\n",
    "alex = Dense(64,activation=\"relu\")(alex)\n",
    "alex = Dense(32,activation=\"relu\")(alex)\n",
    "# alex = Dropout(rate=0.5)(alex)\n",
    "alex_out = Dense(4,activation=\"softmax\",name=\"alex_b\")(alex)\n",
    "\n",
    "sgd = tf.keras.optimizers.SGD(learning_rate=0.001, momentum=0.9)\n",
    "callback = tf.keras.callbacks.ReduceLROnPlateau(\n",
    "    monitor='val_accuracy', factor=0.1, patience=5, verbose=1,\n",
    "    mode='max', min_delta=0.0001, cooldown=2, min_lr=0)\n",
    "alex_b = Model(inputs = alex_in, outputs = alex_out)\n",
    "alex_b.compile(loss='mean_squared_error',optimizer=sgd,metrics=['accuracy'])\n",
    "epochs = 20\n",
    "history = alex_b.fit(X_train, z_train, batch_size = 32, epochs= epochs, validation_data=(X_val,z_val),callbacks=[callback])"
   ]
  },
  {
   "cell_type": "code",
   "execution_count": 5,
   "id": "dd2aea57",
   "metadata": {},
   "outputs": [
    {
     "name": "stdout",
     "output_type": "stream",
     "text": [
      "INFO:tensorflow:Assets written to: App/lib/models/alex_bb\\assets\n"
     ]
    }
   ],
   "source": [
    "alex_b.save(\"App/lib/models/alex_bb\")"
   ]
  },
  {
   "cell_type": "code",
   "execution_count": 4,
   "id": "ade1d0cf",
   "metadata": {},
   "outputs": [],
   "source": [
    "alex_b = tf.keras.models.load_model('App/lib/models/alex_bb')"
   ]
  },
  {
   "cell_type": "code",
   "execution_count": 5,
   "id": "3771c898",
   "metadata": {},
   "outputs": [],
   "source": [
    "X_train = alex_b.predict(X_train)"
   ]
  },
  {
   "cell_type": "code",
   "execution_count": 6,
   "id": "e07c7c26",
   "metadata": {},
   "outputs": [],
   "source": [
    "np.save(\"lib/datasets/X_train1.npy\", X_train)"
   ]
  },
  {
   "cell_type": "code",
   "execution_count": null,
   "id": "26f12323",
   "metadata": {},
   "outputs": [],
   "source": [
    "bouns = np.load(\"lib/datasets/train_signs3k.npy\")"
   ]
  },
  {
   "cell_type": "code",
   "execution_count": 13,
   "id": "ff1b29af",
   "metadata": {},
   "outputs": [
    {
     "name": "stdout",
     "output_type": "stream",
     "text": [
      "[4, 1, 3] [2]\n"
     ]
    }
   ],
   "source": [
    "tmp = [1,2,3,4]\n",
    "tmp1 = [1,2,3,4]\n",
    "from sklearn.model_selection import train_test_split\n",
    "train_name, test_name = train_test_split(tmp, test_size=0.25, random_state=42)\n",
    "print(train_name,test_name)"
   ]
  }
 ],
 "metadata": {
  "kernelspec": {
   "display_name": "Python 3 (ipykernel)",
   "language": "python",
   "name": "python3"
  },
  "language_info": {
   "codemirror_mode": {
    "name": "ipython",
    "version": 3
   },
   "file_extension": ".py",
   "mimetype": "text/x-python",
   "name": "python",
   "nbconvert_exporter": "python",
   "pygments_lexer": "ipython3",
   "version": "3.7.11"
  }
 },
 "nbformat": 4,
 "nbformat_minor": 5
}