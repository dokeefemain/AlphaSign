{
 "cells": [
  {
   "cell_type": "markdown",
   "metadata": {
    "collapsed": true,
    "pycharm": {
     "name": "#%% md\n"
    }
   },
   "source": [
    "# Data Prep"
   ]
  },
  {
   "cell_type": "code",
   "execution_count": 1,
   "metadata": {
    "pycharm": {
     "name": "#%%\n"
    }
   },
   "outputs": [],
   "source": [
    "import pandas as pd\n",
    "import numpy as np\n",
    "from PIL import Image\n",
    "import cv2\n",
    "import tensorflow as tf"
   ]
  },
  {
   "cell_type": "code",
   "execution_count": 2,
   "metadata": {
    "pycharm": {
     "name": "#%%\n"
    }
   },
   "outputs": [
    {
     "data": {
      "text/plain": "                                               Filename   Annotation tag  \\\n0     aiua120214-0/frameAnnotations-DataLog02142012_...             stop   \n1     aiua120214-0/frameAnnotations-DataLog02142012_...  speedLimitUrdbl   \n2     aiua120214-0/frameAnnotations-DataLog02142012_...             stop   \n3     aiua120214-0/frameAnnotations-DataLog02142012_...     speedLimit25   \n4     aiua120214-0/frameAnnotations-DataLog02142012_...     speedLimit25   \n...                                                 ...              ...   \n7850  vid9/frameAnnotations-MVI_0121.MOV_annotations...     speedLimit35   \n7851  vid9/frameAnnotations-MVI_0121.MOV_annotations...     speedLimit35   \n7852  vid9/frameAnnotations-MVI_0121.MOV_annotations...     speedLimit35   \n7853  vid9/frameAnnotations-MVI_0121.MOV_annotations...     speedLimit35   \n7854  vid9/frameAnnotations-MVI_0121.MOV_annotations...     speedLimit35   \n\n      Upper left corner X  Upper left corner Y  Lower right corner X  \\\n0                     862                  104                   916   \n1                     425                  197                   438   \n2                     922                   88                   982   \n3                     447                  193                   461   \n4                     469                  189                   483   \n...                   ...                  ...                   ...   \n7850                   41                  209                    65   \n7851                  526                  213                   543   \n7852                  546                  208                   564   \n7853                  573                  204                   592   \n7854                  604                  196                   628   \n\n      Lower right corner Y Occluded,On another road  \\\n0                      158                      0,0   \n1                      213                      0,0   \n2                      148                      1,0   \n3                      210                      0,0   \n4                      207                      0,0   \n...                    ...                      ...   \n7850                   239                      0,0   \n7851                   233                      0,0   \n7852                   230                      0,0   \n7853                   228                      0,0   \n7854                   223                      0,0   \n\n                                           Origin file  Origin frame number  \\\n0     aiua120214-0/DataLog02142012_external_camera.avi                 2667   \n1     aiua120214-0/DataLog02142012_external_camera.avi                 2667   \n2     aiua120214-0/DataLog02142012_external_camera.avi                 2672   \n3     aiua120214-0/DataLog02142012_external_camera.avi                 2672   \n4     aiua120214-0/DataLog02142012_external_camera.avi                 2677   \n...                                                ...                  ...   \n7850                                 vid9/MVI_0121.MOV                 8813   \n7851                                 vid9/MVI_0121.MOV                 8875   \n7852                                 vid9/MVI_0121.MOV                 8880   \n7853                                 vid9/MVI_0121.MOV                 8885   \n7854                                 vid9/MVI_0121.MOV                 8890   \n\n                   Origin track  Origin track frame number  \n0           stop_1330545910.avi                          2  \n1           stop_1330545910.avi                          2  \n2           stop_1330545910.avi                          7  \n3           stop_1330545910.avi                          7  \n4           stop_1330545910.avi                         12  \n...                         ...                        ...  \n7850  speedLimit_1324866802.avi                         22  \n7851  speedLimit_1324866807.avi                          2  \n7852  speedLimit_1324866807.avi                          7  \n7853  speedLimit_1324866807.avi                         12  \n7854  speedLimit_1324866807.avi                         17  \n\n[7855 rows x 11 columns]",
      "text/html": "<div>\n<style scoped>\n    .dataframe tbody tr th:only-of-type {\n        vertical-align: middle;\n    }\n\n    .dataframe tbody tr th {\n        vertical-align: top;\n    }\n\n    .dataframe thead th {\n        text-align: right;\n    }\n</style>\n<table border=\"1\" class=\"dataframe\">\n  <thead>\n    <tr style=\"text-align: right;\">\n      <th></th>\n      <th>Filename</th>\n      <th>Annotation tag</th>\n      <th>Upper left corner X</th>\n      <th>Upper left corner Y</th>\n      <th>Lower right corner X</th>\n      <th>Lower right corner Y</th>\n      <th>Occluded,On another road</th>\n      <th>Origin file</th>\n      <th>Origin frame number</th>\n      <th>Origin track</th>\n      <th>Origin track frame number</th>\n    </tr>\n  </thead>\n  <tbody>\n    <tr>\n      <th>0</th>\n      <td>aiua120214-0/frameAnnotations-DataLog02142012_...</td>\n      <td>stop</td>\n      <td>862</td>\n      <td>104</td>\n      <td>916</td>\n      <td>158</td>\n      <td>0,0</td>\n      <td>aiua120214-0/DataLog02142012_external_camera.avi</td>\n      <td>2667</td>\n      <td>stop_1330545910.avi</td>\n      <td>2</td>\n    </tr>\n    <tr>\n      <th>1</th>\n      <td>aiua120214-0/frameAnnotations-DataLog02142012_...</td>\n      <td>speedLimitUrdbl</td>\n      <td>425</td>\n      <td>197</td>\n      <td>438</td>\n      <td>213</td>\n      <td>0,0</td>\n      <td>aiua120214-0/DataLog02142012_external_camera.avi</td>\n      <td>2667</td>\n      <td>stop_1330545910.avi</td>\n      <td>2</td>\n    </tr>\n    <tr>\n      <th>2</th>\n      <td>aiua120214-0/frameAnnotations-DataLog02142012_...</td>\n      <td>stop</td>\n      <td>922</td>\n      <td>88</td>\n      <td>982</td>\n      <td>148</td>\n      <td>1,0</td>\n      <td>aiua120214-0/DataLog02142012_external_camera.avi</td>\n      <td>2672</td>\n      <td>stop_1330545910.avi</td>\n      <td>7</td>\n    </tr>\n    <tr>\n      <th>3</th>\n      <td>aiua120214-0/frameAnnotations-DataLog02142012_...</td>\n      <td>speedLimit25</td>\n      <td>447</td>\n      <td>193</td>\n      <td>461</td>\n      <td>210</td>\n      <td>0,0</td>\n      <td>aiua120214-0/DataLog02142012_external_camera.avi</td>\n      <td>2672</td>\n      <td>stop_1330545910.avi</td>\n      <td>7</td>\n    </tr>\n    <tr>\n      <th>4</th>\n      <td>aiua120214-0/frameAnnotations-DataLog02142012_...</td>\n      <td>speedLimit25</td>\n      <td>469</td>\n      <td>189</td>\n      <td>483</td>\n      <td>207</td>\n      <td>0,0</td>\n      <td>aiua120214-0/DataLog02142012_external_camera.avi</td>\n      <td>2677</td>\n      <td>stop_1330545910.avi</td>\n      <td>12</td>\n    </tr>\n    <tr>\n      <th>...</th>\n      <td>...</td>\n      <td>...</td>\n      <td>...</td>\n      <td>...</td>\n      <td>...</td>\n      <td>...</td>\n      <td>...</td>\n      <td>...</td>\n      <td>...</td>\n      <td>...</td>\n      <td>...</td>\n    </tr>\n    <tr>\n      <th>7850</th>\n      <td>vid9/frameAnnotations-MVI_0121.MOV_annotations...</td>\n      <td>speedLimit35</td>\n      <td>41</td>\n      <td>209</td>\n      <td>65</td>\n      <td>239</td>\n      <td>0,0</td>\n      <td>vid9/MVI_0121.MOV</td>\n      <td>8813</td>\n      <td>speedLimit_1324866802.avi</td>\n      <td>22</td>\n    </tr>\n    <tr>\n      <th>7851</th>\n      <td>vid9/frameAnnotations-MVI_0121.MOV_annotations...</td>\n      <td>speedLimit35</td>\n      <td>526</td>\n      <td>213</td>\n      <td>543</td>\n      <td>233</td>\n      <td>0,0</td>\n      <td>vid9/MVI_0121.MOV</td>\n      <td>8875</td>\n      <td>speedLimit_1324866807.avi</td>\n      <td>2</td>\n    </tr>\n    <tr>\n      <th>7852</th>\n      <td>vid9/frameAnnotations-MVI_0121.MOV_annotations...</td>\n      <td>speedLimit35</td>\n      <td>546</td>\n      <td>208</td>\n      <td>564</td>\n      <td>230</td>\n      <td>0,0</td>\n      <td>vid9/MVI_0121.MOV</td>\n      <td>8880</td>\n      <td>speedLimit_1324866807.avi</td>\n      <td>7</td>\n    </tr>\n    <tr>\n      <th>7853</th>\n      <td>vid9/frameAnnotations-MVI_0121.MOV_annotations...</td>\n      <td>speedLimit35</td>\n      <td>573</td>\n      <td>204</td>\n      <td>592</td>\n      <td>228</td>\n      <td>0,0</td>\n      <td>vid9/MVI_0121.MOV</td>\n      <td>8885</td>\n      <td>speedLimit_1324866807.avi</td>\n      <td>12</td>\n    </tr>\n    <tr>\n      <th>7854</th>\n      <td>vid9/frameAnnotations-MVI_0121.MOV_annotations...</td>\n      <td>speedLimit35</td>\n      <td>604</td>\n      <td>196</td>\n      <td>628</td>\n      <td>223</td>\n      <td>0,0</td>\n      <td>vid9/MVI_0121.MOV</td>\n      <td>8890</td>\n      <td>speedLimit_1324866807.avi</td>\n      <td>17</td>\n    </tr>\n  </tbody>\n</table>\n<p>7855 rows × 11 columns</p>\n</div>"
     },
     "execution_count": 2,
     "metadata": {},
     "output_type": "execute_result"
    }
   ],
   "source": [
    "all_ann = pd.read_csv(\"lib/datasets/LISA/allAnnotations.csv\", delimiter=';')\n",
    "all_ann"
   ]
  },
  {
   "cell_type": "code",
   "execution_count": 3,
   "metadata": {
    "pycharm": {
     "name": "#%%\n"
    }
   },
   "outputs": [],
   "source": [
    "#max image size\n",
    "height = 50\n",
    "width = 50\n",
    "data = []\n",
    "labels = []\n",
    "path = \"lib/datasets/LISA/\"\n",
    "test = 0\n",
    "for i in range(len(all_ann[\"Filename\"])):\n",
    "    file = all_ann[\"Filename\"][i]\n",
    "    sign = all_ann[\"Annotation tag\"][i]\n",
    "    image = Image.open(path+file)\n",
    "    image = image.resize((width,height))\n",
    "    image = np.asarray(image)\n",
    "    data.append(image)\n",
    "    labels.append(sign)\n",
    "\n",
    "\n",
    "signs = np.array(data)\n",
    "labels = np.array(labels)\n",
    "\n",
    "# Randomize order\n",
    "s = np.arange(signs.shape[0])\n",
    "np.random.seed(43)\n",
    "np.random.shuffle(s)\n",
    "signs = signs[s]\n",
    "labels = labels[s]"
   ]
  },
  {
   "cell_type": "code",
   "execution_count": 13,
   "metadata": {
    "pycharm": {
     "name": "#%%\n"
    }
   },
   "outputs": [],
   "source": [
    "def one_hot(lab, vals):\n",
    "    hot = []\n",
    "    for i in range(len(vals)):\n",
    "        # tmp = np.zeros(len(lab))\n",
    "        # tmp[np.where(lab == i)] = 1\n",
    "        hot.append(lab.tolist().index(vals[i]))\n",
    "        # hot[i] = np.where(lab == vals[i])\n",
    "        # hot.append(tmp)\n",
    "    return hot"
   ]
  },
  {
   "cell_type": "code",
   "execution_count": 4,
   "metadata": {
    "pycharm": {
     "name": "#%%\n"
    }
   },
   "outputs": [],
   "source": [
    "from sklearn.model_selection import train_test_split\n",
    "\n",
    "X_train, X_test, y_train, y_test = train_test_split(signs, labels, test_size=0.2, random_state=1)\n",
    "X_train, X_val, y_train, y_val = train_test_split(X_train, y_train, test_size=0.25, random_state=1)\n",
    "\n",
    "# Preprocess\n",
    "X_train = X_train.astype('float64')\n",
    "X_val = X_val.astype('float64')\n",
    "X_test = X_test.astype('float64')\n",
    "\n",
    "# Normalize\n",
    "mean_image = np.mean(X_train, axis = 0)\n",
    "X_train -= mean_image\n",
    "X_val -= mean_image\n",
    "X_test -= mean_image\n",
    "\n"
   ]
  },
  {
   "cell_type": "code",
   "execution_count": 15,
   "outputs": [],
   "source": [
    "# Encode\n",
    "lab = np.unique(labels)\n",
    "from tensorflow.keras.utils import to_categorical\n",
    "y_train_e = to_categorical(one_hot(lab,y_train),47)\n",
    "y_test_e = to_categorical(one_hot(lab,y_test),47)\n",
    "y_val_e = to_categorical(one_hot(lab,y_val),47)"
   ],
   "metadata": {
    "collapsed": false,
    "pycharm": {
     "name": "#%%\n"
    }
   }
  },
  {
   "cell_type": "markdown",
   "metadata": {
    "pycharm": {
     "name": "#%% md\n"
    }
   },
   "source": [
    "### Modeling"
   ]
  },
  {
   "cell_type": "code",
   "execution_count": 18,
   "outputs": [],
   "source": [
    "from keras.models import Sequential\n",
    "from keras.layers import Conv2D, MaxPool2D, Dense, Flatten, Dropout"
   ],
   "metadata": {
    "collapsed": false,
    "pycharm": {
     "name": "#%%\n"
    }
   }
  },
  {
   "cell_type": "code",
   "execution_count": 23,
   "metadata": {
    "pycharm": {
     "name": "#%%\n"
    }
   },
   "outputs": [
    {
     "name": "stdout",
     "output_type": "stream",
     "text": [
      "Epoch 1/20\n",
      "148/148 [==============================] - 2s 10ms/step - loss: 5.1184 - accuracy: 0.1859 - val_loss: 2.7530 - val_accuracy: 0.2775\n",
      "Epoch 2/20\n",
      "148/148 [==============================] - 1s 8ms/step - loss: 2.6005 - accuracy: 0.2864 - val_loss: 2.1630 - val_accuracy: 0.4360\n",
      "Epoch 3/20\n",
      "148/148 [==============================] - 1s 8ms/step - loss: 2.0355 - accuracy: 0.4210 - val_loss: 1.6479 - val_accuracy: 0.5773\n",
      "Epoch 4/20\n",
      "148/148 [==============================] - 1s 8ms/step - loss: 1.6110 - accuracy: 0.5309 - val_loss: 1.1958 - val_accuracy: 0.6773\n",
      "Epoch 5/20\n",
      "148/148 [==============================] - 1s 8ms/step - loss: 1.2786 - accuracy: 0.6230 - val_loss: 0.8699 - val_accuracy: 0.7530\n",
      "Epoch 6/20\n",
      "148/148 [==============================] - 1s 8ms/step - loss: 1.0480 - accuracy: 0.6870 - val_loss: 0.6953 - val_accuracy: 0.7995\n",
      "Epoch 7/20\n",
      "148/148 [==============================] - 1s 8ms/step - loss: 0.9033 - accuracy: 0.7210 - val_loss: 0.6856 - val_accuracy: 0.8052\n",
      "Epoch 8/20\n",
      "148/148 [==============================] - 1s 8ms/step - loss: 0.8306 - accuracy: 0.7511 - val_loss: 0.6109 - val_accuracy: 0.8192\n",
      "Epoch 9/20\n",
      "148/148 [==============================] - 1s 8ms/step - loss: 0.7434 - accuracy: 0.7753 - val_loss: 0.5428 - val_accuracy: 0.8294\n",
      "Epoch 10/20\n",
      "148/148 [==============================] - 1s 8ms/step - loss: 0.6849 - accuracy: 0.7849 - val_loss: 0.5771 - val_accuracy: 0.8186\n",
      "Epoch 11/20\n",
      "148/148 [==============================] - 1s 8ms/step - loss: 0.6169 - accuracy: 0.8078 - val_loss: 0.5089 - val_accuracy: 0.8377\n",
      "Epoch 12/20\n",
      "148/148 [==============================] - 1s 8ms/step - loss: 0.5698 - accuracy: 0.8203 - val_loss: 0.4884 - val_accuracy: 0.8536\n",
      "Epoch 13/20\n",
      "148/148 [==============================] - 1s 8ms/step - loss: 0.5577 - accuracy: 0.8211 - val_loss: 0.4977 - val_accuracy: 0.8504\n",
      "Epoch 14/20\n",
      "148/148 [==============================] - 1s 8ms/step - loss: 0.5052 - accuracy: 0.8366 - val_loss: 0.4890 - val_accuracy: 0.8536\n",
      "Epoch 15/20\n",
      "148/148 [==============================] - 1s 8ms/step - loss: 0.5116 - accuracy: 0.8320 - val_loss: 0.4765 - val_accuracy: 0.8536\n",
      "Epoch 16/20\n",
      "148/148 [==============================] - 1s 8ms/step - loss: 0.4818 - accuracy: 0.8385 - val_loss: 0.5025 - val_accuracy: 0.8383\n",
      "Epoch 17/20\n",
      "148/148 [==============================] - 1s 8ms/step - loss: 0.4732 - accuracy: 0.8366 - val_loss: 0.4450 - val_accuracy: 0.8549\n",
      "Epoch 18/20\n",
      "148/148 [==============================] - 1s 8ms/step - loss: 0.4444 - accuracy: 0.8540 - val_loss: 0.4483 - val_accuracy: 0.8504\n",
      "Epoch 19/20\n",
      "148/148 [==============================] - 1s 8ms/step - loss: 0.4177 - accuracy: 0.8523 - val_loss: 0.4456 - val_accuracy: 0.8504\n",
      "Epoch 20/20\n",
      "148/148 [==============================] - 1s 8ms/step - loss: 0.4158 - accuracy: 0.8587 - val_loss: 0.4269 - val_accuracy: 0.8517\n"
     ]
    }
   ],
   "source": [
    "model=Sequential()\n",
    "#adding convolution layer\n",
    "model.add(Conv2D(32,(5,5),activation='relu',input_shape=X_train.shape[1:]))\n",
    "\n",
    "model.add(Conv2D(filters=64, kernel_size=(3, 3), activation='relu'))\n",
    "model.add(MaxPool2D(pool_size=(2, 2)))\n",
    "model.add(Dropout(rate=0.25))\n",
    "model.add(Conv2D(filters=64, kernel_size=(3, 3), activation='relu'))\n",
    "model.add(MaxPool2D(pool_size=(2, 2)))\n",
    "model.add(Dropout(rate=0.25))\n",
    "model.add(Flatten())\n",
    "model.add(Dense(256, activation='relu'))\n",
    "model.add(Dropout(rate=0.5))\n",
    "\n",
    "model.add(Dense(47,activation='softmax'))\n",
    "#compiling the model\n",
    "model.compile(loss='categorical_crossentropy',optimizer='adam',metrics=['accuracy'])\n",
    "epochs = 20\n",
    "history = model.fit(X_train, y_train_e, batch_size=32, epochs=epochs,\n",
    "validation_data=(X_val, y_val_e))"
   ]
  },
  {
   "cell_type": "code",
   "execution_count": 24,
   "outputs": [
    {
     "data": {
      "text/plain": "<matplotlib.legend.Legend at 0x15d053f5d08>"
     },
     "execution_count": 24,
     "metadata": {},
     "output_type": "execute_result"
    },
    {
     "data": {
      "text/plain": "<Figure size 432x288 with 1 Axes>",
      "image/png": "[encoded data removed]"
     },
     "metadata": {
      "needs_background": "light"
     },
     "output_type": "display_data"
    },
    {
     "data": {
      "text/plain": "<Figure size 432x288 with 1 Axes>",
      "image/png": "[encoded data removed]"
     },
     "metadata": {
      "needs_background": "light"
     },
     "output_type": "display_data"
    }
   ],
   "source": [
    "import matplotlib.pyplot as plt\n",
    "\n",
    "plt.figure(0)\n",
    "plt.plot(history.history['accuracy'], label='training accuracy')\n",
    "plt.plot(history.history['val_accuracy'], label='val accuracy')\n",
    "plt.title('Accuracy')\n",
    "plt.xlabel('epochs')\n",
    "plt.ylabel('accuracy')\n",
    "plt.legend()\n",
    "\n",
    "plt.figure(1)\n",
    "plt.plot(history.history['loss'], label='training loss')\n",
    "plt.plot(history.history['val_loss'], label='val loss')\n",
    "plt.title('Loss')\n",
    "plt.xlabel('epochs')\n",
    "plt.ylabel('loss')\n",
    "plt.legend()"
   ],
   "metadata": {
    "collapsed": false,
    "pycharm": {
     "name": "#%%\n"
    }
   }
  }
 ],
 "metadata": {
  "kernelspec": {
   "display_name": "Python 3 (ipykernel)",
   "language": "python",
   "name": "python3"
  },
  "language_info": {
   "codemirror_mode": {
    "name": "ipython",
    "version": 3
   },
   "file_extension": ".py",
   "mimetype": "text/x-python",
   "name": "python",
   "nbconvert_exporter": "python",
   "pygments_lexer": "ipython3",
   "version": "3.7.11"
  }
 },
 "nbformat": 4,
 "nbformat_minor": 1
}