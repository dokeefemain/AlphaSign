{
 "cells": [
  {
   "cell_type": "markdown",
   "metadata": {
    "collapsed": true,
    "pycharm": {
     "name": "#%% md\n"
    }
   },
   "source": [
    "# Data Prep"
   ]
  },
  {
   "cell_type": "code",
   "execution_count": 1,
   "metadata": {
    "pycharm": {
     "name": "#%%\n"
    }
   },
   "outputs": [],
   "source": [
    "import pandas as pd\n",
    "import numpy as np\n",
    "from PIL import Image\n",
    "import cv2"
   ]
  },
  {
   "cell_type": "code",
   "execution_count": 2,
   "metadata": {
    "pycharm": {
     "name": "#%%\n"
    }
   },
   "outputs": [
    {
     "data": {
      "text/plain": "                                               Filename   Annotation tag  \\\n0     aiua120214-0/frameAnnotations-DataLog02142012_...             stop   \n1     aiua120214-0/frameAnnotations-DataLog02142012_...  speedLimitUrdbl   \n2     aiua120214-0/frameAnnotations-DataLog02142012_...             stop   \n3     aiua120214-0/frameAnnotations-DataLog02142012_...     speedLimit25   \n4     aiua120214-0/frameAnnotations-DataLog02142012_...     speedLimit25   \n...                                                 ...              ...   \n7850  vid9/frameAnnotations-MVI_0121.MOV_annotations...     speedLimit35   \n7851  vid9/frameAnnotations-MVI_0121.MOV_annotations...     speedLimit35   \n7852  vid9/frameAnnotations-MVI_0121.MOV_annotations...     speedLimit35   \n7853  vid9/frameAnnotations-MVI_0121.MOV_annotations...     speedLimit35   \n7854  vid9/frameAnnotations-MVI_0121.MOV_annotations...     speedLimit35   \n\n      Upper left corner X  Upper left corner Y  Lower right corner X  \\\n0                     862                  104                   916   \n1                     425                  197                   438   \n2                     922                   88                   982   \n3                     447                  193                   461   \n4                     469                  189                   483   \n...                   ...                  ...                   ...   \n7850                   41                  209                    65   \n7851                  526                  213                   543   \n7852                  546                  208                   564   \n7853                  573                  204                   592   \n7854                  604                  196                   628   \n\n      Lower right corner Y Occluded,On another road  \\\n0                      158                      0,0   \n1                      213                      0,0   \n2                      148                      1,0   \n3                      210                      0,0   \n4                      207                      0,0   \n...                    ...                      ...   \n7850                   239                      0,0   \n7851                   233                      0,0   \n7852                   230                      0,0   \n7853                   228                      0,0   \n7854                   223                      0,0   \n\n                                           Origin file  Origin frame number  \\\n0     aiua120214-0/DataLog02142012_external_camera.avi                 2667   \n1     aiua120214-0/DataLog02142012_external_camera.avi                 2667   \n2     aiua120214-0/DataLog02142012_external_camera.avi                 2672   \n3     aiua120214-0/DataLog02142012_external_camera.avi                 2672   \n4     aiua120214-0/DataLog02142012_external_camera.avi                 2677   \n...                                                ...                  ...   \n7850                                 vid9/MVI_0121.MOV                 8813   \n7851                                 vid9/MVI_0121.MOV                 8875   \n7852                                 vid9/MVI_0121.MOV                 8880   \n7853                                 vid9/MVI_0121.MOV                 8885   \n7854                                 vid9/MVI_0121.MOV                 8890   \n\n                   Origin track  Origin track frame number  \n0           stop_1330545910.avi                          2  \n1           stop_1330545910.avi                          2  \n2           stop_1330545910.avi                          7  \n3           stop_1330545910.avi                          7  \n4           stop_1330545910.avi                         12  \n...                         ...                        ...  \n7850  speedLimit_1324866802.avi                         22  \n7851  speedLimit_1324866807.avi                          2  \n7852  speedLimit_1324866807.avi                          7  \n7853  speedLimit_1324866807.avi                         12  \n7854  speedLimit_1324866807.avi                         17  \n\n[7855 rows x 11 columns]",
      "text/html": "<div>\n<style scoped>\n    .dataframe tbody tr th:only-of-type {\n        vertical-align: middle;\n    }\n\n    .dataframe tbody tr th {\n        vertical-align: top;\n    }\n\n    .dataframe thead th {\n        text-align: right;\n    }\n</style>\n<table border=\"1\" class=\"dataframe\">\n  <thead>\n    <tr style=\"text-align: right;\">\n      <th></th>\n      <th>Filename</th>\n      <th>Annotation tag</th>\n      <th>Upper left corner X</th>\n      <th>Upper left corner Y</th>\n      <th>Lower right corner X</th>\n      <th>Lower right corner Y</th>\n      <th>Occluded,On another road</th>\n      <th>Origin file</th>\n      <th>Origin frame number</th>\n      <th>Origin track</th>\n      <th>Origin track frame number</th>\n    </tr>\n  </thead>\n  <tbody>\n    <tr>\n      <th>0</th>\n      <td>aiua120214-0/frameAnnotations-DataLog02142012_...</td>\n      <td>stop</td>\n      <td>862</td>\n      <td>104</td>\n      <td>916</td>\n      <td>158</td>\n      <td>0,0</td>\n      <td>aiua120214-0/DataLog02142012_external_camera.avi</td>\n      <td>2667</td>\n      <td>stop_1330545910.avi</td>\n      <td>2</td>\n    </tr>\n    <tr>\n      <th>1</th>\n      <td>aiua120214-0/frameAnnotations-DataLog02142012_...</td>\n      <td>speedLimitUrdbl</td>\n      <td>425</td>\n      <td>197</td>\n      <td>438</td>\n      <td>213</td>\n      <td>0,0</td>\n      <td>aiua120214-0/DataLog02142012_external_camera.avi</td>\n      <td>2667</td>\n      <td>stop_1330545910.avi</td>\n      <td>2</td>\n    </tr>\n    <tr>\n      <th>2</th>\n      <td>aiua120214-0/frameAnnotations-DataLog02142012_...</td>\n      <td>stop</td>\n      <td>922</td>\n      <td>88</td>\n      <td>982</td>\n      <td>148</td>\n      <td>1,0</td>\n      <td>aiua120214-0/DataLog02142012_external_camera.avi</td>\n      <td>2672</td>\n      <td>stop_1330545910.avi</td>\n      <td>7</td>\n    </tr>\n    <tr>\n      <th>3</th>\n      <td>aiua120214-0/frameAnnotations-DataLog02142012_...</td>\n      <td>speedLimit25</td>\n      <td>447</td>\n      <td>193</td>\n      <td>461</td>\n      <td>210</td>\n      <td>0,0</td>\n      <td>aiua120214-0/DataLog02142012_external_camera.avi</td>\n      <td>2672</td>\n      <td>stop_1330545910.avi</td>\n      <td>7</td>\n    </tr>\n    <tr>\n      <th>4</th>\n      <td>aiua120214-0/frameAnnotations-DataLog02142012_...</td>\n      <td>speedLimit25</td>\n      <td>469</td>\n      <td>189</td>\n      <td>483</td>\n      <td>207</td>\n      <td>0,0</td>\n      <td>aiua120214-0/DataLog02142012_external_camera.avi</td>\n      <td>2677</td>\n      <td>stop_1330545910.avi</td>\n      <td>12</td>\n    </tr>\n    <tr>\n      <th>...</th>\n      <td>...</td>\n      <td>...</td>\n      <td>...</td>\n      <td>...</td>\n      <td>...</td>\n      <td>...</td>\n      <td>...</td>\n      <td>...</td>\n      <td>...</td>\n      <td>...</td>\n      <td>...</td>\n    </tr>\n    <tr>\n      <th>7850</th>\n      <td>vid9/frameAnnotations-MVI_0121.MOV_annotations...</td>\n      <td>speedLimit35</td>\n      <td>41</td>\n      <td>209</td>\n      <td>65</td>\n      <td>239</td>\n      <td>0,0</td>\n      <td>vid9/MVI_0121.MOV</td>\n      <td>8813</td>\n      <td>speedLimit_1324866802.avi</td>\n      <td>22</td>\n    </tr>\n    <tr>\n      <th>7851</th>\n      <td>vid9/frameAnnotations-MVI_0121.MOV_annotations...</td>\n      <td>speedLimit35</td>\n      <td>526</td>\n      <td>213</td>\n      <td>543</td>\n      <td>233</td>\n      <td>0,0</td>\n      <td>vid9/MVI_0121.MOV</td>\n      <td>8875</td>\n      <td>speedLimit_1324866807.avi</td>\n      <td>2</td>\n    </tr>\n    <tr>\n      <th>7852</th>\n      <td>vid9/frameAnnotations-MVI_0121.MOV_annotations...</td>\n      <td>speedLimit35</td>\n      <td>546</td>\n      <td>208</td>\n      <td>564</td>\n      <td>230</td>\n      <td>0,0</td>\n      <td>vid9/MVI_0121.MOV</td>\n      <td>8880</td>\n      <td>speedLimit_1324866807.avi</td>\n      <td>7</td>\n    </tr>\n    <tr>\n      <th>7853</th>\n      <td>vid9/frameAnnotations-MVI_0121.MOV_annotations...</td>\n      <td>speedLimit35</td>\n      <td>573</td>\n      <td>204</td>\n      <td>592</td>\n      <td>228</td>\n      <td>0,0</td>\n      <td>vid9/MVI_0121.MOV</td>\n      <td>8885</td>\n      <td>speedLimit_1324866807.avi</td>\n      <td>12</td>\n    </tr>\n    <tr>\n      <th>7854</th>\n      <td>vid9/frameAnnotations-MVI_0121.MOV_annotations...</td>\n      <td>speedLimit35</td>\n      <td>604</td>\n      <td>196</td>\n      <td>628</td>\n      <td>223</td>\n      <td>0,0</td>\n      <td>vid9/MVI_0121.MOV</td>\n      <td>8890</td>\n      <td>speedLimit_1324866807.avi</td>\n      <td>17</td>\n    </tr>\n  </tbody>\n</table>\n<p>7855 rows × 11 columns</p>\n</div>"
     },
     "execution_count": 2,
     "metadata": {},
     "output_type": "execute_result"
    }
   ],
   "source": [
    "all_ann = pd.read_csv(\"lib/datasets/LISA/allAnnotations.csv\", delimiter=';')\n",
    "all_ann"
   ]
  },
  {
   "cell_type": "code",
   "execution_count": 3,
   "metadata": {
    "pycharm": {
     "name": "#%%\n"
    }
   },
   "outputs": [],
   "source": [
    "#max image size\n",
    "height = 50\n",
    "width = 50\n",
    "data = []\n",
    "labels = []\n",
    "path = \"lib/datasets/LISA/\"\n",
    "test = 0\n",
    "for i in range(len(all_ann[\"Filename\"])):\n",
    "    file = all_ann[\"Filename\"][i]\n",
    "    sign = all_ann[\"Annotation tag\"][i]\n",
    "    image = Image.open(path+file)\n",
    "    image = image.resize((width,height))\n",
    "    image = np.asarray(image)\n",
    "    data.append(image)\n",
    "    labels.append(sign)\n",
    "\n",
    "\n",
    "signs = np.array(data)\n",
    "labels = np.array(labels)\n",
    "\n",
    "# Randomize order\n",
    "s = np.arange(signs.shape[0])\n",
    "np.random.seed(43)\n",
    "np.random.shuffle(s)\n",
    "signs = signs[s]\n",
    "labels = labels[s]"
   ]
  },
  {
   "cell_type": "code",
   "execution_count": null,
   "metadata": {
    "pycharm": {
     "is_executing": true,
     "name": "#%%\n"
    }
   },
   "outputs": [],
   "source": [
    "from sklearn.model_selection import train_test_split\n",
    "\n",
    "X_train, X_test, y_train, y_test = train_test_split(signs, labels, test_size=0.2, random_state=1)\n",
    "X_train, X_val, y_train, y_val = train_test_split(X_train, y_train, test_size=0.25, random_state=1)\n",
    "\n",
    "# Preprocess\n",
    "X_train = np.reshape(X_train, (X_train.shape[0], -1)).astype('float64')\n",
    "X_val = np.reshape(X_val, (X_val.shape[0], -1)).astype('float64')\n",
    "X_test = np.reshape(X_test, (X_test.shape[0], -1)).astype('float64')\n",
    "\n",
    "# Normalize\n",
    "mean_image = np.mean(X_train, axis = 0)\n",
    "X_train -= mean_image\n",
    "X_val -= mean_image\n",
    "X_test -= mean_image\n",
    "\n",
    "# Encode\n",
    "lab = np.unique(labels)"
   ]
  },
  {
   "cell_type": "code",
   "execution_count": 4,
   "metadata": {
    "pycharm": {
     "name": "#%%\n"
    }
   },
   "outputs": [
    {
     "data": {
      "text/plain": "array(['addedLane', 'curveLeft', 'curveRight', 'dip', 'doNotEnter',\n       'doNotPass', 'intersection', 'keepRight', 'laneEnds', 'merge',\n       'noLeftTurn', 'noRightTurn', 'pedestrianCrossing',\n       'rampSpeedAdvisory20', 'rampSpeedAdvisory35',\n       'rampSpeedAdvisory40', 'rampSpeedAdvisory45',\n       'rampSpeedAdvisory50', 'rampSpeedAdvisoryUrdbl',\n       'rightLaneMustTurn', 'roundabout', 'school', 'schoolSpeedLimit25',\n       'signalAhead', 'slow', 'speedLimit15', 'speedLimit25',\n       'speedLimit30', 'speedLimit35', 'speedLimit40', 'speedLimit45',\n       'speedLimit50', 'speedLimit55', 'speedLimit65', 'speedLimitUrdbl',\n       'stop', 'stopAhead', 'thruMergeLeft', 'thruMergeRight',\n       'thruTrafficMergeLeft', 'truckSpeedLimit55', 'turnLeft',\n       'turnRight', 'yield', 'yieldAhead', 'zoneAhead25', 'zoneAhead45'],\n      dtype='<U22')"
     },
     "execution_count": 4,
     "metadata": {},
     "output_type": "execute_result"
    }
   ],
   "source": [
    "np.unique(labels)"
   ]
  }
 ],
 "metadata": {
  "kernelspec": {
   "display_name": "Python 3 (ipykernel)",
   "language": "python",
   "name": "python3"
  },
  "language_info": {
   "codemirror_mode": {
    "name": "ipython",
    "version": 3
   },
   "file_extension": ".py",
   "mimetype": "text/x-python",
   "name": "python",
   "nbconvert_exporter": "python",
   "pygments_lexer": "ipython3",
   "version": "3.7.1"
  }
 },
 "nbformat": 4,
 "nbformat_minor": 1
}