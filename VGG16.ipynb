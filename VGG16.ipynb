{
 "cells": [
  {
   "cell_type": "markdown",
   "source": [
    "# VGG16 Implementation"
   ],
   "metadata": {
    "collapsed": false,
    "pycharm": {
     "name": "#%% md\n"
    }
   }
  },
  {
   "cell_type": "code",
   "execution_count": 1,
   "outputs": [],
   "source": [
    "import pandas as pd\n",
    "import numpy as np\n",
    "from PIL import Image\n",
    "import cv2\n",
    "import tensorflow as tf"
   ],
   "metadata": {
    "collapsed": false,
    "pycharm": {
     "name": "#%%\n"
    }
   }
  },
  {
   "cell_type": "code",
   "execution_count": 2,
   "id": "8cfecfc5",
   "metadata": {},
   "outputs": [],
   "source": [
    "X_train = np.load(\"lib/datasets/X_train.npy\")\n",
    "X_test = np.load(\"lib/datasets/X_test.npy\" )\n",
    "X_val = np.load(\"lib/datasets/X_val.npy\")\n",
    "y_train_e = np.load(\"lib/datasets/y_train_e.npy\")\n",
    "y_test_e = np.load(\"lib/datasets/y_test_e.npy\")\n",
    "y_val_e = np.load(\"lib/datasets/y_val_e.npy\" )"
   ]
  },
  {
   "cell_type": "code",
   "execution_count": 3,
   "id": "30e1ecd7",
   "metadata": {},
   "outputs": [
    {
     "data": {
      "text/plain": [
       "(1371, 224, 224, 3)"
      ]
     },
     "execution_count": 3,
     "metadata": {},
     "output_type": "execute_result"
    }
   ],
   "source": [
    "X_test.shape"
   ]
  },
  {
   "cell_type": "markdown",
   "source": [
    "## VGG16"
   ],
   "metadata": {
    "collapsed": false,
    "pycharm": {
     "name": "#%% md\n"
    }
   }
  },
  {
   "cell_type": "code",
   "execution_count": 4,
   "id": "1db90a6c",
   "metadata": {},
   "outputs": [],
   "source": [
    "from keras.models import Sequential\n",
    "from keras.layers import Conv2D, MaxPool2D, Dense, Flatten, Dropout, ZeroPadding2D, BatchNormalization"
   ]
  },
  {
   "cell_type": "code",
   "execution_count": 6,
   "id": "eccf2898",
   "metadata": {},
   "outputs": [],
   "source": [
    "model = Sequential()\n",
    "model.add(Conv2D(input_shape=(224,224,3),filters=64,kernel_size=(3,3),padding=\"same\", activation=\"relu\"))\n",
    "model.add(Conv2D(filters=64,kernel_size=(3,3),padding=\"same\", activation=\"relu\"))\n",
    "model.add(MaxPool2D(pool_size=(2,2),strides=(2,2)))\n",
    "model.add(Conv2D(filters=128, kernel_size=(3,3), padding=\"same\", activation=\"relu\"))\n",
    "model.add(Conv2D(filters=128, kernel_size=(3,3), padding=\"same\", activation=\"relu\"))\n",
    "model.add(MaxPool2D(pool_size=(2,2),strides=(2,2)))\n",
    "model.add(Conv2D(filters=256, kernel_size=(3,3), padding=\"same\", activation=\"relu\"))\n",
    "model.add(Conv2D(filters=256, kernel_size=(3,3), padding=\"same\", activation=\"relu\"))\n",
    "model.add(Conv2D(filters=256, kernel_size=(3,3), padding=\"same\", activation=\"relu\"))\n",
    "model.add(MaxPool2D(pool_size=(2,2),strides=(2,2)))\n",
    "model.add(Conv2D(filters=512, kernel_size=(3,3), padding=\"same\", activation=\"relu\"))\n",
    "model.add(Conv2D(filters=512, kernel_size=(3,3), padding=\"same\", activation=\"relu\"))\n",
    "model.add(Conv2D(filters=512, kernel_size=(3,3), padding=\"same\", activation=\"relu\"))\n",
    "model.add(MaxPool2D(pool_size=(2,2),strides=(2,2)))\n",
    "model.add(Conv2D(filters=512, kernel_size=(3,3), padding=\"same\", activation=\"relu\"))\n",
    "model.add(Conv2D(filters=512, kernel_size=(3,3), padding=\"same\", activation=\"relu\"))\n",
    "model.add(Conv2D(filters=512, kernel_size=(3,3), padding=\"same\", activation=\"relu\"))\n",
    "model.add(MaxPool2D(pool_size=(2,2),strides=(2,2)))\n",
    "model.add(Flatten())\n",
    "model.add(Dense(units=4096,activation=\"relu\"))\n",
    "model.add(Dropout(rate=0.5))\n",
    "model.add(Dense(units=4096,activation=\"relu\"))\n",
    "model.add(Dropout(rate=0.5))\n",
    "model.add(Dense(units=48, activation=\"softmax\"))\n",
    "model.compile(optimizer=tf.optimizers.SGD(learning_rate=0.001),\n",
    "              loss=\"sparse_categorical_crossentropy\", metrics=['accuracy'])\n",
    "callback = tf.keras.callbacks.ReduceLROnPlateau(\n",
    "    monitor='val_accuracy', factor=0.1, patience=5, verbose=1,\n",
    "    mode='max', min_delta=0.0001, cooldown=2, min_lr=0)"
   ]
  },
  {
   "cell_type": "code",
   "execution_count": 7,
   "id": "a9689ddf",
   "metadata": {},
   "outputs": [
    {
     "name": "stdout",
     "output_type": "stream",
     "text": [
      "Epoch 1/40\n",
      "129/129 [==============================] - 54s 342ms/step - loss: 2.9646 - accuracy: 0.2463 - val_loss: 2.6396 - val_accuracy: 0.2954 - lr: 0.0010\n",
      "Epoch 2/40\n",
      "129/129 [==============================] - 39s 303ms/step - loss: 2.6661 - accuracy: 0.3012 - val_loss: 2.5091 - val_accuracy: 0.3465 - lr: 0.0010\n",
      "Epoch 3/40\n",
      "129/129 [==============================] - 39s 300ms/step - loss: 2.5732 - accuracy: 0.3124 - val_loss: 2.4671 - val_accuracy: 0.3290 - lr: 0.0010\n",
      "Epoch 4/40\n",
      "129/129 [==============================] - 39s 299ms/step - loss: 2.5018 - accuracy: 0.3328 - val_loss: 2.4141 - val_accuracy: 0.3297 - lr: 0.0010\n",
      "Epoch 5/40\n",
      "129/129 [==============================] - 38s 298ms/step - loss: 2.4461 - accuracy: 0.3328 - val_loss: 2.3456 - val_accuracy: 0.3589 - lr: 0.0010\n",
      "Epoch 6/40\n",
      "129/129 [==============================] - 38s 298ms/step - loss: 2.3869 - accuracy: 0.3516 - val_loss: 2.3204 - val_accuracy: 0.3516 - lr: 0.0010\n",
      "Epoch 7/40\n",
      "129/129 [==============================] - 38s 298ms/step - loss: 2.3523 - accuracy: 0.3618 - val_loss: 2.2653 - val_accuracy: 0.4034 - lr: 0.0010\n",
      "Epoch 8/40\n",
      "129/129 [==============================] - 38s 298ms/step - loss: 2.2993 - accuracy: 0.3693 - val_loss: 2.1737 - val_accuracy: 0.4187 - lr: 0.0010\n",
      "Epoch 9/40\n",
      "129/129 [==============================] - 38s 299ms/step - loss: 2.2310 - accuracy: 0.3931 - val_loss: 2.0727 - val_accuracy: 0.4427 - lr: 0.0010\n",
      "Epoch 10/40\n",
      "129/129 [==============================] - 39s 300ms/step - loss: 2.1787 - accuracy: 0.3934 - val_loss: 2.0345 - val_accuracy: 0.4340 - lr: 0.0010\n",
      "Epoch 11/40\n",
      "129/129 [==============================] - 39s 302ms/step - loss: 2.1037 - accuracy: 0.4148 - val_loss: 1.9636 - val_accuracy: 0.4464 - lr: 0.0010\n",
      "Epoch 12/40\n",
      "129/129 [==============================] - 39s 300ms/step - loss: 2.0368 - accuracy: 0.4291 - val_loss: 1.8433 - val_accuracy: 0.5106 - lr: 0.0010\n",
      "Epoch 13/40\n",
      "129/129 [==============================] - 38s 298ms/step - loss: 1.9405 - accuracy: 0.4556 - val_loss: 1.7040 - val_accuracy: 0.5427 - lr: 0.0010\n",
      "Epoch 14/40\n",
      "129/129 [==============================] - 39s 301ms/step - loss: 1.8499 - accuracy: 0.4743 - val_loss: 1.6865 - val_accuracy: 0.5186 - lr: 0.0010\n",
      "Epoch 15/40\n",
      "129/129 [==============================] - 39s 300ms/step - loss: 1.7748 - accuracy: 0.4979 - val_loss: 1.5695 - val_accuracy: 0.5799 - lr: 0.0010\n",
      "Epoch 16/40\n",
      "129/129 [==============================] - 39s 301ms/step - loss: 1.6758 - accuracy: 0.5164 - val_loss: 1.5055 - val_accuracy: 0.6039 - lr: 0.0010\n",
      "Epoch 17/40\n",
      "129/129 [==============================] - 39s 300ms/step - loss: 1.5922 - accuracy: 0.5366 - val_loss: 1.3748 - val_accuracy: 0.6222 - lr: 0.0010\n",
      "Epoch 18/40\n",
      "129/129 [==============================] - 39s 299ms/step - loss: 1.4729 - accuracy: 0.5682 - val_loss: 1.3971 - val_accuracy: 0.6156 - lr: 0.0010\n",
      "Epoch 19/40\n",
      "129/129 [==============================] - 39s 299ms/step - loss: 1.3725 - accuracy: 0.6083 - val_loss: 1.1362 - val_accuracy: 0.6893 - lr: 0.0010\n",
      "Epoch 20/40\n",
      "129/129 [==============================] - 39s 299ms/step - loss: 1.2913 - accuracy: 0.6246 - val_loss: 1.1336 - val_accuracy: 0.6958 - lr: 0.0010\n",
      "Epoch 21/40\n",
      "129/129 [==============================] - 39s 301ms/step - loss: 1.2079 - accuracy: 0.6460 - val_loss: 1.0070 - val_accuracy: 0.7163 - lr: 0.0010\n",
      "Epoch 22/40\n",
      "129/129 [==============================] - 39s 302ms/step - loss: 1.0837 - accuracy: 0.6703 - val_loss: 0.9322 - val_accuracy: 0.7352 - lr: 0.0010\n",
      "Epoch 23/40\n",
      "129/129 [==============================] - 39s 301ms/step - loss: 1.0149 - accuracy: 0.7009 - val_loss: 0.8318 - val_accuracy: 0.7710 - lr: 0.0010\n",
      "Epoch 24/40\n",
      "129/129 [==============================] - 39s 299ms/step - loss: 0.9294 - accuracy: 0.7272 - val_loss: 0.7895 - val_accuracy: 0.7797 - lr: 0.0010\n",
      "Epoch 25/40\n",
      "129/129 [==============================] - 39s 303ms/step - loss: 0.8727 - accuracy: 0.7428 - val_loss: 0.8332 - val_accuracy: 0.7542 - lr: 0.0010\n",
      "Epoch 26/40\n",
      "129/129 [==============================] - 39s 302ms/step - loss: 0.8218 - accuracy: 0.7629 - val_loss: 0.7057 - val_accuracy: 0.7972 - lr: 0.0010\n",
      "Epoch 27/40\n",
      "129/129 [==============================] - 39s 300ms/step - loss: 0.7524 - accuracy: 0.7753 - val_loss: 0.7032 - val_accuracy: 0.7965 - lr: 0.0010\n",
      "Epoch 28/40\n",
      "129/129 [==============================] - 39s 304ms/step - loss: 0.6683 - accuracy: 0.7963 - val_loss: 0.7829 - val_accuracy: 0.7892 - lr: 0.0010\n",
      "Epoch 29/40\n",
      "129/129 [==============================] - 39s 303ms/step - loss: 0.6361 - accuracy: 0.8101 - val_loss: 0.6246 - val_accuracy: 0.8133 - lr: 0.0010\n",
      "Epoch 30/40\n",
      "129/129 [==============================] - 40s 312ms/step - loss: 0.5994 - accuracy: 0.8283 - val_loss: 0.5976 - val_accuracy: 0.8322 - lr: 0.0010\n",
      "Epoch 31/40\n",
      "129/129 [==============================] - 39s 301ms/step - loss: 0.5696 - accuracy: 0.8283 - val_loss: 0.5731 - val_accuracy: 0.8359 - lr: 0.0010\n",
      "Epoch 32/40\n",
      "129/129 [==============================] - 39s 305ms/step - loss: 0.5386 - accuracy: 0.8359 - val_loss: 0.5844 - val_accuracy: 0.8417 - lr: 0.0010\n",
      "Epoch 33/40\n",
      "129/129 [==============================] - 39s 306ms/step - loss: 0.4934 - accuracy: 0.8514 - val_loss: 0.5618 - val_accuracy: 0.8454 - lr: 0.0010\n",
      "Epoch 34/40\n",
      "129/129 [==============================] - 39s 304ms/step - loss: 0.4633 - accuracy: 0.8536 - val_loss: 0.5569 - val_accuracy: 0.8556 - lr: 0.0010\n",
      "Epoch 35/40\n",
      "129/129 [==============================] - 39s 303ms/step - loss: 0.4496 - accuracy: 0.8621 - val_loss: 0.5186 - val_accuracy: 0.8468 - lr: 0.0010\n",
      "Epoch 36/40\n",
      "129/129 [==============================] - 39s 306ms/step - loss: 0.4337 - accuracy: 0.8665 - val_loss: 0.5598 - val_accuracy: 0.8519 - lr: 0.0010\n",
      "Epoch 37/40\n",
      "129/129 [==============================] - 39s 304ms/step - loss: 0.3869 - accuracy: 0.8799 - val_loss: 0.5320 - val_accuracy: 0.8483 - lr: 0.0010\n",
      "Epoch 38/40\n",
      "129/129 [==============================] - 39s 305ms/step - loss: 0.3758 - accuracy: 0.8855 - val_loss: 0.5046 - val_accuracy: 0.8600 - lr: 0.0010\n",
      "Epoch 39/40\n",
      "129/129 [==============================] - 39s 305ms/step - loss: 0.3511 - accuracy: 0.8972 - val_loss: 0.5188 - val_accuracy: 0.8541 - lr: 0.0010\n",
      "Epoch 40/40\n",
      "129/129 [==============================] - 39s 301ms/step - loss: 0.3448 - accuracy: 0.8923 - val_loss: 0.5451 - val_accuracy: 0.8425 - lr: 0.0010\n"
     ]
    }
   ],
   "source": [
    "#12 20 29\n",
    "epochs = 40\n",
    "#first shift after 10\n",
    "history = model.fit(X_train, y_train_e, batch_size=32, epochs=epochs, validation_data=(X_val, y_val_e), callbacks = [callback])"
   ]
  },
  {
   "cell_type": "code",
   "execution_count": 11,
   "id": "2715ee6f",
   "metadata": {},
   "outputs": [
    {
     "name": "stdout",
     "output_type": "stream",
     "text": [
      "Epoch 1/20\n",
      "129/129 [==============================] - 41s 317ms/step - loss: 0.3170 - accuracy: 0.9018 - val_loss: 0.5312 - val_accuracy: 0.8454 - lr: 0.0010\n",
      "Epoch 2/20\n",
      "129/129 [==============================] - 39s 304ms/step - loss: 0.3209 - accuracy: 0.9010 - val_loss: 0.5230 - val_accuracy: 0.8636 - lr: 0.0010\n",
      "Epoch 3/20\n",
      "129/129 [==============================] - 39s 304ms/step - loss: 0.3095 - accuracy: 0.9044 - val_loss: 0.5411 - val_accuracy: 0.8592 - lr: 0.0010\n",
      "Epoch 4/20\n",
      "129/129 [==============================] - 38s 298ms/step - loss: 0.3007 - accuracy: 0.9057 - val_loss: 0.5473 - val_accuracy: 0.8585 - lr: 0.0010\n",
      "Epoch 5/20\n",
      "129/129 [==============================] - 39s 301ms/step - loss: 0.2887 - accuracy: 0.9156 - val_loss: 0.4937 - val_accuracy: 0.8673 - lr: 0.0010\n",
      "Epoch 6/20\n",
      "129/129 [==============================] - 39s 301ms/step - loss: 0.2624 - accuracy: 0.9134 - val_loss: 0.5143 - val_accuracy: 0.8600 - lr: 0.0010\n",
      "Epoch 7/20\n",
      "129/129 [==============================] - 39s 301ms/step - loss: 0.2803 - accuracy: 0.9166 - val_loss: 0.5225 - val_accuracy: 0.8651 - lr: 0.0010\n",
      "Epoch 8/20\n",
      "129/129 [==============================] - 39s 303ms/step - loss: 0.2568 - accuracy: 0.9224 - val_loss: 0.5215 - val_accuracy: 0.8709 - lr: 0.0010\n",
      "Epoch 9/20\n",
      "129/129 [==============================] - 39s 305ms/step - loss: 0.2711 - accuracy: 0.9139 - val_loss: 0.5422 - val_accuracy: 0.8651 - lr: 0.0010\n",
      "Epoch 10/20\n",
      "129/129 [==============================] - 39s 303ms/step - loss: 0.2540 - accuracy: 0.9220 - val_loss: 0.5060 - val_accuracy: 0.8782 - lr: 0.0010\n",
      "Epoch 11/20\n",
      "129/129 [==============================] - 39s 301ms/step - loss: 0.2507 - accuracy: 0.9246 - val_loss: 0.5058 - val_accuracy: 0.8607 - lr: 0.0010\n",
      "Epoch 12/20\n",
      "129/129 [==============================] - 39s 305ms/step - loss: 0.2540 - accuracy: 0.9186 - val_loss: 0.5417 - val_accuracy: 0.8658 - lr: 0.0010\n",
      "Epoch 13/20\n",
      "129/129 [==============================] - 39s 305ms/step - loss: 0.2401 - accuracy: 0.9237 - val_loss: 0.5026 - val_accuracy: 0.8651 - lr: 0.0010\n",
      "Epoch 14/20\n",
      "129/129 [==============================] - 40s 308ms/step - loss: 0.2357 - accuracy: 0.9261 - val_loss: 0.5025 - val_accuracy: 0.8760 - lr: 0.0010\n",
      "Epoch 15/20\n",
      "129/129 [==============================] - ETA: 0s - loss: 0.2143 - accuracy: 0.9319\n",
      "Epoch 15: ReduceLROnPlateau reducing learning rate to 0.00010000000474974513.\n",
      "129/129 [==============================] - 40s 311ms/step - loss: 0.2143 - accuracy: 0.9319 - val_loss: 0.5341 - val_accuracy: 0.8673 - lr: 0.0010\n",
      "Epoch 16/20\n",
      "129/129 [==============================] - 39s 302ms/step - loss: 0.2045 - accuracy: 0.9363 - val_loss: 0.5222 - val_accuracy: 0.8709 - lr: 1.0000e-04\n",
      "Epoch 17/20\n",
      "129/129 [==============================] - 39s 300ms/step - loss: 0.1611 - accuracy: 0.9477 - val_loss: 0.5240 - val_accuracy: 0.8716 - lr: 1.0000e-04\n",
      "Epoch 18/20\n",
      "129/129 [==============================] - 39s 301ms/step - loss: 0.1758 - accuracy: 0.9431 - val_loss: 0.5149 - val_accuracy: 0.8745 - lr: 1.0000e-04\n",
      "Epoch 19/20\n",
      "129/129 [==============================] - 39s 299ms/step - loss: 0.1574 - accuracy: 0.9477 - val_loss: 0.5178 - val_accuracy: 0.8709 - lr: 1.0000e-04\n",
      "Epoch 20/20\n",
      "129/129 [==============================] - 39s 299ms/step - loss: 0.1541 - accuracy: 0.9489 - val_loss: 0.5192 - val_accuracy: 0.8731 - lr: 1.0000e-04\n"
     ]
    }
   ],
   "source": [
    "#12 20 29\n",
    "epochs = 20\n",
    "#first shift after 10\n",
    "history1 = model.fit(X_train, y_train_e, batch_size=32, epochs=epochs, validation_data=(X_val, y_val_e), callbacks = [callback])"
   ]
  },
  {
   "cell_type": "code",
   "execution_count": 16,
   "id": "2a1eb569",
   "metadata": {},
   "outputs": [
    {
     "name": "stdout",
     "output_type": "stream",
     "text": [
      "INFO:tensorflow:Assets written to: App/lib/models/VGG16\\assets\n"
     ]
    }
   ],
   "source": [
    "model.save(\"App/lib/models/VGG16_e60\")"
   ]
  },
  {
   "cell_type": "code",
   "execution_count": 18,
   "id": "b82ce5ed",
   "metadata": {},
   "outputs": [],
   "source": [
    "history60 = {}\n",
    "history60[\"accuracy\"] = history.history[\"accuracy\"] + history1.history[\"accuracy\"]\n",
    "history60[\"val_accuracy\"] = history.history[\"val_accuracy\"] + history1.history[\"val_accuracy\"]"
   ]
  },
  {
   "cell_type": "code",
   "execution_count": 19,
   "id": "fcea140c",
   "metadata": {},
   "outputs": [],
   "source": [
    "import matplotlib.pyplot as plt\n",
    "def plot60(history):\n",
    "    val = [max(history['val_accuracy']),np.argmax(history['val_accuracy'])]\n",
    "    train = [max(history['accuracy']),np.argmax(history['accuracy'])]\n",
    "\n",
    "    x_ax = list(np.linspace(0, len(history['accuracy']), num=9))\n",
    "    x_ax.append(val[1])\n",
    "    y_ax = list(np.linspace(0, 1, num=6))\n",
    "    y_ax.append(val[0])\n",
    "\n",
    "\n",
    "    plt.figure(0)\n",
    "\n",
    "    plt.plot(history['accuracy'], label='training accuracy')\n",
    "    plt.plot(history['val_accuracy'], label='val accuracy')\n",
    "\n",
    "    plt.plot(train[1], train[0], 'bo')\n",
    "    plt.plot([train[1],train[1]],[0, train[0]],':b')\n",
    "    plt.plot([0,train[1]],[train[0], train[0]],':b')\n",
    "\n",
    "    plt.plot(val[1],val[0], 'ro')\n",
    "    plt.plot([val[1],val[1]],[0, val[0]],':r')\n",
    "    plt.plot([0,val[1]],[val[0], val[0]],':r')\n",
    "\n",
    "    plt.gcf().set_size_inches(14,7)\n",
    "    plt.title('Accuracy')\n",
    "    plt.xlabel('epochs')\n",
    "    plt.xticks(x_ax)\n",
    "    plt.ylabel('accuracy')\n",
    "    plt.yticks(y_ax)\n",
    "    plt.legend()\n"
   ]
  },
  {
   "cell_type": "code",
   "execution_count": 20,
   "outputs": [
    {
     "data": {
      "image/png": "[encoded data removed]",
      "text/plain": [
       "<Figure size 1008x504 with 1 Axes>"
      ]
     },
     "metadata": {
      "needs_background": "light"
     },
     "output_type": "display_data"
    }
   ],
   "source": [
    "#224 224 40-60\n",
    "plot60(history60)"
   ],
   "metadata": {
    "collapsed": false,
    "pycharm": {
     "name": "#%%\n"
    }
   }
  },
  {
   "cell_type": "code",
   "execution_count": 22,
   "outputs": [
    {
     "name": "stdout",
     "output_type": "stream",
     "text": [
      "Accuracy: 0.8738147337709701\n"
     ]
    }
   ],
   "source": [
    "y_pred = np.argmax(model.predict(X_test),axis=1)\n",
    "from sklearn import metrics\n",
    "print(\"Accuracy:\",metrics.accuracy_score(y_test_e, y_pred))"
   ],
   "metadata": {
    "collapsed": false,
    "pycharm": {
     "name": "#%%\n"
    }
   }
  },
  {
   "cell_type": "code",
   "execution_count": 24,
   "outputs": [],
   "source": [
    "np.save(\"lib/datasets/X_train.npy\", X_train)\n",
    "np.save(\"lib/datasets/X_test.npy\", X_test)\n",
    "np.save(\"lib/datasets/X_val.npy\", X_val)\n",
    "np.save(\"lib/datasets/y_train_e.npy\", y_train_e)\n",
    "np.save(\"lib/datasets/y_test_e.npy\", y_test_e)\n",
    "np.save(\"lib/datasets/y_val_e.npy\", y_val_e)"
   ],
   "metadata": {
    "collapsed": false,
    "pycharm": {
     "name": "#%%\n"
    }
   }
  }
 ],
 "metadata": {
  "kernelspec": {
   "display_name": "Python 3 (ipykernel)",
   "language": "python",
   "name": "python3"
  },
  "language_info": {
   "codemirror_mode": {
    "name": "ipython",
    "version": 3
   },
   "file_extension": ".py",
   "mimetype": "text/x-python",
   "name": "python",
   "nbconvert_exporter": "python",
   "pygments_lexer": "ipython3",
   "version": "3.7.11"
  }
 },
 "nbformat": 4,
 "nbformat_minor": 5
}